{
 "cells": [
  {
   "cell_type": "code",
   "execution_count": 503,
   "metadata": {},
   "outputs": [],
   "source": [
    "import pandas as pd\n",
    "import numpy as np\n",
    "import tensorflow as tf\n",
    "import datetime\n",
    "import os\n",
    "import matplotlib.pyplot as plt\n",
    "import scipy\n",
    "from scipy import signal"
   ]
  },
  {
   "cell_type": "markdown",
   "metadata": {},
   "source": [
    "# Derive ON Signatures"
   ]
  },
  {
   "cell_type": "code",
   "execution_count": 521,
   "metadata": {},
   "outputs": [],
   "source": [
    "SIG_SIZE = 90 # 1 sec contains 30 samples ; 3 seconds 90 samples.\n",
    "THRSHLD =30\n",
    "db = np.array([])\n",
    "name = []\n",
    "appliances = ['ceilingfan','drill', 'fan', 'hairdryer', 'heater', 'induction', 'iron', 'spinner', 'toaster', 'washing machine']"
   ]
  },
  {
   "cell_type": "code",
   "execution_count": 523,
   "metadata": {},
   "outputs": [],
   "source": [
    "def get_train_sig(appliances,db,name):\n",
    "    for appliance_name in appliances:\n",
    "        data = pd.read_csv(f'../{appliance_name}.txt')\n",
    "        data['Active Power']= abs(data['Active Power'])\n",
    "        data['T'] = pd.to_datetime(data['T'])\n",
    "        data = data.set_index(data['T'])\n",
    "        data =  data.resample('33ms').mean()\n",
    "        data = data.dropna()\n",
    "        data = scipy.signal.medfilt(data['Active Power'], kernel_size=None)\n",
    "        dbydx = np.gradient(data)\n",
    "        on_events = []\n",
    "        for idx,x in enumerate(dbydx):\n",
    "            if x> THRSHLD:\n",
    "                on_events.append(idx)\n",
    "        for x in on_events:\n",
    "            sig = data[x:x+SIG_SIZE]\n",
    "            if len(sig) == SIG_SIZE:\n",
    "                db = np.append(db,sig,axis = 0)\n",
    "                name.append(f'{appliance_name}')\n",
    "    return db, name\n",
    "\n",
    "db, name = get_train_sig(appliances,db,name)"
   ]
  },
  {
   "cell_type": "code",
   "execution_count": 524,
   "metadata": {},
   "outputs": [],
   "source": [
    "db = db.reshape((db.shape[0]//SIG_SIZE,SIG_SIZE))"
   ]
  },
  {
   "cell_type": "code",
   "execution_count": 525,
   "metadata": {},
   "outputs": [
    {
     "data": {
      "text/plain": [
       "(1841, (1841, 90))"
      ]
     },
     "execution_count": 525,
     "metadata": {},
     "output_type": "execute_result"
    }
   ],
   "source": [
    "len(db),db.shape"
   ]
  },
  {
   "cell_type": "markdown",
   "metadata": {},
   "source": [
    "# Using Simple Models"
   ]
  },
  {
   "cell_type": "code",
   "execution_count": 526,
   "metadata": {},
   "outputs": [],
   "source": [
    "def train_model(db, name):\n",
    "    \n",
    "    from sklearn.ensemble import RandomForestClassifier\n",
    "\n",
    "    clf = RandomForestClassifier()\n",
    "\n",
    "    from sklearn.model_selection import train_test_split\n",
    "\n",
    "    X = db\n",
    "    y = name\n",
    "\n",
    "    X_train , X_test , y_train , y_test = train_test_split(X,y,test_size = 0.2,random_state=42)\n",
    "\n",
    "    clf.fit(X_train,y_train)\n",
    "    \n",
    "    return clf,X_test,y_test\n",
    "\n",
    "clf,X_test,y_test = train_model(db,name)"
   ]
  },
  {
   "cell_type": "code",
   "execution_count": 527,
   "metadata": {},
   "outputs": [
    {
     "name": "stdout",
     "output_type": "stream",
     "text": [
      "Total number of predictions = 369\n",
      " Number of False predictions = 21\n",
      " Number of True predictions= 348\n",
      " Accuracy = 94.31%\n"
     ]
    }
   ],
   "source": [
    "def pred_mains(clf,X_test,y_test=[]):\n",
    "    if len(y_test) != 0:\n",
    "        pred = clf.predict(X_test)\n",
    "        preds = pred == y_test\n",
    "        print(f'Total number of predictions = {preds.size}\\n',\n",
    "              f'Number of {np.unique(preds,return_counts=True)[0][0]} predictions = {np.unique(preds,return_counts=True)[1][0]}\\n',\n",
    "              f'Number of {np.unique(preds,return_counts=True)[0][1]} predictions= {np.unique(preds,return_counts=True)[1][1]}\\n',\n",
    "              f'Accuracy = {(np.unique(preds,return_counts=True)[1][1])/(preds.size)*100:.2f}%')\n",
    "        return pred\n",
    "    else:\n",
    "        return clf.predict(X_test)\n",
    "\n",
    "preds = pred_mains(clf,X_test,y_test)"
   ]
  },
  {
   "cell_type": "markdown",
   "metadata": {},
   "source": [
    "# Create Dummy Data"
   ]
  },
  {
   "cell_type": "code",
   "execution_count": 528,
   "metadata": {},
   "outputs": [],
   "source": [
    "def dummy(appliances):\n",
    "    length = 27000\n",
    "\n",
    "    vamp = (np.array([4]*length))\n",
    "    for ix, appliance_name in enumerate(appliances):\n",
    "        data = pd.read_csv(f'../{appliance_name}.txt')\n",
    "        data['Active Power']= abs(data['Active Power'])\n",
    "        data['T'] = pd.to_datetime(data['T'])\n",
    "        data = data.set_index(data['T'])\n",
    "        data =  data.resample('33ms').mean()\n",
    "        data = data.dropna()\n",
    "        data = scipy.signal.medfilt(data['Active Power'], kernel_size=None)\n",
    "        dbydx =(np.gradient(data))\n",
    "        on_events = []\n",
    "        for idx,x in enumerate(dbydx):\n",
    "            if x> THRSHLD:\n",
    "                on_events.append(idx)\n",
    "        for e in on_events:\n",
    "            if data[e-1] < 10:\n",
    "                x=e\n",
    "                break\n",
    "        mltplr = 1000*(1 + ix)\n",
    "        sig = data[x:x+SIG_SIZE]\n",
    "        if len(sig) == SIG_SIZE:\n",
    "            sig = np.array(sig,dtype=float)\n",
    "            _ = sig[-1]\n",
    "            sig = np.append(sig,np.array([_]*(length-SIG_SIZE)))\n",
    "            sig[2500:] = 0\n",
    "            vamp[mltplr:] = np.add(vamp[mltplr:],sig[:(length-mltplr)])\n",
    "    return vamp"
   ]
  },
  {
   "cell_type": "code",
   "execution_count": 529,
   "metadata": {
    "scrolled": true
   },
   "outputs": [
    {
     "data": {
      "image/png": "[encoded data removed]",
      "text/plain": [
       "<Figure size 432x288 with 1 Axes>"
      ]
     },
     "metadata": {
      "needs_background": "light"
     },
     "output_type": "display_data"
    }
   ],
   "source": [
    "vamp = dummy(appliances)\n",
    "plt.plot(vamp);"
   ]
  },
  {
   "cell_type": "markdown",
   "metadata": {},
   "source": [
    "pd.Series(vamp).to_csv('../track_test.txt',index = False)"
   ]
  },
  {
   "cell_type": "markdown",
   "metadata": {},
   "source": [
    "# Scenario"
   ]
  },
  {
   "cell_type": "code",
   "execution_count": 530,
   "metadata": {},
   "outputs": [],
   "source": [
    "def get_value(indx):\n",
    "    return vamp[indx:indx+SIG_SIZE]"
   ]
  },
  {
   "cell_type": "code",
   "execution_count": 531,
   "metadata": {},
   "outputs": [],
   "source": [
    "vamp_db = np.array([])\n",
    "data = scipy.signal.medfilt(vamp, kernel_size=None)\n",
    "dbydx = (np.gradient(data))\n",
    "on_events = []\n",
    "for idx,x in enumerate(dbydx):\n",
    "    if x > THRSHLD:\n",
    "        on_events.append(idx)\n",
    "for x in on_events:\n",
    "#     print(on_events)\n",
    "    for y in range(x+1,x+90): # to remove false turn on signatures, give delay for transition\n",
    "        if y in on_events:\n",
    "            on_events.remove(y)\n",
    "            \n",
    "for x in on_events:\n",
    "    sig = data[x:x+SIG_SIZE]\n",
    "    sig = sig - data[x-270:x].mean()\n",
    "    if len(sig) == SIG_SIZE:\n",
    "        vamp_db = np.append(vamp_db, sig, axis = 0)"
   ]
  },
  {
   "cell_type": "code",
   "execution_count": 532,
   "metadata": {},
   "outputs": [],
   "source": [
    "vamp_db = vamp_db.reshape((vamp_db.shape[0]//SIG_SIZE,SIG_SIZE))"
   ]
  },
  {
   "cell_type": "code",
   "execution_count": 533,
   "metadata": {},
   "outputs": [
    {
     "data": {
      "text/plain": [
       "(10, 90)"
      ]
     },
     "execution_count": 533,
     "metadata": {},
     "output_type": "execute_result"
    }
   ],
   "source": [
    "vamp_db.shape"
   ]
  },
  {
   "cell_type": "markdown",
   "metadata": {},
   "source": [
    "# Major Categorical Classification"
   ]
  },
  {
   "cell_type": "code",
   "execution_count": 534,
   "metadata": {},
   "outputs": [],
   "source": [
    "test_preds = clf.predict(vamp_db)"
   ]
  },
  {
   "cell_type": "markdown",
   "metadata": {},
   "source": [
    "df = pd.DataFrame({'Location':on_events,\n",
    "             'Prediction': test_preds,\n",
    "                  'actual':'na'})"
   ]
  },
  {
   "cell_type": "code",
   "execution_count": 535,
   "metadata": {
    "scrolled": true
   },
   "outputs": [],
   "source": [
    "for idx, x in enumerate(df['Location']):\n",
    "    if x < 2000:\n",
    "        df.loc[[idx],[\"actual\"]] = appliances[0]\n",
    "    elif x < 3000 and x >= 2000:\n",
    "        df.loc[[idx],[\"actual\"]] = appliances[1]\n",
    "    elif x < 4000 and x >= 3000:\n",
    "        df.loc[[idx],[\"actual\"]] = appliances[2]\n",
    "    elif x < 5000 and x >= 4000:\n",
    "        df.loc[[idx],[\"actual\"]] = appliances[3]\n",
    "    elif x < 6000 and x >= 5000:\n",
    "        df.loc[[idx],[\"actual\"]] = appliances[4]\n",
    "    elif x < 7000 and x >= 6000:\n",
    "        df.loc[[idx],[\"actual\"]] = appliances[5]\n",
    "    elif x < 8000 and x >= 7000:\n",
    "        df.loc[[idx],[\"actual\"]] = appliances[6]\n",
    "    elif x < 9000 and x >= 8000:\n",
    "        df.loc[[idx],[\"actual\"]] = appliances[7]\n",
    "    elif x < 10000 and x >= 9000:\n",
    "        df.loc[[idx],[\"actual\"]] = appliances[8]\n",
    "    elif x < 11000 and x >= 10000:\n",
    "        df.loc[[idx],[\"actual\"]] = appliances[9]"
   ]
  },
  {
   "cell_type": "code",
   "execution_count": 536,
   "metadata": {
    "scrolled": true
   },
   "outputs": [
    {
     "data": {
      "text/html": [
       "<div>\n",
       "<style scoped>\n",
       "    .dataframe tbody tr th:only-of-type {\n",
       "        vertical-align: middle;\n",
       "    }\n",
       "\n",
       "    .dataframe tbody tr th {\n",
       "        vertical-align: top;\n",
       "    }\n",
       "\n",
       "    .dataframe thead th {\n",
       "        text-align: right;\n",
       "    }\n",
       "</style>\n",
       "<table border=\"1\" class=\"dataframe\">\n",
       "  <thead>\n",
       "    <tr style=\"text-align: right;\">\n",
       "      <th></th>\n",
       "      <th>Location</th>\n",
       "      <th>Prediction</th>\n",
       "      <th>actual</th>\n",
       "    </tr>\n",
       "  </thead>\n",
       "  <tbody>\n",
       "    <tr>\n",
       "      <th>0</th>\n",
       "      <td>1000</td>\n",
       "      <td>ceilingfan</td>\n",
       "      <td>ceilingfan</td>\n",
       "    </tr>\n",
       "    <tr>\n",
       "      <th>1</th>\n",
       "      <td>2000</td>\n",
       "      <td>drill</td>\n",
       "      <td>drill</td>\n",
       "    </tr>\n",
       "    <tr>\n",
       "      <th>2</th>\n",
       "      <td>3000</td>\n",
       "      <td>fan</td>\n",
       "      <td>fan</td>\n",
       "    </tr>\n",
       "    <tr>\n",
       "      <th>3</th>\n",
       "      <td>4000</td>\n",
       "      <td>hairdryer</td>\n",
       "      <td>hairdryer</td>\n",
       "    </tr>\n",
       "    <tr>\n",
       "      <th>4</th>\n",
       "      <td>5000</td>\n",
       "      <td>heater</td>\n",
       "      <td>heater</td>\n",
       "    </tr>\n",
       "    <tr>\n",
       "      <th>5</th>\n",
       "      <td>6000</td>\n",
       "      <td>induction</td>\n",
       "      <td>induction</td>\n",
       "    </tr>\n",
       "    <tr>\n",
       "      <th>6</th>\n",
       "      <td>7000</td>\n",
       "      <td>iron</td>\n",
       "      <td>iron</td>\n",
       "    </tr>\n",
       "    <tr>\n",
       "      <th>7</th>\n",
       "      <td>8000</td>\n",
       "      <td>spinner</td>\n",
       "      <td>spinner</td>\n",
       "    </tr>\n",
       "    <tr>\n",
       "      <th>8</th>\n",
       "      <td>9000</td>\n",
       "      <td>toaster</td>\n",
       "      <td>toaster</td>\n",
       "    </tr>\n",
       "    <tr>\n",
       "      <th>9</th>\n",
       "      <td>10000</td>\n",
       "      <td>washing machine</td>\n",
       "      <td>washing machine</td>\n",
       "    </tr>\n",
       "  </tbody>\n",
       "</table>\n",
       "</div>"
      ],
      "text/plain": [
       "   Location       Prediction           actual\n",
       "0      1000       ceilingfan       ceilingfan\n",
       "1      2000            drill            drill\n",
       "2      3000              fan              fan\n",
       "3      4000        hairdryer        hairdryer\n",
       "4      5000           heater           heater\n",
       "5      6000        induction        induction\n",
       "6      7000             iron             iron\n",
       "7      8000          spinner          spinner\n",
       "8      9000          toaster          toaster\n",
       "9     10000  washing machine  washing machine"
      ]
     },
     "execution_count": 536,
     "metadata": {},
     "output_type": "execute_result"
    }
   ],
   "source": [
    "df"
   ]
  },
  {
   "cell_type": "code",
   "execution_count": 537,
   "metadata": {},
   "outputs": [],
   "source": [
    "test_preds_proba = clf.predict_proba(vamp_db)"
   ]
  },
  {
   "cell_type": "code",
   "execution_count": 538,
   "metadata": {
    "scrolled": true
   },
   "outputs": [
    {
     "data": {
      "text/html": [
       "<div>\n",
       "<style scoped>\n",
       "    .dataframe tbody tr th:only-of-type {\n",
       "        vertical-align: middle;\n",
       "    }\n",
       "\n",
       "    .dataframe tbody tr th {\n",
       "        vertical-align: top;\n",
       "    }\n",
       "\n",
       "    .dataframe thead th {\n",
       "        text-align: right;\n",
       "    }\n",
       "</style>\n",
       "<table border=\"1\" class=\"dataframe\">\n",
       "  <thead>\n",
       "    <tr style=\"text-align: right;\">\n",
       "      <th></th>\n",
       "      <th>ceilingfan</th>\n",
       "      <th>drill</th>\n",
       "      <th>fan</th>\n",
       "      <th>hairdryer</th>\n",
       "      <th>heater</th>\n",
       "      <th>induction</th>\n",
       "      <th>iron</th>\n",
       "      <th>spinner</th>\n",
       "      <th>toaster</th>\n",
       "      <th>washing machine</th>\n",
       "    </tr>\n",
       "  </thead>\n",
       "  <tbody>\n",
       "    <tr>\n",
       "      <th>0</th>\n",
       "      <td>0.99</td>\n",
       "      <td>0.0</td>\n",
       "      <td>0.00</td>\n",
       "      <td>0.00</td>\n",
       "      <td>0.0</td>\n",
       "      <td>0.01</td>\n",
       "      <td>0.0</td>\n",
       "      <td>0.00</td>\n",
       "      <td>0.00</td>\n",
       "      <td>0.00</td>\n",
       "    </tr>\n",
       "    <tr>\n",
       "      <th>1</th>\n",
       "      <td>0.02</td>\n",
       "      <td>0.9</td>\n",
       "      <td>0.08</td>\n",
       "      <td>0.00</td>\n",
       "      <td>0.0</td>\n",
       "      <td>0.00</td>\n",
       "      <td>0.0</td>\n",
       "      <td>0.00</td>\n",
       "      <td>0.00</td>\n",
       "      <td>0.00</td>\n",
       "    </tr>\n",
       "    <tr>\n",
       "      <th>2</th>\n",
       "      <td>0.00</td>\n",
       "      <td>0.1</td>\n",
       "      <td>0.89</td>\n",
       "      <td>0.00</td>\n",
       "      <td>0.0</td>\n",
       "      <td>0.00</td>\n",
       "      <td>0.0</td>\n",
       "      <td>0.01</td>\n",
       "      <td>0.00</td>\n",
       "      <td>0.00</td>\n",
       "    </tr>\n",
       "    <tr>\n",
       "      <th>3</th>\n",
       "      <td>0.00</td>\n",
       "      <td>0.0</td>\n",
       "      <td>0.00</td>\n",
       "      <td>1.00</td>\n",
       "      <td>0.0</td>\n",
       "      <td>0.00</td>\n",
       "      <td>0.0</td>\n",
       "      <td>0.00</td>\n",
       "      <td>0.00</td>\n",
       "      <td>0.00</td>\n",
       "    </tr>\n",
       "    <tr>\n",
       "      <th>4</th>\n",
       "      <td>0.00</td>\n",
       "      <td>0.0</td>\n",
       "      <td>0.00</td>\n",
       "      <td>0.00</td>\n",
       "      <td>1.0</td>\n",
       "      <td>0.00</td>\n",
       "      <td>0.0</td>\n",
       "      <td>0.00</td>\n",
       "      <td>0.00</td>\n",
       "      <td>0.00</td>\n",
       "    </tr>\n",
       "    <tr>\n",
       "      <th>5</th>\n",
       "      <td>0.00</td>\n",
       "      <td>0.0</td>\n",
       "      <td>0.00</td>\n",
       "      <td>0.17</td>\n",
       "      <td>0.0</td>\n",
       "      <td>0.83</td>\n",
       "      <td>0.0</td>\n",
       "      <td>0.00</td>\n",
       "      <td>0.00</td>\n",
       "      <td>0.00</td>\n",
       "    </tr>\n",
       "    <tr>\n",
       "      <th>6</th>\n",
       "      <td>0.00</td>\n",
       "      <td>0.0</td>\n",
       "      <td>0.00</td>\n",
       "      <td>0.07</td>\n",
       "      <td>0.0</td>\n",
       "      <td>0.02</td>\n",
       "      <td>0.9</td>\n",
       "      <td>0.00</td>\n",
       "      <td>0.01</td>\n",
       "      <td>0.00</td>\n",
       "    </tr>\n",
       "    <tr>\n",
       "      <th>7</th>\n",
       "      <td>0.00</td>\n",
       "      <td>0.0</td>\n",
       "      <td>0.00</td>\n",
       "      <td>0.01</td>\n",
       "      <td>0.0</td>\n",
       "      <td>0.00</td>\n",
       "      <td>0.0</td>\n",
       "      <td>0.99</td>\n",
       "      <td>0.00</td>\n",
       "      <td>0.00</td>\n",
       "    </tr>\n",
       "    <tr>\n",
       "      <th>8</th>\n",
       "      <td>0.00</td>\n",
       "      <td>0.0</td>\n",
       "      <td>0.00</td>\n",
       "      <td>0.03</td>\n",
       "      <td>0.0</td>\n",
       "      <td>0.00</td>\n",
       "      <td>0.0</td>\n",
       "      <td>0.00</td>\n",
       "      <td>0.97</td>\n",
       "      <td>0.00</td>\n",
       "    </tr>\n",
       "    <tr>\n",
       "      <th>9</th>\n",
       "      <td>0.00</td>\n",
       "      <td>0.0</td>\n",
       "      <td>0.00</td>\n",
       "      <td>0.00</td>\n",
       "      <td>0.0</td>\n",
       "      <td>0.00</td>\n",
       "      <td>0.0</td>\n",
       "      <td>0.17</td>\n",
       "      <td>0.00</td>\n",
       "      <td>0.83</td>\n",
       "    </tr>\n",
       "  </tbody>\n",
       "</table>\n",
       "</div>"
      ],
      "text/plain": [
       "   ceilingfan  drill   fan  hairdryer  heater  induction  iron  spinner  \\\n",
       "0        0.99    0.0  0.00       0.00     0.0       0.01   0.0     0.00   \n",
       "1        0.02    0.9  0.08       0.00     0.0       0.00   0.0     0.00   \n",
       "2        0.00    0.1  0.89       0.00     0.0       0.00   0.0     0.01   \n",
       "3        0.00    0.0  0.00       1.00     0.0       0.00   0.0     0.00   \n",
       "4        0.00    0.0  0.00       0.00     1.0       0.00   0.0     0.00   \n",
       "5        0.00    0.0  0.00       0.17     0.0       0.83   0.0     0.00   \n",
       "6        0.00    0.0  0.00       0.07     0.0       0.02   0.9     0.00   \n",
       "7        0.00    0.0  0.00       0.01     0.0       0.00   0.0     0.99   \n",
       "8        0.00    0.0  0.00       0.03     0.0       0.00   0.0     0.00   \n",
       "9        0.00    0.0  0.00       0.00     0.0       0.00   0.0     0.17   \n",
       "\n",
       "   toaster  washing machine  \n",
       "0     0.00             0.00  \n",
       "1     0.00             0.00  \n",
       "2     0.00             0.00  \n",
       "3     0.00             0.00  \n",
       "4     0.00             0.00  \n",
       "5     0.00             0.00  \n",
       "6     0.01             0.00  \n",
       "7     0.00             0.00  \n",
       "8     0.97             0.00  \n",
       "9     0.00             0.83  "
      ]
     },
     "execution_count": 538,
     "metadata": {},
     "output_type": "execute_result"
    }
   ],
   "source": [
    "pd.DataFrame(test_preds_proba,columns=appliances)"
   ]
  },
  {
   "cell_type": "markdown",
   "metadata": {},
   "source": [
    "# Tracking Devices"
   ]
  },
  {
   "cell_type": "code",
   "execution_count": 539,
   "metadata": {},
   "outputs": [
    {
     "data": {
      "text/html": [
       "<div>\n",
       "<style scoped>\n",
       "    .dataframe tbody tr th:only-of-type {\n",
       "        vertical-align: middle;\n",
       "    }\n",
       "\n",
       "    .dataframe tbody tr th {\n",
       "        vertical-align: top;\n",
       "    }\n",
       "\n",
       "    .dataframe thead th {\n",
       "        text-align: right;\n",
       "    }\n",
       "</style>\n",
       "<table border=\"1\" class=\"dataframe\">\n",
       "  <thead>\n",
       "    <tr style=\"text-align: right;\">\n",
       "      <th></th>\n",
       "      <th>Location</th>\n",
       "      <th>Prediction</th>\n",
       "      <th>Accuracy</th>\n",
       "    </tr>\n",
       "  </thead>\n",
       "  <tbody>\n",
       "    <tr>\n",
       "      <th>0</th>\n",
       "      <td>1000</td>\n",
       "      <td>ceilingfan</td>\n",
       "      <td>0.99</td>\n",
       "    </tr>\n",
       "    <tr>\n",
       "      <th>1</th>\n",
       "      <td>2000</td>\n",
       "      <td>drill</td>\n",
       "      <td>0.90</td>\n",
       "    </tr>\n",
       "    <tr>\n",
       "      <th>2</th>\n",
       "      <td>3000</td>\n",
       "      <td>fan</td>\n",
       "      <td>0.89</td>\n",
       "    </tr>\n",
       "    <tr>\n",
       "      <th>3</th>\n",
       "      <td>4000</td>\n",
       "      <td>hairdryer</td>\n",
       "      <td>1.00</td>\n",
       "    </tr>\n",
       "    <tr>\n",
       "      <th>4</th>\n",
       "      <td>5000</td>\n",
       "      <td>heater</td>\n",
       "      <td>1.00</td>\n",
       "    </tr>\n",
       "    <tr>\n",
       "      <th>5</th>\n",
       "      <td>6000</td>\n",
       "      <td>induction</td>\n",
       "      <td>0.83</td>\n",
       "    </tr>\n",
       "    <tr>\n",
       "      <th>6</th>\n",
       "      <td>7000</td>\n",
       "      <td>iron</td>\n",
       "      <td>0.90</td>\n",
       "    </tr>\n",
       "    <tr>\n",
       "      <th>7</th>\n",
       "      <td>8000</td>\n",
       "      <td>spinner</td>\n",
       "      <td>0.99</td>\n",
       "    </tr>\n",
       "    <tr>\n",
       "      <th>8</th>\n",
       "      <td>9000</td>\n",
       "      <td>toaster</td>\n",
       "      <td>0.97</td>\n",
       "    </tr>\n",
       "    <tr>\n",
       "      <th>9</th>\n",
       "      <td>10000</td>\n",
       "      <td>washing machine</td>\n",
       "      <td>0.83</td>\n",
       "    </tr>\n",
       "  </tbody>\n",
       "</table>\n",
       "</div>"
      ],
      "text/plain": [
       "   Location       Prediction  Accuracy\n",
       "0      1000       ceilingfan      0.99\n",
       "1      2000            drill      0.90\n",
       "2      3000              fan      0.89\n",
       "3      4000        hairdryer      1.00\n",
       "4      5000           heater      1.00\n",
       "5      6000        induction      0.83\n",
       "6      7000             iron      0.90\n",
       "7      8000          spinner      0.99\n",
       "8      9000          toaster      0.97\n",
       "9     10000  washing machine      0.83"
      ]
     },
     "execution_count": 539,
     "metadata": {},
     "output_type": "execute_result"
    }
   ],
   "source": [
    "tracking_df = pd.DataFrame({'Location':on_events,\n",
    "              'Prediction': test_preds,\n",
    "              'Accuracy':[ x.max() for x in test_preds_proba]})\n",
    "tracking_df"
   ]
  },
  {
   "cell_type": "code",
   "execution_count": 540,
   "metadata": {},
   "outputs": [
    {
     "name": "stdout",
     "output_type": "stream",
     "text": [
      "['ceilingfan', 'drill', 'fan', 'hairdryer', 'heater', 'induction', 'iron', 'spinner', 'toaster', 'washing machine']\n"
     ]
    }
   ],
   "source": [
    "print(appliances)"
   ]
  },
  {
   "cell_type": "code",
   "execution_count": 541,
   "metadata": {},
   "outputs": [
    {
     "data": {
      "text/plain": [
       "[1000, 2000, 3000, 4000, 5000, 6000, 7000, 8000, 9000, 10000]"
      ]
     },
     "execution_count": 541,
     "metadata": {},
     "output_type": "execute_result"
    }
   ],
   "source": [
    "on_events"
   ]
  },
  {
   "cell_type": "code",
   "execution_count": 542,
   "metadata": {},
   "outputs": [],
   "source": [
    "active_devices = len(on_events)"
   ]
  },
  {
   "cell_type": "code",
   "execution_count": 543,
   "metadata": {},
   "outputs": [],
   "source": [
    "import math\n",
    "from statistics import mean"
   ]
  },
  {
   "cell_type": "code",
   "execution_count": 547,
   "metadata": {},
   "outputs": [
    {
     "name": "stdout",
     "output_type": "stream",
     "text": [
      "device no. 1 turned on at location 1000 with a rise of 62.0 kWH & turned off at 3499 with a fall of 62 & ran for 83s\n",
      "device no. 2 turned on at location 2000 with a rise of 69.0 kWH & turned off at 4499 with a fall of 69 & ran for 83s\n",
      "device no. 3 turned on at location 3000 with a rise of 76.0 kWH & turned off at 5499 with a fall of 76 & ran for 83s\n",
      "device no. 4 turned on at location 4000 with a rise of 382.0 kWH & turned off at 6499 with a fall of 382 & ran for 83s\n",
      "device no. 5 turned on at location 5000 with a rise of 735.0 kWH & turned off at 7499 with a fall of 735 & ran for 83s\n",
      "device no. 6 turned on at location 6000 with a rise of 1434.0 kWH & turned off at 8499 with a fall of 1434 & ran for 83s\n",
      "device no. 7 turned on at location 7000 with a rise of 972.0 kWH & turned off at 9499 with a fall of 972 & ran for 83s\n",
      "device no. 8 turned on at location 8000 with a rise of 404.0 kWH & turned off at 10499 with a fall of 404 & ran for 83s\n",
      "device no. 9 turned on at location 9000 with a rise of 865.0 kWH & turned off at 11499 with a fall of 865 & ran for 83s\n",
      "device no. 10 turned on at location 10000 with a rise of 214.0 kWH & turned off at 12499 with a fall of 214 & ran for 83s\n"
     ]
    }
   ],
   "source": [
    "active_devices = 0\n",
    "for x in on_events:\n",
    "    active_devices += 1\n",
    "    rise = (vamp[x+270:x+270+SIG_SIZE].mean()) - (vamp[x-270:x].mean())\n",
    "    for idx, l in enumerate(vamp):\n",
    "        if l>vamp[idx+1] and idx < len(vamp):\n",
    "            fall = l - mean(vamp[idx+1:idx+91])\n",
    "            if math.isclose(fall,rise,abs_tol=(rise*1/100)):\n",
    "                loc = idx\n",
    "                break\n",
    "    duration = (loc-x)//30\n",
    "    print(f'device no. {active_devices} turned on at location {x} with a rise of {rise} kWH & turned off at {loc} with a fall of {fall} & ran for {duration}s')"
   ]
  },
  {
   "cell_type": "markdown",
   "metadata": {},
   "source": [
    "# Derive Signatures to train local database\n",
    "* **Use signatures with high probability and club them together if they are running contagiously (tracking might help) and train the local model**\n",
    "* **Once trained rerun the mains data to predict via local model**\n",
    "* **Ask to name the clubbed signatures only once**"
   ]
  },
  {
   "cell_type": "code",
   "execution_count": 23,
   "metadata": {},
   "outputs": [],
   "source": [
    "derived_db = np.array([])"
   ]
  },
  {
   "cell_type": "code",
   "execution_count": 24,
   "metadata": {},
   "outputs": [],
   "source": [
    "for idx, x in enumerate(test_preds_proba):\n",
    "    if x.max()<0.80:\n",
    "        pos = on_events[idx]\n",
    "        derived_sig = vamp[pos:pos+SIG_SIZE]\n",
    "        if len(derived_sig) == SIG_SIZE:\n",
    "            derived_db = np.append(derived_db,derived_sig,axis = 0)\n",
    "\n",
    "derived_db = derived_db.reshape((derived_db.shape[0]//90,90))"
   ]
  },
  {
   "cell_type": "code",
   "execution_count": 25,
   "metadata": {},
   "outputs": [
    {
     "data": {
      "text/plain": [
       "(0, 90)"
      ]
     },
     "execution_count": 25,
     "metadata": {},
     "output_type": "execute_result"
    }
   ],
   "source": [
    "derived_db.shape"
   ]
  },
  {
   "cell_type": "code",
   "execution_count": 26,
   "metadata": {},
   "outputs": [],
   "source": [
    "name = []\n",
    "for x in derived_db:\n",
    "    plt.plot(x)\n",
    "    plt.show()\n",
    "    new_sig = input('name this signal')\n",
    "    name.append(new_sig)"
   ]
  },
  {
   "cell_type": "code",
   "execution_count": 27,
   "metadata": {},
   "outputs": [
    {
     "data": {
      "image/png": "[encoded data removed]",
      "text/plain": [
       "<Figure size 432x288 with 1 Axes>"
      ]
     },
     "metadata": {
      "needs_background": "light"
     },
     "output_type": "display_data"
    }
   ],
   "source": [
    "plt.plot(derived_db);"
   ]
  },
  {
   "cell_type": "code",
   "execution_count": 28,
   "metadata": {},
   "outputs": [
    {
     "data": {
      "text/plain": [
       "(106, 90)"
      ]
     },
     "execution_count": 28,
     "metadata": {},
     "output_type": "execute_result"
    }
   ],
   "source": [
    "(vamp_db.shape)"
   ]
  },
  {
   "cell_type": "code",
   "execution_count": null,
   "metadata": {},
   "outputs": [],
   "source": []
  }
 ],
 "metadata": {
  "kernelspec": {
   "display_name": "Python 3",
   "language": "python",
   "name": "python3"
  },
  "language_info": {
   "codemirror_mode": {
    "name": "ipython",
    "version": 3
   },
   "file_extension": ".py",
   "mimetype": "text/x-python",
   "name": "python",
   "nbconvert_exporter": "python",
   "pygments_lexer": "ipython3",
   "version": "3.6.11"
  }
 },
 "nbformat": 4,
 "nbformat_minor": 4
}
