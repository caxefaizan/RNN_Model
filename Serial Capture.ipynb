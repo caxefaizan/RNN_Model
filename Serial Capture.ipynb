{
 "cells": [
  {
   "cell_type": "code",
   "execution_count": 968,
   "metadata": {},
   "outputs": [],
   "source": [
    "import serial\n",
    "import time\n",
    "import pandas as pd\n",
    "import scipy\n",
    "from scipy import signal\n",
    "import numpy as np\n",
    "import math\n",
    "from statistics import mean\n",
    "import datetime\n",
    "from datetime import date\n",
    "from sklearn.ensemble import RandomForestClassifier\n",
    "from sklearn.model_selection import train_test_split\n",
    "from datetime import datetime,timedelta"
   ]
  },
  {
   "cell_type": "code",
   "execution_count": 72,
   "metadata": {},
   "outputs": [],
   "source": [
    "import pickle\n",
    "global clf\n",
    "clf = pickle.load(open('testmodel.pkl','rb')) # this would be the master ml model"
   ]
  },
  {
   "cell_type": "code",
   "execution_count": 980,
   "metadata": {},
   "outputs": [],
   "source": [
    "def event_detection(data):\n",
    "    '''\n",
    "    Detects devices being turned On\n",
    "    Returns the timestamp indices where devices are turned on\n",
    "    '''\n",
    "    data = scipy.signal.medfilt(data, kernel_size=None) #remove any error spikes\n",
    "    dbydx = np.gradient(data) # find edges\n",
    "#     plt.plot(dbydx);\n",
    "    on_events = [] # maybe convert to numpy?\n",
    "    for idx,x in enumerate(dbydx):\n",
    "        if x > THRSHLD:\n",
    "            on_events.append(idx)\n",
    "    for x in on_events:\n",
    "        for y in range(x+1,x+91): # to remove false turn on signatures, give delay for transition\n",
    "            if y in on_events:\n",
    "                on_events.remove(y)\n",
    "    return on_events"
   ]
  },
  {
   "cell_type": "code",
   "execution_count": 981,
   "metadata": {},
   "outputs": [],
   "source": [
    "def get_signal (length):\n",
    "    '''\n",
    "    Takes the length of signature required, (two cases : full length, reconstruct)\n",
    "    returns signature and timestamps\n",
    "    \n",
    "    '''\n",
    "#     start = time.time() \n",
    "    count = 0\n",
    "    buffer = np.array([])\n",
    "    time_buffer = np.array([])\n",
    "    while count!= length :\n",
    "        b = ser.readline()         # read a byte string\n",
    "        string_n = b.decode(errors='ignore')  # decode byte string into Unicode  \n",
    "        try:\n",
    "            val, timestamp = string_n.split(sep = ',')\n",
    "            val = float(val) #convert string to float\n",
    "#             timestamp = pd.to_datetime(timestamp) # moved timestamp conversion to time span calculation code\n",
    "            buffer = np.append(buffer, val) # helps getting data in seconds\n",
    "            time_buffer = np.append(time_buffer,timestamp)\n",
    "            count += 1\n",
    "        except:\n",
    "            print('read failed, retrying!') # typical serial comm error\n",
    "    print(string_n)\n",
    "#     print(f'{time.time()-start:.3} s') \n",
    "    return buffer,time_buffer"
   ]
  },
  {
   "cell_type": "code",
   "execution_count": 982,
   "metadata": {},
   "outputs": [],
   "source": [
    "def retrain_model(local_db,local_names):\n",
    "    '''\n",
    "    Create a new local model from  local signatures and names!!!\n",
    "    Returns local classifier model!\n",
    "    \n",
    "    '''\n",
    "    clf = RandomForestClassifier()\n",
    "    local_db = local_db.reshape((local_db.shape[0]//SIG_SIZE,SIG_SIZE))\n",
    "    local_names = local_names.reshape(local_names.shape[0],1)\n",
    "    \n",
    "    X = local_db\n",
    "    y = local_names\n",
    "\n",
    "    X_train , X_test , y_train , y_test = train_test_split(X,y,test_size = 0.2,random_state=42)\n",
    "\n",
    "    clf.fit(X_train,y_train)\n",
    "    \n",
    "    pickle.dump(clf,open(f'localmodel-{str(date.today())}.pkl','wb'))\n",
    "    \n",
    "    return clf"
   ]
  },
  {
   "cell_type": "code",
   "execution_count": 996,
   "metadata": {},
   "outputs": [],
   "source": [
    "def update_local_db(sig,name):\n",
    "    '''\n",
    "    Keeps updating the local signatures list and corresonding names\n",
    "    \n",
    "    '''\n",
    "    global local_db\n",
    "    global local_names\n",
    "    local_db = np.append(local_db,sig)\n",
    "    local_names = np.append(local_names,name)"
   ]
  },
  {
   "cell_type": "code",
   "execution_count": 984,
   "metadata": {},
   "outputs": [],
   "source": [
    "def log_event(name,sig_ts,init_rise,rise,sig):\n",
    "    '''\n",
    "    Stores the following:\n",
    "    1. Signature of appliance,\n",
    "    2. Time-stamp of turning ON\n",
    "    3. Name\n",
    "    4. Rise in consumption\n",
    "    \n",
    "    '''\n",
    "    global logs_df\n",
    "    global prev_mean #simple case\n",
    "    \n",
    "    sig = sig.reshape(SIG_SIZE)\n",
    "    logs_df = logs_df.append(pd.DataFrame({'Sig':[sig],\n",
    "                                           'Name':name,\n",
    "                                           'Turned ON':pd.to_datetime(sig_ts),\n",
    "                                           'Init Rise':init_rise,\n",
    "                                           'Current Value':rise,\n",
    "#                                            'Fall':prev_mean, # causing problem i guess\n",
    "                                           'Turned OFF':0,\n",
    "                                           'Flag':0},index=[0]),ignore_index=True) # Flag 0 means ON and 1 mean OFF"
   ]
  },
  {
   "cell_type": "code",
   "execution_count": 985,
   "metadata": {},
   "outputs": [],
   "source": [
    "def track_device(num,val,ts):\n",
    "    \n",
    "    '''\n",
    "    Determines the time when the appliance is turned OFF.\n",
    "    Takes in the device serial number that was turned ON, Current Value, and timstamp.\n",
    "    Returns 1 for device turned OFF and 0 elsewise.\n",
    "    \n",
    "    '''\n",
    "    global logs_df\n",
    "#     global active_appliances # redundant? not used\n",
    "#     start = time.time()\n",
    "    \n",
    "    \n",
    "    if logs_df['Flag'][num] == 0: #to check if the appliance is still ON \n",
    "        nm = logs_df['Name'][num]\n",
    "        print(f' {nm} is being tested for being turned OFF') # works fine\n",
    "        total_rise = logs_df['Current Value'][num] #steady state value or current value\n",
    "#         init_rise = logs_df['Init Rise'][num] # redundant?? moved to only one appliance case\n",
    "#         fall = logs_df['Fall'][num] #redundant? \n",
    "        offset = total_rise - val # gives current rise or fall \n",
    "        total_rise = total_rise - offset # while calculating remember turning off a device makes the remaining value of the left device\n",
    "        logs_df.loc[[num],['Current Value']] = total_rise\n",
    "        \n",
    "        # absolute tolerance may cause errors for device wih almost similar consumption, trigerring false turn off.\n",
    "        \n",
    "        if (logs_df['Flag']==0).sum() > 1: # number of active appliances are greater than 1\n",
    "            arr_actv_indices = logs_df[logs_df['Flag']==0].index.values # gets only on devices indices\n",
    "            arr_actv_indices = np.delete(arr_actv_indices, np.where(arr_actv_indices == num)) # remove this device's rise\n",
    "            print(f'number of active devices excluding {nm }are {len(arr_actv_indices)}')\n",
    "            cumul_rise = 0\n",
    "            \n",
    "            \n",
    "            for x in arr_actv_indices: # sum all other appliance's rise\n",
    "                cumul_rise = cumul_rise + logs_df['Init Rise'][x] # cumultaive rise of all active appliances\n",
    "            print(f'Cumulative Rise excluding {nm} = {cumul_rise}')\n",
    "            \n",
    "            # maybe instead of using init_rise above, use present remaining values!!!\n",
    "            if math.isclose(total_rise,cumul_rise,abs_tol=abs(cumul_rise*1/100)): #is current rise close to cumultaive rise\n",
    "                print('cumulative sum was found remaining')\n",
    "                logs_df.loc[[num],['Turned OFF']] = pd.to_datetime(ts)\n",
    "                print(f'{nm} turned off at {ts}')\n",
    "                logs_df.loc[[num],['Flag']] = 1\n",
    "#                 print(f'time taken to track down {time.time() - start}')\n",
    "                return 1\n",
    "                      \n",
    "            # not sure about this one, shold tell for plus one active devie only\n",
    "            \n",
    "            for idx, x in enumerate(logs_df['Init Rise']): # helps in breaking if this device is on but the other was turned off.possible bug may be in tolerance being 2%.\n",
    "                \n",
    "                if logs_df['Flag'][idx] ==0 :    \n",
    "                    \n",
    "                    if math.isclose(total_rise,x,abs_tol=abs(x*2/100)): #if more than two appliances are there, then might have to add their individual rises and check.\n",
    "                        print('Found the value to be same!!!!')\n",
    "                        return 0\n",
    "                    else:\n",
    "                        print('value not same') #for debugging\n",
    "            return 0\n",
    "\n",
    "        \n",
    "        else: # if only this appliance is on\n",
    "            init_rise = logs_df['Init Rise'][num]\n",
    "            if math.isclose(total_rise,0,abs_tol=abs(init_rise*1/100)): #fall caused problem, replaced with zero, however actually there would be a phantom consumption so might replace with that!!! ??\n",
    "                logs_df.loc[[num],['Turned OFF']] = pd.to_datetime(ts)\n",
    "                print(f'{nm} turned off at {ts}')\n",
    "                logs_df.loc[[num],['Flag']] = 1\n",
    "#                 print(f'time taken to track down 3{time.time() - start}')\n",
    "                return 1\n",
    "            else:\n",
    "                return 0\n",
    "    \n",
    "    \n",
    "    else: #if the appliance was not on\n",
    "        return 0"
   ]
  },
  {
   "cell_type": "code",
   "execution_count": 997,
   "metadata": {},
   "outputs": [],
   "source": [
    "#global variables \n",
    "global local_db\n",
    "local_db = np.array([])\n",
    "global local_names \n",
    "local_names = np.array([])\n",
    "global logs_df\n",
    "logs_df = pd.DataFrame([],columns = ['Sig','Name','Turned ON','Init Rise','Current Value',\n",
    "#                                      'Fall',\n",
    "                                     'Turned OFF','Flag'])"
   ]
  },
  {
   "cell_type": "code",
   "execution_count": 998,
   "metadata": {},
   "outputs": [],
   "source": [
    "SIG_SIZE = 90 # 1 sec contains 30 samples ; 3 seconds 90 samples.\n",
    "THRSHLD = 5 # Rise in kWH to be detected for classification\n",
    "BUFFER_SIZE = 180 # signal buffer size i.e 6 seconds (1s has 30 samples)\n",
    "i = 1 #test purpose iterator\n",
    "global prev_mean\n",
    "prev_mean = 0 \n",
    "# These are for creating local database and saving signatures!!!\n",
    "prev_guess=''\n",
    "detected_appliances = 0\n",
    "deployed = False"
   ]
  },
  {
   "cell_type": "code",
   "execution_count": 1005,
   "metadata": {
    "scrolled": true
   },
   "outputs": [
    {
     "name": "stdout",
     "output_type": "stream",
     "text": [
      "Training period still not over\n",
      "0.00,2020-11-6 4:54:9.851\n",
      "\n",
      "Training period still not over\n",
      "34.00,2020-11-6 4:54:14.837\n",
      "\n",
      "34.00,2020-11-6 4:54:16.331\n",
      "\n",
      "An appliance  was detected at 2020-11-6 4:54:10.730\n",
      "! Some people named it as drill, would you like to name it?\n",
      "fan\n",
      "Training period still not over\n",
      "35.00,2020-11-6 4:54:21.308\n",
      "\n",
      " fan is being tested for being turned OFF\n",
      "Training period still not over\n",
      "0.00,2020-11-6 4:54:26.298\n",
      "\n",
      " fan is being tested for being turned OFF\n",
      "Training period still not over\n",
      "0.00,2020-11-6 4:54:31.271\n",
      "\n",
      " fan is being tested for being turned OFF\n",
      "fan turned off at 2020-11-6 4:54:31.271\n",
      "\n",
      "The fan ran for a total of 0 minutes and 20 seconds\n",
      "Training period still not over\n",
      "0.00,2020-11-6 4:54:36.244\n",
      "\n",
      "Training period still not over\n"
     ]
    },
    {
     "ename": "KeyboardInterrupt",
     "evalue": "",
     "output_type": "error",
     "traceback": [
      "\u001b[1;31m---------------------------------------------------------------------------\u001b[0m",
      "\u001b[1;31mKeyboardInterrupt\u001b[0m                         Traceback (most recent call last)",
      "\u001b[1;32m<ipython-input-1005-8e55fc504a7d>\u001b[0m in \u001b[0;36m<module>\u001b[1;34m()\u001b[0m\n\u001b[0;32m     20\u001b[0m         \u001b[0mprint\u001b[0m\u001b[1;33m(\u001b[0m\u001b[1;34m'Training period still not over'\u001b[0m\u001b[1;33m)\u001b[0m\u001b[1;33m\u001b[0m\u001b[1;33m\u001b[0m\u001b[0m\n\u001b[0;32m     21\u001b[0m \u001b[1;33m\u001b[0m\u001b[0m\n\u001b[1;32m---> 22\u001b[1;33m     \u001b[0mbuffer\u001b[0m\u001b[1;33m,\u001b[0m \u001b[0mtime_buffer\u001b[0m \u001b[1;33m=\u001b[0m \u001b[0mget_signal\u001b[0m\u001b[1;33m(\u001b[0m\u001b[0mBUFFER_SIZE\u001b[0m\u001b[1;33m)\u001b[0m \u001b[1;31m# 6s seconds data into buffer\u001b[0m\u001b[1;33m\u001b[0m\u001b[1;33m\u001b[0m\u001b[0m\n\u001b[0m\u001b[0;32m     23\u001b[0m     \u001b[0mevents\u001b[0m \u001b[1;33m=\u001b[0m \u001b[0mevent_detection\u001b[0m\u001b[1;33m(\u001b[0m\u001b[0mbuffer\u001b[0m\u001b[1;33m)\u001b[0m \u001b[1;31m# if no on events, check for off events\u001b[0m\u001b[1;33m\u001b[0m\u001b[1;33m\u001b[0m\u001b[0m\n\u001b[0;32m     24\u001b[0m     \u001b[1;32mif\u001b[0m \u001b[0mlen\u001b[0m\u001b[1;33m(\u001b[0m\u001b[0mevents\u001b[0m\u001b[1;33m)\u001b[0m\u001b[1;33m>\u001b[0m\u001b[1;36m0\u001b[0m\u001b[1;33m:\u001b[0m \u001b[1;31m# events detected ; can remove this if statement because its redundant\u001b[0m\u001b[1;33m\u001b[0m\u001b[1;33m\u001b[0m\u001b[0m\n",
      "\u001b[1;32m<ipython-input-981-52feee368f11>\u001b[0m in \u001b[0;36mget_signal\u001b[1;34m(length)\u001b[0m\n\u001b[0;32m     10\u001b[0m     \u001b[0mtime_buffer\u001b[0m \u001b[1;33m=\u001b[0m \u001b[0mnp\u001b[0m\u001b[1;33m.\u001b[0m\u001b[0marray\u001b[0m\u001b[1;33m(\u001b[0m\u001b[1;33m[\u001b[0m\u001b[1;33m]\u001b[0m\u001b[1;33m)\u001b[0m\u001b[1;33m\u001b[0m\u001b[1;33m\u001b[0m\u001b[0m\n\u001b[0;32m     11\u001b[0m     \u001b[1;32mwhile\u001b[0m \u001b[0mcount\u001b[0m\u001b[1;33m!=\u001b[0m \u001b[0mlength\u001b[0m \u001b[1;33m:\u001b[0m\u001b[1;33m\u001b[0m\u001b[1;33m\u001b[0m\u001b[0m\n\u001b[1;32m---> 12\u001b[1;33m         \u001b[0mb\u001b[0m \u001b[1;33m=\u001b[0m \u001b[0mser\u001b[0m\u001b[1;33m.\u001b[0m\u001b[0mreadline\u001b[0m\u001b[1;33m(\u001b[0m\u001b[1;33m)\u001b[0m         \u001b[1;31m# read a byte string\u001b[0m\u001b[1;33m\u001b[0m\u001b[1;33m\u001b[0m\u001b[0m\n\u001b[0m\u001b[0;32m     13\u001b[0m         \u001b[0mstring_n\u001b[0m \u001b[1;33m=\u001b[0m \u001b[0mb\u001b[0m\u001b[1;33m.\u001b[0m\u001b[0mdecode\u001b[0m\u001b[1;33m(\u001b[0m\u001b[0merrors\u001b[0m\u001b[1;33m=\u001b[0m\u001b[1;34m'ignore'\u001b[0m\u001b[1;33m)\u001b[0m  \u001b[1;31m# decode byte string into Unicode\u001b[0m\u001b[1;33m\u001b[0m\u001b[1;33m\u001b[0m\u001b[0m\n\u001b[0;32m     14\u001b[0m         \u001b[1;32mtry\u001b[0m\u001b[1;33m:\u001b[0m\u001b[1;33m\u001b[0m\u001b[1;33m\u001b[0m\u001b[0m\n",
      "\u001b[1;32mC:\\Users\\USER\\anaconda3\\envs\\nilmtk\\lib\\site-packages\\serial\\serialwin32.py\u001b[0m in \u001b[0;36mread\u001b[1;34m(self, size)\u001b[0m\n\u001b[0;32m    288\u001b[0m                     \u001b[0mctypes\u001b[0m\u001b[1;33m.\u001b[0m\u001b[0mbyref\u001b[0m\u001b[1;33m(\u001b[0m\u001b[0mself\u001b[0m\u001b[1;33m.\u001b[0m\u001b[0m_overlapped_read\u001b[0m\u001b[1;33m)\u001b[0m\u001b[1;33m,\u001b[0m\u001b[1;33m\u001b[0m\u001b[1;33m\u001b[0m\u001b[0m\n\u001b[0;32m    289\u001b[0m                     \u001b[0mctypes\u001b[0m\u001b[1;33m.\u001b[0m\u001b[0mbyref\u001b[0m\u001b[1;33m(\u001b[0m\u001b[0mrc\u001b[0m\u001b[1;33m)\u001b[0m\u001b[1;33m,\u001b[0m\u001b[1;33m\u001b[0m\u001b[1;33m\u001b[0m\u001b[0m\n\u001b[1;32m--> 290\u001b[1;33m                     True)\n\u001b[0m\u001b[0;32m    291\u001b[0m                 \u001b[1;32mif\u001b[0m \u001b[1;32mnot\u001b[0m \u001b[0mresult_ok\u001b[0m\u001b[1;33m:\u001b[0m\u001b[1;33m\u001b[0m\u001b[1;33m\u001b[0m\u001b[0m\n\u001b[0;32m    292\u001b[0m                     \u001b[1;32mif\u001b[0m \u001b[0mwin32\u001b[0m\u001b[1;33m.\u001b[0m\u001b[0mGetLastError\u001b[0m\u001b[1;33m(\u001b[0m\u001b[1;33m)\u001b[0m \u001b[1;33m!=\u001b[0m \u001b[0mwin32\u001b[0m\u001b[1;33m.\u001b[0m\u001b[0mERROR_OPERATION_ABORTED\u001b[0m\u001b[1;33m:\u001b[0m\u001b[1;33m\u001b[0m\u001b[1;33m\u001b[0m\u001b[0m\n",
      "\u001b[1;31mKeyboardInterrupt\u001b[0m: "
     ]
    }
   ],
   "source": [
    "ser = serial.Serial('COM3', 115200) # remove later\n",
    "time.sleep(2)\n",
    "\n",
    "if deployed == False: # to check if the device is installed for the first time\n",
    "    print('Installed Minion for the First Time! Give it a day to learn the devices in your home...')\n",
    "    install_time = datetime.now() \n",
    "    training_period = install_time + timedelta(days = 1) # determines for how long the minion should be in training period :1day\n",
    "\n",
    "deployed = True\n",
    "\n",
    "# Read and record the data\n",
    "for i in range(100):\n",
    "    \n",
    "    ct = datetime.now()\n",
    "    if ct >= training_period: # if the minion has trained for one day\n",
    "        print('Training period over. Witness the power of Minion!!!')\n",
    "        clf = retrain_model(local_db,local_names) #train local model and use it for classification. also maybe send only new signatures!!!\n",
    "        training_period = ct + timedelta(days = 1) #retrain model after one day. also might change it to update at midnights only.\n",
    "    \n",
    "    \n",
    "    buffer, time_buffer = get_signal(BUFFER_SIZE) # 6s seconds data into buffer\n",
    "    events = event_detection(buffer) # if no on events, check for off events\n",
    "    if len(events)>0: # events detected ; can remove this if statement because its redundant \n",
    "#         start = time.time()\n",
    "#         print(f'{len(events)} events detected') #works fine\n",
    "        for ev in events:\n",
    "            sig = buffer[ev:ev+SIG_SIZE]\n",
    "            if len(sig) != SIG_SIZE: #if signal is not enough reconstruct by getting new data\n",
    "#                 print('signal not adequate, shifting buffer') #works fine\n",
    "                buffer = np.roll(buffer, -SIG_SIZE) \n",
    "                time_buffer = np.roll(time_buffer, -SIG_SIZE)\n",
    "                temp_buffer, temp_time_buffer = get_signal(SIG_SIZE)\n",
    "                buffer[BUFFER_SIZE-SIG_SIZE:] = temp_buffer\n",
    "                time_buffer[BUFFER_SIZE-SIG_SIZE:] = temp_time_buffer\n",
    "                events = event_detection(buffer) # recheck events to get new indices, later requires breaking outer for loop\n",
    "                print(f'{len(events)} events detected on reconstructing')\n",
    "            if len(events)>0:\n",
    "                for ev in events:\n",
    "                    sig = buffer[ev:ev+SIG_SIZE] # extracting signature from buffer\n",
    "                    if sig.mean() > prev_mean: # signifies a rise in signal\n",
    "                        sig = sig - prev_mean # remove previous bias\n",
    "                        sig_ts = time_buffer[ev] #extract time stamp as well\n",
    "                        sig = sig.reshape((sig.shape[0]//SIG_SIZE,SIG_SIZE)) # reshape for classifier\n",
    "#                         rise = buffer[ev+SIG_SIZE:].mean() # data to log , maybe put rise as steady state value\n",
    "                        temp_buffer, _ = get_signal(90)\n",
    "                        rise = temp_buffer.mean() #to get steady state rise\n",
    "                        init_rise = rise - prev_mean\n",
    "#                         prev_mean = rise #causing problem of false turn off\n",
    "                        guess = clf.predict(sig)[0] # predict\n",
    "                        end = time.time() # for timing information\n",
    "                        acc = clf.predict_proba(sig).max() #check accuracy\n",
    "#                         print(f'{guess} turned on at {sig_ts} with rise {rise}, Acc.: {acc}')\n",
    "                        if acc > 0.80: \n",
    "                            if prev_guess == guess:\n",
    "                                temp_name = logs_df['Name'].to_numpy()[-1]\n",
    "                                print(f'It seems the {temp_name} was turned on again at {sig_ts}. ') \n",
    "                                print(f'It probably has multiple cycles. If true retype {temp_name}, else name it\\n')\n",
    "                                name = input('Enter the name!\\n') # to save the signaure with user defined name for future classification\n",
    "                                if name == logs_df['Name'].to_numpy()[-1]:\n",
    "                                    # for clubbing\n",
    "                                    # save signature\n",
    "                                    pass\n",
    "                                else:\n",
    "                                    # save signature\n",
    "                                    pass\n",
    "                                prev_guess = guess #redundant may remove\n",
    "                                log_event(name,sig_ts,init_rise,rise,sig) #store data\n",
    "                                update_local_db(sig,name)\n",
    "                                #here might want to decrement active_devices and remove start time from it and club it by comparing prev and current guess!\n",
    "                            else:\n",
    "                                name = input(f'An appliance  was detected at {sig_ts}! Some people named it as {guess}, would you like to name it?\\n')\n",
    "                                prev_guess = guess\n",
    "                                log_event(name,sig_ts,init_rise,rise,sig)\n",
    "                                update_local_db(sig,name)\n",
    "                        else:\n",
    "                            name = input(f'An unrecognized device was detected at {sig_ts}, it seems {guess} but not sure, so please name it\\n')\n",
    "#                             name = guess\n",
    "                            prev_guess = guess\n",
    "                            log_event(name,sig_ts,init_rise,rise,sig)\n",
    "                            update_local_db(sig,name)\n",
    "                detected_appliances += 1\n",
    "#                 print(f'Total time taken to identify the appliance {end-start:.3f} s')\n",
    "                break # breaks previous 'for-loops' of events \n",
    "        \n",
    "\n",
    "    else:\n",
    "        prev_mean = buffer.mean() #keep tracking the signal level\n",
    "        for aplnc in range(detected_appliances): #if there are active devices\n",
    "            # update values of rise to find off event\n",
    "            m = track_device(aplnc,prev_mean,time_buffer[-1])\n",
    "            if m == 1:\n",
    "                mm,ss = divmod((pd.to_datetime(logs_df['Turned OFF'][aplnc]) - pd.to_datetime(logs_df['Turned ON'][aplnc])).total_seconds(),60)\n",
    "                n = logs_df['Name'][aplnc]\n",
    "                print(f'The {n} ran for a total of {int(mm)} minutes and {int(ss)} seconds')\n",
    "                break #breaks i iterator creating error because never ending loop is occuring have to move this break out.\n",
    "    \n",
    "#every time a device is turned off copy the logs_df to temp_df to reduce time complexity of finding turning off of devices\n",
    "# also it may help remove bugs due to cumulative sum of init rise\n",
    "        "
   ]
  },
  {
   "cell_type": "code",
   "execution_count": 1006,
   "metadata": {},
   "outputs": [],
   "source": [
    "ser.close()"
   ]
  },
  {
   "cell_type": "code",
   "execution_count": 1007,
   "metadata": {},
   "outputs": [
    {
     "data": {
      "text/html": [
       "<div>\n",
       "<style scoped>\n",
       "    .dataframe tbody tr th:only-of-type {\n",
       "        vertical-align: middle;\n",
       "    }\n",
       "\n",
       "    .dataframe tbody tr th {\n",
       "        vertical-align: top;\n",
       "    }\n",
       "\n",
       "    .dataframe thead th {\n",
       "        text-align: right;\n",
       "    }\n",
       "</style>\n",
       "<table border=\"1\" class=\"dataframe\">\n",
       "  <thead>\n",
       "    <tr style=\"text-align: right;\">\n",
       "      <th></th>\n",
       "      <th>Sig</th>\n",
       "      <th>Name</th>\n",
       "      <th>Turned ON</th>\n",
       "      <th>Init Rise</th>\n",
       "      <th>Current Value</th>\n",
       "      <th>Turned OFF</th>\n",
       "      <th>Flag</th>\n",
       "    </tr>\n",
       "  </thead>\n",
       "  <tbody>\n",
       "    <tr>\n",
       "      <th>0</th>\n",
       "      <td>[0.0, 43.0, 43.0, 43.0, 43.0, 43.0, 43.0, 43.0...</td>\n",
       "      <td>fan</td>\n",
       "      <td>2020-11-06 04:53:03.293</td>\n",
       "      <td>34.0</td>\n",
       "      <td>0.0</td>\n",
       "      <td>2020-11-06 04:53:25.515000</td>\n",
       "      <td>1</td>\n",
       "    </tr>\n",
       "    <tr>\n",
       "      <th>1</th>\n",
       "      <td>[0.0, 38.0, 38.0, 38.0, 38.0, 38.0, 38.0, 38.0...</td>\n",
       "      <td>fan</td>\n",
       "      <td>2020-11-06 04:54:10.730</td>\n",
       "      <td>34.0</td>\n",
       "      <td>0.0</td>\n",
       "      <td>2020-11-06 04:54:31.271000</td>\n",
       "      <td>1</td>\n",
       "    </tr>\n",
       "  </tbody>\n",
       "</table>\n",
       "</div>"
      ],
      "text/plain": [
       "                                                 Sig Name  \\\n",
       "0  [0.0, 43.0, 43.0, 43.0, 43.0, 43.0, 43.0, 43.0...  fan   \n",
       "1  [0.0, 38.0, 38.0, 38.0, 38.0, 38.0, 38.0, 38.0...  fan   \n",
       "\n",
       "                Turned ON  Init Rise  Current Value  \\\n",
       "0 2020-11-06 04:53:03.293       34.0            0.0   \n",
       "1 2020-11-06 04:54:10.730       34.0            0.0   \n",
       "\n",
       "                   Turned OFF  Flag  \n",
       "0  2020-11-06 04:53:25.515000     1  \n",
       "1  2020-11-06 04:54:31.271000     1  "
      ]
     },
     "execution_count": 1007,
     "metadata": {},
     "output_type": "execute_result"
    }
   ],
   "source": [
    "logs_df"
   ]
  },
  {
   "cell_type": "code",
   "execution_count": 1008,
   "metadata": {},
   "outputs": [
    {
     "data": {
      "text/plain": [
       "array([ 0., 43., 43., 43., 43., 43., 43., 43., 43., 39., 39., 39., 39.,\n",
       "       39., 39., 39., 39., 39., 39., 39., 36., 36., 36., 36., 36., 36.,\n",
       "       36., 36., 36., 36., 36., 36., 35., 35., 35., 35., 35., 35., 35.,\n",
       "       35., 35., 35., 35., 34., 34., 34., 34., 34., 34., 34., 34., 34.,\n",
       "       34., 34., 34., 34., 34., 34., 34., 34., 34., 34., 34., 34., 34.,\n",
       "       34., 34., 34., 34., 34., 34., 34., 34., 34., 34., 34., 34., 34.,\n",
       "       34., 34., 34., 34., 34., 34., 34., 34., 34., 34., 34., 34.,  0.,\n",
       "       38., 38., 38., 38., 38., 38., 38., 38., 38., 38., 38., 38., 47.,\n",
       "       47., 47., 47., 47., 47., 47., 47., 47., 47., 47., 46., 46., 46.,\n",
       "       46., 46., 46., 46., 46., 46., 46., 46., 46., 45., 45., 45., 45.,\n",
       "       45., 45., 45., 45., 45., 45., 45., 41., 41., 41., 41., 41., 41.,\n",
       "       41., 41., 41., 41., 41., 41., 38., 38., 38., 38., 38., 38., 38.,\n",
       "       38., 38., 38., 38., 36., 36., 36., 36., 36., 36., 36., 36., 36.,\n",
       "       36., 36., 36., 35., 35., 35., 35., 35., 35., 35., 35.])"
      ]
     },
     "execution_count": 1008,
     "metadata": {},
     "output_type": "execute_result"
    }
   ],
   "source": [
    "local_db"
   ]
  },
  {
   "cell_type": "code",
   "execution_count": 1009,
   "metadata": {},
   "outputs": [
    {
     "data": {
      "text/plain": [
       "array(['fan', 'fan'], dtype='<U32')"
      ]
     },
     "execution_count": 1009,
     "metadata": {},
     "output_type": "execute_result"
    }
   ],
   "source": [
    "local_names"
   ]
  },
  {
   "cell_type": "markdown",
   "metadata": {},
   "source": [
    "# After training Period\n",
    "* **Use Logs_df to create local classifier**\n",
    "* **Cross verify the results**\n",
    "* **It is advised that each appliance is recorded atleast 10 times**"
   ]
  },
  {
   "cell_type": "code",
   "execution_count": 914,
   "metadata": {},
   "outputs": [],
   "source": [
    "clf = retrain_model(local_db)"
   ]
  },
  {
   "cell_type": "code",
   "execution_count": 931,
   "metadata": {},
   "outputs": [
    {
     "data": {
      "text/plain": [
       "17    True\n",
       "20    True\n",
       "23    True\n",
       "6     True\n",
       "9     True\n",
       "7     True\n",
       "0     True\n",
       "Name: Name, dtype: bool"
      ]
     },
     "execution_count": 931,
     "metadata": {},
     "output_type": "execute_result"
    }
   ],
   "source": [
    "clf.predict(X_test) == y_test # not required"
   ]
  },
  {
   "cell_type": "code",
   "execution_count": 916,
   "metadata": {},
   "outputs": [],
   "source": [
    "# now in the main function this new local classifier will be used!!!"
   ]
  },
  {
   "cell_type": "code",
   "execution_count": null,
   "metadata": {},
   "outputs": [],
   "source": []
  }
 ],
 "metadata": {
  "kernelspec": {
   "display_name": "Python 3",
   "language": "python",
   "name": "python3"
  },
  "language_info": {
   "codemirror_mode": {
    "name": "ipython",
    "version": 3
   },
   "file_extension": ".py",
   "mimetype": "text/x-python",
   "name": "python",
   "nbconvert_exporter": "python",
   "pygments_lexer": "ipython3",
   "version": "3.6.11"
  }
 },
 "nbformat": 4,
 "nbformat_minor": 4
}
