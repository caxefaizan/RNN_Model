{
 "cells": [
  {
   "cell_type": "code",
   "execution_count": 71,
   "metadata": {},
   "outputs": [],
   "source": [
    "import serial\n",
    "import time\n",
    "import pandas as pd\n",
    "import scipy\n",
    "from scipy import signal\n",
    "import numpy as np\n",
    "import math\n",
    "from statistics import mean"
   ]
  },
  {
   "cell_type": "code",
   "execution_count": 72,
   "metadata": {},
   "outputs": [],
   "source": [
    "import pickle\n",
    "global clf\n",
    "clf = pickle.load(open('testmodel.pkl','rb'))"
   ]
  },
  {
   "cell_type": "code",
   "execution_count": 74,
   "metadata": {},
   "outputs": [],
   "source": [
    "def event_detection(data):\n",
    "    '''\n",
    "    Detects devices being turned On\n",
    "    Returns the timestamp indices where devices are turned on\n",
    "    '''\n",
    "    data = scipy.signal.medfilt(data, kernel_size=None)\n",
    "    dbydx = np.gradient(data)\n",
    "    on_events = []\n",
    "    for idx,x in enumerate(dbydx):\n",
    "        if x > THRSHLD:\n",
    "            on_events.append(idx)\n",
    "    for x in on_events:\n",
    "        for y in range(x+1,x+91): # to remove false turn on signatures, give delay for transition\n",
    "            if y in on_events:\n",
    "                on_events.remove(y)\n",
    "    return on_events"
   ]
  },
  {
   "cell_type": "code",
   "execution_count": 75,
   "metadata": {},
   "outputs": [],
   "source": [
    "def get_signal (length):\n",
    "    '''\n",
    "    Takes the length of signature required,\n",
    "    returns signature and timestamps\n",
    "    \n",
    "    '''\n",
    "    COUNT = 0\n",
    "    buffer = np.array([])\n",
    "    time_buffer = np.array([])\n",
    "    while COUNT!= length :\n",
    "        b = ser.readline()         # read a byte string\n",
    "        string_n = b.decode(errors='ignore')  # decode byte string into Unicode  \n",
    "        print(string_n)\n",
    "        try:\n",
    "            val, timestamp = string_n.split(sep = ',')\n",
    "            val = float(val)\n",
    "            timestamp = pd.to_datetime(timestamp)\n",
    "            buffer = np.append(buffer, val) # helps getting data in seconds\n",
    "            time_buffer = np.append(time_buffer,timestamp)\n",
    "            COUNT += 1\n",
    "        except:\n",
    "            print('read failed, retrying!')\n",
    "    return buffer,time_buffer"
   ]
  },
  {
   "cell_type": "code",
   "execution_count": 76,
   "metadata": {},
   "outputs": [],
   "source": [
    "def predict_clf(data): #unused\n",
    "    global clf\n",
    "    guess = clf.predict(data)\n",
    "    acc = clf.predict_proba(data).max()\n",
    "    print(f'Device turned on at {sig_ts} and is probably {guess}, Acc.: {acc}') "
   ]
  },
  {
   "cell_type": "code",
   "execution_count": 126,
   "metadata": {},
   "outputs": [],
   "source": [
    "def log_event(guess,sig_ts,rise,sig):\n",
    "    '''\n",
    "    Stores the following:\n",
    "    1. Signature of appliance,\n",
    "    2. Time-stamp of turning ON\n",
    "    3. Name\n",
    "    4. Rise in consumption\n",
    "    \n",
    "    '''\n",
    "    global logs_df\n",
    "    logs_df = logs_df.append(pd.DataFrame({'Sig':[sig],\n",
    "                                           'Name':guess,\n",
    "                                           'Turned ON':sig_ts,\n",
    "                                           'Rise':rise},index=[0]),ignore_index=True)"
   ]
  },
  {
   "cell_type": "code",
   "execution_count": null,
   "metadata": {},
   "outputs": [],
   "source": [
    "global logs_df\n",
    "logs_df = pd.DataFrame([],columns = ['Sig','Name','Turned ON','Rise'])"
   ]
  },
  {
   "cell_type": "code",
   "execution_count": 153,
   "metadata": {},
   "outputs": [],
   "source": [
    "SIG_SIZE = 90 # 1 sec contains 30 samples ; 3 seconds 90 samples.\n",
    "THRSHLD = 30 # Rise in kWH to be detected for classification\n",
    "BUFFER_SIZE = 360 # signal buffer size \n",
    "i = 1 #test purpose iterator\n",
    "prev_mean = 0 #maybe declare global\n",
    "# These are for creating local database and saving signatures!!!\n",
    "prev_guess=''"
   ]
  },
  {
   "cell_type": "code",
   "execution_count": 151,
   "metadata": {
    "scrolled": true
   },
   "outputs": [
    {
     "ename": "SyntaxError",
     "evalue": "invalid syntax (<ipython-input-151-8d9bec97e181>, line 31)",
     "output_type": "error",
     "traceback": [
      "\u001b[1;36m  File \u001b[1;32m\"<ipython-input-151-8d9bec97e181>\"\u001b[1;36m, line \u001b[1;32m31\u001b[0m\n\u001b[1;33m    rise = rise:.2f\u001b[0m\n\u001b[1;37m               ^\u001b[0m\n\u001b[1;31mSyntaxError\u001b[0m\u001b[1;31m:\u001b[0m invalid syntax\n"
     ]
    }
   ],
   "source": [
    "ser = serial.Serial('COM3', 115200) # remove later\n",
    "time.sleep(2)\n",
    "\n",
    "\n",
    "# Read and record the data\n",
    "for i in range(10):\n",
    "    buffer, time_buffer = get_signal(BUFFER_SIZE)\n",
    "    events = event_detection(buffer)\n",
    "    if len(events)>0:\n",
    "        start = time.time()\n",
    "        print(f'{len(events)} events detected')\n",
    "        for ev in events:\n",
    "            sig = buffer[ev:ev+SIG_SIZE]\n",
    "            if len(sig) != SIG_SIZE:\n",
    "                print('signal not adequate, shifting buffer')\n",
    "                buffer = np.roll(buffer, -SIG_SIZE)\n",
    "                time_buffer = np.roll(time_buffer, -SIG_SIZE)\n",
    "                temp_buffer, temp_time_buffer = get_signal(SIG_SIZE)\n",
    "                buffer[BUFFER_SIZE-SIG_SIZE:] = temp_buffer\n",
    "                time_buffer[BUFFER_SIZE-SIG_SIZE:] = temp_time_buffer\n",
    "                events = event_detection(buffer)\n",
    "                print(f'{len(events)} events detected on reconstructing')\n",
    "            if len(events)>0:\n",
    "                for ev in events:\n",
    "                    sig = buffer[ev:ev+SIG_SIZE]\n",
    "                    if sig.mean() > prev_mean:\n",
    "                        sig = sig - prev_mean\n",
    "                        sig_ts = time_buffer[ev]\n",
    "                        sig = sig.reshape((sig.shape[0]//SIG_SIZE,SIG_SIZE))\n",
    "                        rise = buffer[ev+SIG_SIZE:].mean()\n",
    "                        guess = clf.predict(sig)\n",
    "                        end = time.time()\n",
    "                        acc = clf.predict_proba(sig).max()\n",
    "                        print(f'{guess} turned on at {sig_ts} with rise {rise}, Acc.: {acc}')\n",
    "                        if acc > 0.80:\n",
    "                            if prev_guess == guess:\n",
    "                                print(f'It seems the {guess} was detected again at {sig_ts}, if true confirm in {local_name}, but if different, name it\\n')\n",
    "                                name = input('Enter the name!\\n')\n",
    "                                if name == guess:\n",
    "                                    # for decremening active_devices and clubbing\n",
    "                                    # save signature\n",
    "                                    pass\n",
    "                                else:\n",
    "                                    # save signature\n",
    "                                    pass\n",
    "                                prev_guess = guess\n",
    "                                log_event(name,sig_ts,rise,sig)\n",
    "                                #here might want to decrement active_devices and remove start time from it and club it by comparing prev and current guess!\n",
    "                            else:\n",
    "                                name = input(f'An appliance  was detected at {sig_ts}! Some people named it as {guess}, would you like to name it?\\n')\n",
    "                                prev_guess = guess\n",
    "                                log_event(name,sig_ts,rise,sig)\n",
    "                        else:\n",
    "                            name = input(f'An unrecognized device was detected at {sig_ts}, please name it\\n')\n",
    "                            prev_guess = guess\n",
    "                            log_event(name,sig_ts,rise,sig)\n",
    "                print(f'Total time taken {end-start:.3f} s')\n",
    "                ser.close() # remove later\n",
    "                break # breaks previous 'for-loops' of events \n",
    "        break #breaks i iterator\n",
    "\n",
    "    else:\n",
    "        prev_mean = buffer.mean()"
   ]
  },
  {
   "cell_type": "code",
   "execution_count": 152,
   "metadata": {},
   "outputs": [
    {
     "data": {
      "text/html": [
       "<div>\n",
       "<style scoped>\n",
       "    .dataframe tbody tr th:only-of-type {\n",
       "        vertical-align: middle;\n",
       "    }\n",
       "\n",
       "    .dataframe tbody tr th {\n",
       "        vertical-align: top;\n",
       "    }\n",
       "\n",
       "    .dataframe thead th {\n",
       "        text-align: right;\n",
       "    }\n",
       "</style>\n",
       "<table border=\"1\" class=\"dataframe\">\n",
       "  <thead>\n",
       "    <tr style=\"text-align: right;\">\n",
       "      <th></th>\n",
       "      <th>Sig</th>\n",
       "      <th>Name</th>\n",
       "      <th>Turned ON</th>\n",
       "      <th>Rise</th>\n",
       "    </tr>\n",
       "  </thead>\n",
       "  <tbody>\n",
       "    <tr>\n",
       "      <th>0</th>\n",
       "      <td>[0.0, 97.0, 97.0, 97.0, 97.0, 97.0, 97.0, 97.0...</td>\n",
       "      <td>hairdryer</td>\n",
       "      <td>2020-11-03 23:06:14.710</td>\n",
       "      <td>300.752941</td>\n",
       "    </tr>\n",
       "    <tr>\n",
       "      <th>1</th>\n",
       "      <td>[48.0, 289.0, 289.0, 289.0, 289.0, 289.0, 289....</td>\n",
       "      <td>hairdryer</td>\n",
       "      <td>2020-11-03 23:07:31.760</td>\n",
       "      <td>306.000000</td>\n",
       "    </tr>\n",
       "    <tr>\n",
       "      <th>2</th>\n",
       "      <td>[12.0, 260.0, 260.0, 260.0, 260.0, 260.0, 260....</td>\n",
       "      <td>water heater</td>\n",
       "      <td>2020-11-03 23:09:59.685</td>\n",
       "      <td>298.968254</td>\n",
       "    </tr>\n",
       "    <tr>\n",
       "      <th>3</th>\n",
       "      <td>[51.0, 279.0, 279.0, 279.0, 279.0, 279.0, 279....</td>\n",
       "      <td>water heater</td>\n",
       "      <td>2020-11-03 23:12:02.547</td>\n",
       "      <td>292.736842</td>\n",
       "    </tr>\n",
       "    <tr>\n",
       "      <th>4</th>\n",
       "      <td>[49.0, 276.0, 276.0, 276.0, 276.0, 276.0, 276....</td>\n",
       "      <td>water heater</td>\n",
       "      <td>2020-11-03 23:16:43.377</td>\n",
       "      <td>290.141509</td>\n",
       "    </tr>\n",
       "    <tr>\n",
       "      <th>5</th>\n",
       "      <td>[0.0, 210.0, 210.0, 210.0, 210.0, 210.0, 210.0...</td>\n",
       "      <td>water heater</td>\n",
       "      <td>2020-11-03 23:19:12.670</td>\n",
       "      <td>285.979866</td>\n",
       "    </tr>\n",
       "    <tr>\n",
       "      <th>6</th>\n",
       "      <td>[49.0, 275.0, 275.0, 275.0, 275.0, 275.0, 275....</td>\n",
       "      <td>water heater</td>\n",
       "      <td>2020-11-03 23:20:18.299</td>\n",
       "      <td>287.741667</td>\n",
       "    </tr>\n",
       "    <tr>\n",
       "      <th>7</th>\n",
       "      <td>[[1.0, 119.0, 119.0, 119.0, 119.0, 119.0, 119....</td>\n",
       "      <td>water heater</td>\n",
       "      <td>2020-11-03 23:46:31.751</td>\n",
       "      <td>298.257732</td>\n",
       "    </tr>\n",
       "  </tbody>\n",
       "</table>\n",
       "</div>"
      ],
      "text/plain": [
       "                                                 Sig          Name  \\\n",
       "0  [0.0, 97.0, 97.0, 97.0, 97.0, 97.0, 97.0, 97.0...     hairdryer   \n",
       "1  [48.0, 289.0, 289.0, 289.0, 289.0, 289.0, 289....     hairdryer   \n",
       "2  [12.0, 260.0, 260.0, 260.0, 260.0, 260.0, 260....  water heater   \n",
       "3  [51.0, 279.0, 279.0, 279.0, 279.0, 279.0, 279....  water heater   \n",
       "4  [49.0, 276.0, 276.0, 276.0, 276.0, 276.0, 276....  water heater   \n",
       "5  [0.0, 210.0, 210.0, 210.0, 210.0, 210.0, 210.0...  water heater   \n",
       "6  [49.0, 275.0, 275.0, 275.0, 275.0, 275.0, 275....  water heater   \n",
       "7  [[1.0, 119.0, 119.0, 119.0, 119.0, 119.0, 119....  water heater   \n",
       "\n",
       "                Turned ON        Rise  \n",
       "0 2020-11-03 23:06:14.710  300.752941  \n",
       "1 2020-11-03 23:07:31.760  306.000000  \n",
       "2 2020-11-03 23:09:59.685  298.968254  \n",
       "3 2020-11-03 23:12:02.547  292.736842  \n",
       "4 2020-11-03 23:16:43.377  290.141509  \n",
       "5 2020-11-03 23:19:12.670  285.979866  \n",
       "6 2020-11-03 23:20:18.299  287.741667  \n",
       "7 2020-11-03 23:46:31.751  298.257732  "
      ]
     },
     "execution_count": 152,
     "metadata": {},
     "output_type": "execute_result"
    }
   ],
   "source": [
    "logs_df"
   ]
  },
  {
   "cell_type": "code",
   "execution_count": null,
   "metadata": {},
   "outputs": [],
   "source": []
  },
  {
   "cell_type": "code",
   "execution_count": 56,
   "metadata": {},
   "outputs": [
    {
     "data": {
      "text/plain": [
       "False"
      ]
     },
     "execution_count": 56,
     "metadata": {},
     "output_type": "execute_result"
    }
   ],
   "source": [
    "(pd.to_datetime('2020-11-03 00:28:50.575000'))> pd.to_datetime('2020-11-04 00:28:50.575000')"
   ]
  },
  {
   "cell_type": "code",
   "execution_count": 61,
   "metadata": {},
   "outputs": [],
   "source": [
    "import datetime"
   ]
  },
  {
   "cell_type": "code",
   "execution_count": 69,
   "metadata": {},
   "outputs": [
    {
     "data": {
      "text/plain": [
       "Timestamp('2020-11-03 00:28:53.575000')"
      ]
     },
     "execution_count": 69,
     "metadata": {},
     "output_type": "execute_result"
    }
   ],
   "source": [
    "pd.to_datetime('2020-11-03 00:28:50.575000') + datetime.timedelta(seconds=3)"
   ]
  },
  {
   "cell_type": "code",
   "execution_count": null,
   "metadata": {},
   "outputs": [],
   "source": []
  }
 ],
 "metadata": {
  "kernelspec": {
   "display_name": "Python 3",
   "language": "python",
   "name": "python3"
  },
  "language_info": {
   "codemirror_mode": {
    "name": "ipython",
    "version": 3
   },
   "file_extension": ".py",
   "mimetype": "text/x-python",
   "name": "python",
   "nbconvert_exporter": "python",
   "pygments_lexer": "ipython3",
   "version": "3.6.11"
  }
 },
 "nbformat": 4,
 "nbformat_minor": 4
}
