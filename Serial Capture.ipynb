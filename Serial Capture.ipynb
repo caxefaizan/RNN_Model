{
 "cells": [
  {
   "cell_type": "code",
   "execution_count": 71,
   "metadata": {},
   "outputs": [],
   "source": [
    "import serial\n",
    "import time\n",
    "import pandas as pd\n",
    "import scipy\n",
    "from scipy import signal\n",
    "import numpy as np\n",
    "import math\n",
    "from statistics import mean"
   ]
  },
  {
   "cell_type": "code",
   "execution_count": 72,
   "metadata": {},
   "outputs": [],
   "source": [
    "import pickle\n",
    "global clf\n",
    "clf = pickle.load(open('testmodel.pkl','rb'))"
   ]
  },
  {
   "cell_type": "code",
   "execution_count": 74,
   "metadata": {},
   "outputs": [],
   "source": [
    "def event_detection(data):\n",
    "    '''\n",
    "    Detects devices being turned On\n",
    "    Returns the timestamp indices where devices are turned on\n",
    "    '''\n",
    "    data = scipy.signal.medfilt(data, kernel_size=None)\n",
    "    dbydx = np.gradient(data)\n",
    "    on_events = []\n",
    "    for idx,x in enumerate(dbydx):\n",
    "        if x > THRSHLD:\n",
    "            on_events.append(idx)\n",
    "    for x in on_events:\n",
    "        for y in range(x+1,x+91): # to remove false turn on signatures, give delay for transition\n",
    "            if y in on_events:\n",
    "                on_events.remove(y)\n",
    "    return on_events"
   ]
  },
  {
   "cell_type": "code",
   "execution_count": 257,
   "metadata": {},
   "outputs": [],
   "source": [
    "def get_signal (length):\n",
    "    '''\n",
    "    Takes the length of signature required,\n",
    "    returns signature and timestamps\n",
    "    \n",
    "    '''\n",
    "    COUNT = 0\n",
    "    buffer = np.array([])\n",
    "    time_buffer = np.array([])\n",
    "    while COUNT!= length :\n",
    "        b = ser.readline()         # read a byte string\n",
    "        string_n = b.decode(errors='ignore')  # decode byte string into Unicode  \n",
    "        try:\n",
    "            val, timestamp = string_n.split(sep = ',')\n",
    "            val = float(val)\n",
    "            timestamp = pd.to_datetime(timestamp)\n",
    "            buffer = np.append(buffer, val) # helps getting data in seconds\n",
    "            time_buffer = np.append(time_buffer,timestamp)\n",
    "            COUNT += 1\n",
    "        except:\n",
    "            print('read failed, retrying!')\n",
    "    print(string_n)\n",
    "    return buffer,time_buffer"
   ]
  },
  {
   "cell_type": "code",
   "execution_count": 258,
   "metadata": {},
   "outputs": [],
   "source": [
    "def predict_clf(data): #unused\n",
    "    global clf\n",
    "    guess = clf.predict(data)\n",
    "    acc = clf.predict_proba(data).max()\n",
    "    print(f'Device turned on at {sig_ts} and is probably {guess}, Acc.: {acc}') "
   ]
  },
  {
   "cell_type": "code",
   "execution_count": 259,
   "metadata": {},
   "outputs": [],
   "source": [
    "def log_event(guess,sig_ts,rise,sig):\n",
    "    '''\n",
    "    Stores the following:\n",
    "    1. Signature of appliance,\n",
    "    2. Time-stamp of turning ON\n",
    "    3. Name\n",
    "    4. Rise in consumption\n",
    "    \n",
    "    '''\n",
    "    global logs_df\n",
    "    global prev_mean #simple case\n",
    "    logs_df = logs_df.append(pd.DataFrame({'Sig':[sig],\n",
    "                                           'Name':guess,\n",
    "                                           'Turned ON':sig_ts,\n",
    "                                           'Init Rise':rise,\n",
    "                                           'Curr Rise':rise,\n",
    "                                           'Fall':prev_mean,\n",
    "                                           'Turned OFF':0},index=[0]),ignore_index=True)"
   ]
  },
  {
   "cell_type": "code",
   "execution_count": 268,
   "metadata": {},
   "outputs": [],
   "source": [
    "def track_device(num,val,ts):\n",
    "    #simple case\n",
    "    global logs_df\n",
    "    curr_rise = logs_df['Curr Rise'][num]\n",
    "    print(f'current rise {curr_rise}')\n",
    "    init_rise = logs_df['Init Rise'][num]\n",
    "    fall = logs_df['Fall'][num]\n",
    "    print(f'fall {fall}')\n",
    "    offset = curr_rise - val # gives current rise or fall \n",
    "    print(f'offset {offset}')\n",
    "    curr_rise = curr_rise - offset # update\n",
    "    print(f'newrise {curr_rise}')\n",
    "    logs_df.loc[[num],['Curr Rise']] = curr_rise\n",
    "    if math.isclose(curr_rise,fall,abs_tol=abs(init_rise*1/100)):\n",
    "        print('yeaaaaaaaaaaa')\n",
    "        logs_df.loc[[num],['Turned OFF']] = ts\n",
    "        return 1\n",
    "    else:\n",
    "        print('nooooooooo')\n",
    "        return 0"
   ]
  },
  {
   "cell_type": "code",
   "execution_count": 269,
   "metadata": {},
   "outputs": [],
   "source": [
    "global logs_df\n",
    "logs_df = pd.DataFrame([],columns = ['Sig','Name','Turned ON','Init Rise','Curr Rise','Fall','Turned OFF'])"
   ]
  },
  {
   "cell_type": "code",
   "execution_count": 270,
   "metadata": {},
   "outputs": [],
   "source": [
    "SIG_SIZE = 90 # 1 sec contains 30 samples ; 3 seconds 90 samples.\n",
    "THRSHLD = 30 # Rise in kWH to be detected for classification\n",
    "BUFFER_SIZE = 360 # signal buffer size \n",
    "i = 1 #test purpose iterator\n",
    "global prev_mean\n",
    "prev_mean = 0 #maybe declare global\n",
    "# These are for creating local database and saving signatures!!!\n",
    "prev_guess=''\n",
    "global active_appliances\n",
    "active_appliances = 0"
   ]
  },
  {
   "cell_type": "code",
   "execution_count": 273,
   "metadata": {
    "scrolled": true
   },
   "outputs": [
    {
     "name": "stdout",
     "output_type": "stream",
     "text": [
      "290.00,2020-11-4 2:39:24.650\n",
      "\n",
      "1 events detected\n",
      "['washing machine'] turned on at 2020-11-04 02:39:17.150000 with rise 290.5, Acc.: 0.62\n",
      "Total time taken 0.039 s\n",
      "288.00,2020-11-4 2:39:34.604\n",
      "\n",
      "current rise 290.5\n",
      "fall 0\n",
      "offset 1.2027777777777828\n",
      "newrise 289.2972222222222\n",
      "nooooooooo\n",
      "291.00,2020-11-4 2:39:44.560\n",
      "\n",
      "current rise 289.2972222222222\n",
      "fall 0\n",
      "offset -1.0361111111110972\n",
      "newrise 290.3333333333333\n",
      "nooooooooo\n",
      "287.00,2020-11-4 2:39:54.516\n",
      "\n",
      "current rise 290.3333333333333\n",
      "fall 0\n",
      "offset 0.5361111111110972\n",
      "newrise 289.7972222222222\n",
      "nooooooooo\n",
      "0.00,2020-11-4 2:40:3.465\n",
      "\n",
      "current rise 289.7972222222222\n",
      "fall 0\n",
      "offset 218.8388888888889\n",
      "newrise 70.95833333333331\n",
      "nooooooooo\n",
      "0.00,2020-11-4 2:40:13.413\n",
      "\n",
      "current rise 70.95833333333331\n",
      "fall 0\n",
      "offset 70.95833333333331\n",
      "newrise 0.0\n",
      "yeaaaaaaaaaaa\n",
      "*****\n"
     ]
    }
   ],
   "source": [
    "ser = serial.Serial('COM3', 115200) # remove later\n",
    "time.sleep(2)\n",
    "\n",
    "\n",
    "# Read and record the data\n",
    "for i in range(10):\n",
    "    buffer, time_buffer = get_signal(BUFFER_SIZE)\n",
    "    events = event_detection(buffer) # if no on events, check for off events\n",
    "    if len(events)>0:\n",
    "        start = time.time()\n",
    "        print(f'{len(events)} events detected')\n",
    "        for ev in events:\n",
    "            sig = buffer[ev:ev+SIG_SIZE]\n",
    "            if len(sig) != SIG_SIZE:\n",
    "                print('signal not adequate, shifting buffer')\n",
    "                buffer = np.roll(buffer, -SIG_SIZE)\n",
    "                time_buffer = np.roll(time_buffer, -SIG_SIZE)\n",
    "                temp_buffer, temp_time_buffer = get_signal(SIG_SIZE)\n",
    "                buffer[BUFFER_SIZE-SIG_SIZE:] = temp_buffer\n",
    "                time_buffer[BUFFER_SIZE-SIG_SIZE:] = temp_time_buffer\n",
    "                events = event_detection(buffer)\n",
    "                print(f'{len(events)} events detected on reconstructing')\n",
    "            if len(events)>0:\n",
    "                for ev in events:\n",
    "                    sig = buffer[ev:ev+SIG_SIZE]\n",
    "                    if sig.mean() > prev_mean:\n",
    "                        sig = sig - prev_mean\n",
    "                        sig_ts = time_buffer[ev]\n",
    "                        sig = sig.reshape((sig.shape[0]//SIG_SIZE,SIG_SIZE))\n",
    "                        rise = buffer[ev+SIG_SIZE:].mean()\n",
    "                        guess = clf.predict(sig)\n",
    "                        end = time.time()\n",
    "                        acc = clf.predict_proba(sig).max()\n",
    "                        active_appliances += 1\n",
    "                        print(f'{guess} turned on at {sig_ts} with rise {rise}, Acc.: {acc}')\n",
    "                        if acc > 0.80:\n",
    "                            if prev_guess == guess:\n",
    "                                print(f'It seems the {guess} was detected again at {sig_ts}, if true confirm in {local_name}, but if different, name it\\n')\n",
    "                                name = input('Enter the name!\\n')\n",
    "                                if name == guess:\n",
    "                                    # for decremening active_devices and clubbing\n",
    "                                    # save signature\n",
    "                                    pass\n",
    "                                else:\n",
    "                                    # save signature\n",
    "                                    pass\n",
    "                                prev_guess = guess\n",
    "                                log_event(name,sig_ts,rise,sig)\n",
    "                                #here might want to decrement active_devices and remove start time from it and club it by comparing prev and current guess!\n",
    "                            else:\n",
    "                                name = input(f'An appliance  was detected at {sig_ts}! Some people named it as {guess}, would you like to name it?\\n')\n",
    "                                prev_guess = guess\n",
    "                                log_event(name,sig_ts,rise,sig)\n",
    "                        else:\n",
    "#                             name = input(f'An unrecognized device was detected at {sig_ts}, please name it\\n')\n",
    "                            name = guess\n",
    "                            prev_guess = guess\n",
    "                            log_event(name,sig_ts,rise,sig)\n",
    "                print(f'Total time taken {end-start:.3f} s')\n",
    "                break # breaks previous 'for-loops' of events \n",
    "        \n",
    "\n",
    "    else:\n",
    "        prev_mean = buffer.mean()\n",
    "        for aplnc in range(active_appliances):\n",
    "            # update values of rise to find off event\n",
    "            curr_val = prev_mean\n",
    "            m = track_device(aplnc,curr_val,time_buffer[-1])\n",
    "        if m == 1:\n",
    "            print('*****')\n",
    "            break #breaks i iterator\n",
    "        "
   ]
  },
  {
   "cell_type": "code",
   "execution_count": 274,
   "metadata": {},
   "outputs": [],
   "source": [
    "ser.close()"
   ]
  },
  {
   "cell_type": "code",
   "execution_count": 275,
   "metadata": {},
   "outputs": [
    {
     "data": {
      "text/html": [
       "<div>\n",
       "<style scoped>\n",
       "    .dataframe tbody tr th:only-of-type {\n",
       "        vertical-align: middle;\n",
       "    }\n",
       "\n",
       "    .dataframe tbody tr th {\n",
       "        vertical-align: top;\n",
       "    }\n",
       "\n",
       "    .dataframe thead th {\n",
       "        text-align: right;\n",
       "    }\n",
       "</style>\n",
       "<table border=\"1\" class=\"dataframe\">\n",
       "  <thead>\n",
       "    <tr style=\"text-align: right;\">\n",
       "      <th></th>\n",
       "      <th>Sig</th>\n",
       "      <th>Name</th>\n",
       "      <th>Turned ON</th>\n",
       "      <th>Init Rise</th>\n",
       "      <th>Curr Rise</th>\n",
       "      <th>Fall</th>\n",
       "      <th>Turned OFF</th>\n",
       "    </tr>\n",
       "  </thead>\n",
       "  <tbody>\n",
       "    <tr>\n",
       "      <th>0</th>\n",
       "      <td>[[33.0, 268.0, 268.0, 268.0, 268.0, 268.0, 268...</td>\n",
       "      <td>washing machine</td>\n",
       "      <td>2020-11-04 02:39:17.150</td>\n",
       "      <td>290.5</td>\n",
       "      <td>0.0</td>\n",
       "      <td>0</td>\n",
       "      <td>2020-11-04 02:40:13.413000</td>\n",
       "    </tr>\n",
       "  </tbody>\n",
       "</table>\n",
       "</div>"
      ],
      "text/plain": [
       "                                                 Sig             Name  \\\n",
       "0  [[33.0, 268.0, 268.0, 268.0, 268.0, 268.0, 268...  washing machine   \n",
       "\n",
       "                Turned ON  Init Rise  Curr Rise Fall  \\\n",
       "0 2020-11-04 02:39:17.150      290.5        0.0    0   \n",
       "\n",
       "                   Turned OFF  \n",
       "0  2020-11-04 02:40:13.413000  "
      ]
     },
     "execution_count": 275,
     "metadata": {},
     "output_type": "execute_result"
    }
   ],
   "source": [
    "logs_df"
   ]
  },
  {
   "cell_type": "code",
   "execution_count": 207,
   "metadata": {},
   "outputs": [
    {
     "data": {
      "text/plain": [
       "True"
      ]
     },
     "execution_count": 207,
     "metadata": {},
     "output_type": "execute_result"
    }
   ],
   "source": [
    "math.isclose((logs_df['Curr Rise'][0]),(logs_df['Fall'][0]),abs_tol=abs((logs_df['Init Rise'][0])*1/100)) "
   ]
  },
  {
   "cell_type": "code",
   "execution_count": null,
   "metadata": {},
   "outputs": [],
   "source": []
  },
  {
   "cell_type": "code",
   "execution_count": 56,
   "metadata": {},
   "outputs": [
    {
     "data": {
      "text/plain": [
       "False"
      ]
     },
     "execution_count": 56,
     "metadata": {},
     "output_type": "execute_result"
    }
   ],
   "source": [
    "(pd.to_datetime('2020-11-03 00:28:50.575000'))> pd.to_datetime('2020-11-04 00:28:50.575000')"
   ]
  },
  {
   "cell_type": "code",
   "execution_count": 61,
   "metadata": {},
   "outputs": [],
   "source": [
    "import datetime"
   ]
  },
  {
   "cell_type": "code",
   "execution_count": 69,
   "metadata": {},
   "outputs": [
    {
     "data": {
      "text/plain": [
       "Timestamp('2020-11-03 00:28:53.575000')"
      ]
     },
     "execution_count": 69,
     "metadata": {},
     "output_type": "execute_result"
    }
   ],
   "source": [
    "pd.to_datetime('2020-11-03 00:28:50.575000') + datetime.timedelta(seconds=3)"
   ]
  },
  {
   "cell_type": "code",
   "execution_count": null,
   "metadata": {},
   "outputs": [],
   "source": []
  }
 ],
 "metadata": {
  "kernelspec": {
   "display_name": "Python 3",
   "language": "python",
   "name": "python3"
  },
  "language_info": {
   "codemirror_mode": {
    "name": "ipython",
    "version": 3
   },
   "file_extension": ".py",
   "mimetype": "text/x-python",
   "name": "python",
   "nbconvert_exporter": "python",
   "pygments_lexer": "ipython3",
   "version": "3.6.11"
  }
 },
 "nbformat": 4,
 "nbformat_minor": 4
}
