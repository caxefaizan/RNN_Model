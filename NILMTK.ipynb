{
 "cells": [
  {
   "cell_type": "code",
   "execution_count": 1,
   "metadata": {},
   "outputs": [],
   "source": [
    "import nilmtk\n",
    "import pandas as pd"
   ]
  },
  {
   "cell_type": "code",
   "execution_count": 2,
   "metadata": {},
   "outputs": [],
   "source": [
    "from nilmtk import DataSet"
   ]
  },
  {
   "cell_type": "code",
   "execution_count": 3,
   "metadata": {},
   "outputs": [],
   "source": [
    "iawe = DataSet('iawe.h5')"
   ]
  },
  {
   "cell_type": "code",
   "execution_count": 4,
   "metadata": {},
   "outputs": [
    {
     "data": {
      "text/plain": [
       "MeterGroup(meters=\n",
       "  ElecMeter(instance=1, building=1, dataset='iAWE', site_meter, appliances=[])\n",
       "  ElecMeter(instance=2, building=1, dataset='iAWE', site_meter, appliances=[])\n",
       "  ElecMeter(instance=3, building=1, dataset='iAWE', appliances=[Appliance(type='fridge', instance=1)])\n",
       "  ElecMeter(instance=4, building=1, dataset='iAWE', appliances=[Appliance(type='air conditioner', instance=1)])\n",
       "  ElecMeter(instance=5, building=1, dataset='iAWE', appliances=[Appliance(type='air conditioner', instance=2)])\n",
       "  ElecMeter(instance=6, building=1, dataset='iAWE', appliances=[Appliance(type='washing machine', instance=1)])\n",
       "  ElecMeter(instance=7, building=1, dataset='iAWE', appliances=[Appliance(type='computer', instance=1)])\n",
       "  ElecMeter(instance=8, building=1, dataset='iAWE', appliances=[Appliance(type='clothes iron', instance=1)])\n",
       "  ElecMeter(instance=9, building=1, dataset='iAWE', appliances=[Appliance(type='unknown', instance=1)])\n",
       "  ElecMeter(instance=10, building=1, dataset='iAWE', appliances=[Appliance(type='television', instance=1)])\n",
       "  ElecMeter(instance=11, building=1, dataset='iAWE', appliances=[Appliance(type='wet appliance', instance=1)])\n",
       "  ElecMeter(instance=12, building=1, dataset='iAWE', appliances=[Appliance(type='motor', instance=1)])\n",
       ")"
      ]
     },
     "execution_count": 4,
     "metadata": {},
     "output_type": "execute_result"
    }
   ],
   "source": [
    "elec = iawe.buildings[1].elec\n",
    "elec"
   ]
  },
  {
   "cell_type": "code",
   "execution_count": 5,
   "metadata": {},
   "outputs": [
    {
     "data": {
      "text/plain": [
       "[('power', 'reactive'),\n",
       " ('power', 'apparent'),\n",
       " ('current', None),\n",
       " ('power factor', None),\n",
       " ('frequency', None),\n",
       " ('voltage', None),\n",
       " ('power', 'active')]"
      ]
     },
     "execution_count": 5,
     "metadata": {},
     "output_type": "execute_result"
    }
   ],
   "source": [
    "fridge = elec['fridge']\n",
    "fridge.available_columns()"
   ]
  },
  {
   "cell_type": "code",
   "execution_count": 7,
   "metadata": {},
   "outputs": [
    {
     "data": {
      "text/html": [
       "<div>\n",
       "<style scoped>\n",
       "    .dataframe tbody tr th:only-of-type {\n",
       "        vertical-align: middle;\n",
       "    }\n",
       "\n",
       "    .dataframe tbody tr th {\n",
       "        vertical-align: top;\n",
       "    }\n",
       "\n",
       "    .dataframe thead tr th {\n",
       "        text-align: left;\n",
       "    }\n",
       "</style>\n",
       "<table border=\"1\" class=\"dataframe\">\n",
       "  <thead>\n",
       "    <tr>\n",
       "      <th>physical_quantity</th>\n",
       "      <th colspan=\"2\" halign=\"left\">power</th>\n",
       "      <th>current</th>\n",
       "      <th>frequency</th>\n",
       "      <th>voltage</th>\n",
       "      <th>power</th>\n",
       "    </tr>\n",
       "    <tr>\n",
       "      <th>type</th>\n",
       "      <th>reactive</th>\n",
       "      <th>apparent</th>\n",
       "      <th></th>\n",
       "      <th></th>\n",
       "      <th></th>\n",
       "      <th>active</th>\n",
       "    </tr>\n",
       "  </thead>\n",
       "  <tbody>\n",
       "    <tr>\n",
       "      <th>2013-06-07 05:30:00+05:30</th>\n",
       "      <td>2.483</td>\n",
       "      <td>2.486</td>\n",
       "      <td>0.011</td>\n",
       "      <td>50.070000</td>\n",
       "      <td>235.070007</td>\n",
       "      <td>0.111</td>\n",
       "    </tr>\n",
       "    <tr>\n",
       "      <th>2013-06-07 05:30:01+05:30</th>\n",
       "      <td>2.547</td>\n",
       "      <td>2.555</td>\n",
       "      <td>0.011</td>\n",
       "      <td>50.080002</td>\n",
       "      <td>235.020004</td>\n",
       "      <td>0.200</td>\n",
       "    </tr>\n",
       "    <tr>\n",
       "      <th>2013-06-07 05:30:02+05:30</th>\n",
       "      <td>2.480</td>\n",
       "      <td>2.485</td>\n",
       "      <td>0.011</td>\n",
       "      <td>50.080002</td>\n",
       "      <td>234.979996</td>\n",
       "      <td>0.152</td>\n",
       "    </tr>\n",
       "    <tr>\n",
       "      <th>2013-06-07 05:30:03+05:30</th>\n",
       "      <td>2.444</td>\n",
       "      <td>2.449</td>\n",
       "      <td>0.010</td>\n",
       "      <td>50.060001</td>\n",
       "      <td>235.000000</td>\n",
       "      <td>0.159</td>\n",
       "    </tr>\n",
       "    <tr>\n",
       "      <th>2013-06-07 05:30:04+05:30</th>\n",
       "      <td>2.510</td>\n",
       "      <td>2.519</td>\n",
       "      <td>0.011</td>\n",
       "      <td>50.060001</td>\n",
       "      <td>234.949997</td>\n",
       "      <td>0.215</td>\n",
       "    </tr>\n",
       "  </tbody>\n",
       "</table>\n",
       "</div>"
      ],
      "text/plain": [
       "physical_quantity            power          current  frequency     voltage  \\\n",
       "type                      reactive apparent                                  \n",
       "2013-06-07 05:30:00+05:30    2.483    2.486   0.011  50.070000  235.070007   \n",
       "2013-06-07 05:30:01+05:30    2.547    2.555   0.011  50.080002  235.020004   \n",
       "2013-06-07 05:30:02+05:30    2.480    2.485   0.011  50.080002  234.979996   \n",
       "2013-06-07 05:30:03+05:30    2.444    2.449   0.010  50.060001  235.000000   \n",
       "2013-06-07 05:30:04+05:30    2.510    2.519   0.011  50.060001  234.949997   \n",
       "\n",
       "physical_quantity          power  \n",
       "type                      active  \n",
       "2013-06-07 05:30:00+05:30  0.111  \n",
       "2013-06-07 05:30:01+05:30  0.200  \n",
       "2013-06-07 05:30:02+05:30  0.152  \n",
       "2013-06-07 05:30:03+05:30  0.159  \n",
       "2013-06-07 05:30:04+05:30  0.215  "
      ]
     },
     "execution_count": 7,
     "metadata": {},
     "output_type": "execute_result"
    }
   ],
   "source": [
    "df = next(fridge.load())\n",
    "df.head()"
   ]
  },
  {
   "cell_type": "code",
   "execution_count": 8,
   "metadata": {},
   "outputs": [],
   "source": [
    "mi = df.columns"
   ]
  },
  {
   "cell_type": "code",
   "execution_count": 9,
   "metadata": {},
   "outputs": [
    {
     "data": {
      "text/plain": [
       "MultiIndex([(    'power', 'reactive'),\n",
       "            (    'power', 'apparent'),\n",
       "            (  'current',         ''),\n",
       "            ('frequency',         ''),\n",
       "            (  'voltage',         ''),\n",
       "            (    'power',   'active')],\n",
       "           names=['physical_quantity', 'type'])"
      ]
     },
     "execution_count": 9,
     "metadata": {},
     "output_type": "execute_result"
    }
   ],
   "source": [
    "mi"
   ]
  },
  {
   "cell_type": "code",
   "execution_count": 21,
   "metadata": {},
   "outputs": [],
   "source": [
    "tb = pd.DataFrame(columns = df.columns)"
   ]
  },
  {
   "cell_type": "code",
   "execution_count": 22,
   "metadata": {},
   "outputs": [],
   "source": [
    "new_df = pd.read_csv('ac_seconds.csv',names =df.columns)"
   ]
  },
  {
   "cell_type": "code",
   "execution_count": 23,
   "metadata": {},
   "outputs": [
    {
     "data": {
      "text/html": [
       "<div>\n",
       "<style scoped>\n",
       "    .dataframe tbody tr th:only-of-type {\n",
       "        vertical-align: middle;\n",
       "    }\n",
       "\n",
       "    .dataframe tbody tr th {\n",
       "        vertical-align: top;\n",
       "    }\n",
       "\n",
       "    .dataframe thead tr th {\n",
       "        text-align: left;\n",
       "    }\n",
       "</style>\n",
       "<table border=\"1\" class=\"dataframe\">\n",
       "  <thead>\n",
       "    <tr>\n",
       "      <th></th>\n",
       "      <th colspan=\"2\" halign=\"left\">power</th>\n",
       "      <th>current</th>\n",
       "      <th>frequency</th>\n",
       "      <th>voltage</th>\n",
       "      <th>power</th>\n",
       "    </tr>\n",
       "    <tr>\n",
       "      <th></th>\n",
       "      <th>reactive</th>\n",
       "      <th>apparent</th>\n",
       "      <th></th>\n",
       "      <th></th>\n",
       "      <th></th>\n",
       "      <th>active</th>\n",
       "    </tr>\n",
       "  </thead>\n",
       "  <tbody>\n",
       "    <tr>\n",
       "      <th>2020-08-12 00:00:00+05:30</th>\n",
       "      <td>3000.00</td>\n",
       "      <td>3000.0</td>\n",
       "      <td>9.94</td>\n",
       "      <td>49.98</td>\n",
       "      <td>230.07</td>\n",
       "      <td>-3.0</td>\n",
       "    </tr>\n",
       "    <tr>\n",
       "      <th>2020-08-12 00:00:01+05:30</th>\n",
       "      <td>2500.00</td>\n",
       "      <td>2500.0</td>\n",
       "      <td>9.93</td>\n",
       "      <td>49.98</td>\n",
       "      <td>230.15</td>\n",
       "      <td>-5.0</td>\n",
       "    </tr>\n",
       "    <tr>\n",
       "      <th>2020-08-12 00:00:02+05:30</th>\n",
       "      <td>2799.97</td>\n",
       "      <td>2800.0</td>\n",
       "      <td>9.92</td>\n",
       "      <td>49.98</td>\n",
       "      <td>230.15</td>\n",
       "      <td>-14.0</td>\n",
       "    </tr>\n",
       "    <tr>\n",
       "      <th>2020-08-12 00:00:03+05:30</th>\n",
       "      <td>2599.97</td>\n",
       "      <td>2600.0</td>\n",
       "      <td>9.89</td>\n",
       "      <td>49.98</td>\n",
       "      <td>230.15</td>\n",
       "      <td>-13.0</td>\n",
       "    </tr>\n",
       "    <tr>\n",
       "      <th>2020-08-12 00:00:04+05:30</th>\n",
       "      <td>2374.92</td>\n",
       "      <td>2375.0</td>\n",
       "      <td>9.88</td>\n",
       "      <td>49.98</td>\n",
       "      <td>230.14</td>\n",
       "      <td>-19.0</td>\n",
       "    </tr>\n",
       "  </tbody>\n",
       "</table>\n",
       "</div>"
      ],
      "text/plain": [
       "                             power          current frequency voltage  power\n",
       "                          reactive apparent                           active\n",
       "2020-08-12 00:00:00+05:30  3000.00   3000.0    9.94     49.98  230.07   -3.0\n",
       "2020-08-12 00:00:01+05:30  2500.00   2500.0    9.93     49.98  230.15   -5.0\n",
       "2020-08-12 00:00:02+05:30  2799.97   2800.0    9.92     49.98  230.15  -14.0\n",
       "2020-08-12 00:00:03+05:30  2599.97   2600.0    9.89     49.98  230.15  -13.0\n",
       "2020-08-12 00:00:04+05:30  2374.92   2375.0    9.88     49.98  230.14  -19.0"
      ]
     },
     "execution_count": 23,
     "metadata": {},
     "output_type": "execute_result"
    }
   ],
   "source": [
    "new_df.head()"
   ]
  },
  {
   "cell_type": "code",
   "execution_count": 24,
   "metadata": {},
   "outputs": [
    {
     "data": {
      "text/html": [
       "<div>\n",
       "<style scoped>\n",
       "    .dataframe tbody tr th:only-of-type {\n",
       "        vertical-align: middle;\n",
       "    }\n",
       "\n",
       "    .dataframe tbody tr th {\n",
       "        vertical-align: top;\n",
       "    }\n",
       "\n",
       "    .dataframe thead tr th {\n",
       "        text-align: left;\n",
       "    }\n",
       "</style>\n",
       "<table border=\"1\" class=\"dataframe\">\n",
       "  <thead>\n",
       "    <tr>\n",
       "      <th>physical_quantity</th>\n",
       "      <th colspan=\"2\" halign=\"left\">power</th>\n",
       "      <th>current</th>\n",
       "      <th>frequency</th>\n",
       "      <th>voltage</th>\n",
       "      <th>power</th>\n",
       "    </tr>\n",
       "    <tr>\n",
       "      <th>type</th>\n",
       "      <th>reactive</th>\n",
       "      <th>apparent</th>\n",
       "      <th></th>\n",
       "      <th></th>\n",
       "      <th></th>\n",
       "      <th>active</th>\n",
       "    </tr>\n",
       "  </thead>\n",
       "  <tbody>\n",
       "    <tr>\n",
       "      <th>2020-08-12 00:00:00+05:30</th>\n",
       "      <td>3000.00</td>\n",
       "      <td>3000.0</td>\n",
       "      <td>9.94</td>\n",
       "      <td>49.98</td>\n",
       "      <td>230.07</td>\n",
       "      <td>-3.0</td>\n",
       "    </tr>\n",
       "    <tr>\n",
       "      <th>2020-08-12 00:00:01+05:30</th>\n",
       "      <td>2500.00</td>\n",
       "      <td>2500.0</td>\n",
       "      <td>9.93</td>\n",
       "      <td>49.98</td>\n",
       "      <td>230.15</td>\n",
       "      <td>-5.0</td>\n",
       "    </tr>\n",
       "    <tr>\n",
       "      <th>2020-08-12 00:00:02+05:30</th>\n",
       "      <td>2799.97</td>\n",
       "      <td>2800.0</td>\n",
       "      <td>9.92</td>\n",
       "      <td>49.98</td>\n",
       "      <td>230.15</td>\n",
       "      <td>-14.0</td>\n",
       "    </tr>\n",
       "    <tr>\n",
       "      <th>2020-08-12 00:00:03+05:30</th>\n",
       "      <td>2599.97</td>\n",
       "      <td>2600.0</td>\n",
       "      <td>9.89</td>\n",
       "      <td>49.98</td>\n",
       "      <td>230.15</td>\n",
       "      <td>-13.0</td>\n",
       "    </tr>\n",
       "    <tr>\n",
       "      <th>2020-08-12 00:00:04+05:30</th>\n",
       "      <td>2374.92</td>\n",
       "      <td>2375.0</td>\n",
       "      <td>9.88</td>\n",
       "      <td>49.98</td>\n",
       "      <td>230.14</td>\n",
       "      <td>-19.0</td>\n",
       "    </tr>\n",
       "  </tbody>\n",
       "</table>\n",
       "</div>"
      ],
      "text/plain": [
       "physical_quantity            power          current frequency voltage  power\n",
       "type                      reactive apparent                           active\n",
       "2020-08-12 00:00:00+05:30  3000.00   3000.0    9.94     49.98  230.07   -3.0\n",
       "2020-08-12 00:00:01+05:30  2500.00   2500.0    9.93     49.98  230.15   -5.0\n",
       "2020-08-12 00:00:02+05:30  2799.97   2800.0    9.92     49.98  230.15  -14.0\n",
       "2020-08-12 00:00:03+05:30  2599.97   2600.0    9.89     49.98  230.15  -13.0\n",
       "2020-08-12 00:00:04+05:30  2374.92   2375.0    9.88     49.98  230.14  -19.0"
      ]
     },
     "execution_count": 24,
     "metadata": {},
     "output_type": "execute_result"
    }
   ],
   "source": [
    "tb[df.columns]= new_df[new_df.columns]\n",
    "tb.head()"
   ]
  },
  {
   "cell_type": "markdown",
   "metadata": {},
   "source": [
    "tb.to_hdf('CAXE.h5', key='CAXE', mode='w')"
   ]
  },
  {
   "cell_type": "code",
   "execution_count": 25,
   "metadata": {},
   "outputs": [],
   "source": [
    "import numpy as np\n",
    "from os.path import join\n",
    "from nilmtk.datastore import Key\n",
    "from nilmtk.measurement import LEVEL_NAMES\n",
    "from nilmtk.utils import check_directory_exists, get_datastore, get_module_directory\n",
    "from nilm_metadata import convert_yaml_to_hdf5\n",
    "from copy import deepcopy"
   ]
  },
  {
   "cell_type": "code",
   "execution_count": 37,
   "metadata": {
    "scrolled": true
   },
   "outputs": [
    {
     "name": "stdout",
     "output_type": "stream",
     "text": [
      "Loading  1\n",
      "Done converting YAML metadata to HDF5!\n",
      "Done converting iAWE to HDF5!\n"
     ]
    }
   ],
   "source": [
    "TIMESTAMP_COLUMN_NAME = \"timestamp\"\n",
    "TIMEZONE = \"Asia/Kolkata\"\n",
    "START_DATETIME, END_DATETIME = '2020-08-12', '2020-08-12'\n",
    "FREQ = \"S\"\n",
    "\n",
    "output_filename = 'caxe25'\n",
    "\"\"\"\n",
    "Parameters\n",
    "----------\n",
    "iawe_path : str\n",
    "    The root path of the iawe dataset.\n",
    "output_filename : str\n",
    "    The destination filename (including path and suffix).\n",
    "\"\"\"\n",
    "\n",
    "# Open data store\n",
    "store = get_datastore(output_filename, format='HDF', mode='w')\n",
    "\n",
    "key = Key(building=1, meter=1)\n",
    "print('Loading ', 1)\n",
    "\n",
    "df =tb\n",
    "df = df.dropna()\n",
    "df = df.astype(np.float32)\n",
    "df = df.sort_index()\n",
    "\n",
    "assert df.isnull().sum().sum() == 0\n",
    "store.put(str(key), df)\n",
    "store.close()\n",
    "\n",
    "convert_yaml_to_hdf5('./metadata', output_filename)\n",
    "\n",
    "print(\"Done converting iAWE to HDF5!\")"
   ]
  },
  {
   "cell_type": "code",
   "execution_count": 168,
   "metadata": {},
   "outputs": [],
   "source": [
    "from nilmtk import DataSet\n",
    "from nilmtk.utils import print_dict\n",
    "\n",
    "caxe = DataSet('./caxe9')"
   ]
  },
  {
   "cell_type": "code",
   "execution_count": 18,
   "metadata": {},
   "outputs": [
    {
     "data": {
      "text/plain": [
       "<function nilmtk.datastore.hdfdatastore.DocInherit.get_with_inst.<locals>.f>"
      ]
     },
     "execution_count": 18,
     "metadata": {},
     "output_type": "execute_result"
    }
   ],
   "source": [
    "store.close"
   ]
  },
  {
   "cell_type": "code",
   "execution_count": 169,
   "metadata": {},
   "outputs": [
    {
     "data": {
      "text/plain": [
       "<nilmtk.dataset.DataSet at 0x1a82464ab00>"
      ]
     },
     "execution_count": 169,
     "metadata": {},
     "output_type": "execute_result"
    }
   ],
   "source": [
    "caxe"
   ]
  },
  {
   "cell_type": "code",
   "execution_count": 171,
   "metadata": {},
   "outputs": [
    {
     "data": {
      "text/plain": [
       "OrderedDict([(1, Building(instance=1, dataset='iAWE'))])"
      ]
     },
     "execution_count": 171,
     "metadata": {},
     "output_type": "execute_result"
    }
   ],
   "source": [
    "caxe.buildings"
   ]
  },
  {
   "cell_type": "code",
   "execution_count": 28,
   "metadata": {},
   "outputs": [
    {
     "ename": "NameError",
     "evalue": "name 'caxe' is not defined",
     "output_type": "error",
     "traceback": [
      "\u001b[1;31m---------------------------------------------------------------------------\u001b[0m",
      "\u001b[1;31mNameError\u001b[0m                                 Traceback (most recent call last)",
      "\u001b[1;32m<ipython-input-28-cfddcd9e6bec>\u001b[0m in \u001b[0;36m<module>\u001b[1;34m()\u001b[0m\n\u001b[1;32m----> 1\u001b[1;33m \u001b[0mcaxe\u001b[0m\u001b[1;33m.\u001b[0m\u001b[0mmetadata\u001b[0m\u001b[1;33m\u001b[0m\u001b[1;33m\u001b[0m\u001b[0m\n\u001b[0m",
      "\u001b[1;31mNameError\u001b[0m: name 'caxe' is not defined"
     ]
    }
   ],
   "source": [
    "caxe.metadata"
   ]
  },
  {
   "cell_type": "code",
   "execution_count": null,
   "metadata": {},
   "outputs": [],
   "source": []
  }
 ],
 "metadata": {
  "kernelspec": {
   "display_name": "Python 3",
   "language": "python",
   "name": "python3"
  },
  "language_info": {
   "codemirror_mode": {
    "name": "ipython",
    "version": 3
   },
   "file_extension": ".py",
   "mimetype": "text/x-python",
   "name": "python",
   "nbconvert_exporter": "python",
   "pygments_lexer": "ipython3",
   "version": "3.6.11"
  }
 },
 "nbformat": 4,
 "nbformat_minor": 4
}
