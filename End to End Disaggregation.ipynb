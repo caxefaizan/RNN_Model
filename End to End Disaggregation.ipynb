{
 "cells": [
  {
   "cell_type": "code",
   "execution_count": 7,
   "metadata": {},
   "outputs": [],
   "source": [
    "from nilmtk import DataSet\n",
    "import pandas as pd"
   ]
  },
  {
   "cell_type": "code",
   "execution_count": 2,
   "metadata": {},
   "outputs": [],
   "source": [
    "iawe = DataSet('iawe.h5')"
   ]
  },
  {
   "cell_type": "code",
   "execution_count": 3,
   "metadata": {},
   "outputs": [],
   "source": [
    "elec = iawe.buildings[1].elec"
   ]
  },
  {
   "cell_type": "code",
   "execution_count": 4,
   "metadata": {},
   "outputs": [],
   "source": [
    "fridge = elec['fridge']"
   ]
  },
  {
   "cell_type": "code",
   "execution_count": 5,
   "metadata": {},
   "outputs": [],
   "source": [
    "df = next(fridge.load())"
   ]
  },
  {
   "cell_type": "code",
   "execution_count": 6,
   "metadata": {},
   "outputs": [],
   "source": [
    "mi = df.columns"
   ]
  },
  {
   "cell_type": "code",
   "execution_count": 8,
   "metadata": {},
   "outputs": [],
   "source": [
    "new_df = pd.read_csv('ac_seconds4.csv',names =['timestamp','R','A','C','F','V','T'])"
   ]
  },
  {
   "cell_type": "code",
   "execution_count": 9,
   "metadata": {},
   "outputs": [],
   "source": [
    "import numpy as np\n",
    "from os.path import join\n",
    "from nilmtk.datastore import Key\n",
    "from nilmtk.measurement import LEVEL_NAMES\n",
    "from nilmtk.utils import check_directory_exists, get_datastore, get_module_directory\n",
    "from nilm_metadata import convert_yaml_to_hdf5\n",
    "from copy import deepcopy"
   ]
  },
  {
   "cell_type": "code",
   "execution_count": null,
   "metadata": {},
   "outputs": [],
   "source": [
    "def reindex_fill_na(df, idx):\n",
    "    df_copy = deepcopy(df)\n",
    "    df_copy = df_copy.reindex(idx)\n",
    "\n",
    "    power_columns = [x for x in df.columns if x[0] in ['power']]\n",
    "    non_power_columns = [x for x in df.columns if x not in power_columns]\n",
    "\n",
    "    for power in power_columns:\n",
    "        df_copy[power].fillna(0, inplace=True)\n",
    "    for measurement in non_power_columns:\n",
    "        df_copy[measurement].fillna(df[measurement].median(), inplace=True)\n",
    "\n",
    "    return df_copy\n",
    "column_mapping = {\n",
    "    'F': ('frequency', \"\"),\n",
    "    'V': ('voltage', \"\"),\n",
    "    'T': ('power', 'active'),\n",
    "    'C': ('current', ''),\n",
    "    'R': ('power', 'reactive'),\n",
    "    'A': ('power', 'apparent'),\n",
    "}\n",
    "\n",
    "TIMESTAMP_COLUMN_NAME = \"timestamp\"\n",
    "TIMEZONE = \"Asia/Kolkata\"\n",
    "START_DATETIME, END_DATETIME = '2020-08-12', '2020-08-14'\n",
    "FREQ = \"1T\"\n",
    "\n",
    "output_filename = 'caxe6.h5'\n",
    "\n",
    "# Open data store\n",
    "store = get_datastore(output_filename, format='HDF', mode='w')\n",
    "idx = pd.date_range(start=START_DATETIME, end=END_DATETIME, freq=FREQ)\n",
    "idx = idx.tz_localize('GMT').tz_convert(TIMEZONE)\n",
    "\n",
    "key = Key(building=1, meter=1)\n",
    "print('Loading ', 1)\n",
    "df =new_df[:]\n",
    "df.index = pd.to_datetime(df.timestamp.values)\n",
    "df = df.tz_convert(TIMEZONE)\n",
    "df = df.drop(TIMESTAMP_COLUMN_NAME, 1)\n",
    "df.index = pd.to_datetime(df.index.values)\n",
    "df.columns = pd.MultiIndex.from_tuples(\n",
    "            [column_mapping[x] for x in df.columns],\n",
    "            names=LEVEL_NAMES\n",
    "        )\n",
    "df = df.apply(pd.to_numeric, errors='ignore')\n",
    "df = df.dropna()\n",
    "df = df.astype(np.float32)\n",
    "df = df.sort_index()\n",
    "df = df.resample(\"1T\").mean()\n",
    "df = df.set_index(idx[:115])\n",
    "print(df)\n",
    "\n",
    "assert df.isnull().sum().sum() == 0\n",
    "# Open data store\n",
    "\n",
    "store.put(str(key), df)\n",
    "key = Key(building=1, meter=2)\n",
    "store.put(str(key), df)\n",
    "key = Key(building=1, meter=3)\n",
    "store.put(str(key), df)\n",
    "\n",
    "\n",
    "################################################################################\n",
    "store.close()\n",
    "\n",
    "convert_yaml_to_hdf5('./metadata', output_filename)\n",
    "\n",
    "print(\"Done converting iAWE to HDF5!\")"
   ]
  }
 ],
 "metadata": {
  "kernelspec": {
   "display_name": "Python 3",
   "language": "python",
   "name": "python3"
  },
  "language_info": {
   "codemirror_mode": {
    "name": "ipython",
    "version": 3
   },
   "file_extension": ".py",
   "mimetype": "text/x-python",
   "name": "python",
   "nbconvert_exporter": "python",
   "pygments_lexer": "ipython3",
   "version": "3.6.11"
  }
 },
 "nbformat": 4,
 "nbformat_minor": 4
}
