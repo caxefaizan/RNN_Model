{
 "cells": [
  {
   "cell_type": "code",
   "execution_count": 1,
   "metadata": {},
   "outputs": [],
   "source": [
    "import pandas as pd\n",
    "import numpy as np\n",
    "from nilmtk.datastore import Key\n",
    "from nilmtk.utils import check_directory_exists, get_datastore, get_module_directory\n",
    "from nilm_metadata import convert_yaml_to_hdf5"
   ]
  },
  {
   "cell_type": "code",
   "execution_count": 2,
   "metadata": {},
   "outputs": [],
   "source": [
    "def convert_data(file_name):\n",
    "    '''\n",
    "    Parameters\n",
    "    ------------\n",
    "    Takes input file name to be tested as string.\n",
    "    Data columns should contain following values ['timestamp','R','A','C','F','V','T']\n",
    "    Converts it into hdf5 Format.\n",
    "    '''\n",
    "    df = pd.read_csv(f'{file_name}',names =['timestamp','R','A','C','F','V','T'])\n",
    "    column_mapping = {\n",
    "        'F': ('frequency', \"\"),\n",
    "        'V': ('voltage', \"\"),\n",
    "        'T': ('power', 'active'),\n",
    "        'C': ('current', ''),\n",
    "        'R': ('power', 'reactive'),\n",
    "        'A': ('power', 'apparent'),\n",
    "    }\n",
    "\n",
    "    TIMESTAMP_COLUMN_NAME = \"timestamp\"\n",
    "    TIMEZONE = \"Asia/Kolkata\"\n",
    "    FREQ = \"1T\"\n",
    "#     output_name = file_name.split(sep='.')[0]\n",
    "    LEVEL_NAMES = ['physical_quantity', 'type']\n",
    "    output_filename = 'test.h5'\n",
    "\n",
    "    # Open data store\n",
    "    store = get_datastore(output_filename, format='HDF', mode='w')\n",
    "    key = Key(building=1, meter=1)\n",
    "    print('Loading ', 1)\n",
    "    df.index = pd.to_datetime(df.timestamp.values)\n",
    "    df = df.tz_convert(TIMEZONE) #  if error occurs use tz_localize for tz naive timestamps\n",
    "    df = df.drop(TIMESTAMP_COLUMN_NAME, 1)\n",
    "    df.index = pd.to_datetime(df.index.values)\n",
    "    df.columns = pd.MultiIndex.from_tuples(\n",
    "                [column_mapping[x] for x in df.columns],\n",
    "                names=LEVEL_NAMES\n",
    "            )\n",
    "    df = df.apply(pd.to_numeric, errors='ignore')\n",
    "    df = df.dropna()\n",
    "    df = df.astype(np.float32)\n",
    "    df = df.sort_index()\n",
    "    df = df.resample(\"1T\").mean()\n",
    "    assert df.isnull().sum().sum() == 0\n",
    "    store.put(str(key), df)\n",
    "    store.close()\n",
    "    convert_yaml_to_hdf5('./metadata', output_filename)\n",
    "\n",
    "    print(\"Done converting test data to HDF5!\")\n",
    "    return"
   ]
  },
  {
   "cell_type": "code",
   "execution_count": 3,
   "metadata": {},
   "outputs": [
    {
     "name": "stdout",
     "output_type": "stream",
     "text": [
      "Loading  1\n",
      "Done converting YAML metadata to HDF5!\n",
      "Done converting test data to HDF5!\n"
     ]
    }
   ],
   "source": [
    "convert_data('ac_seconds4.csv')"
   ]
  },
  {
   "cell_type": "code",
   "execution_count": 4,
   "metadata": {},
   "outputs": [],
   "source": [
    "from combinatorial_optimisation import CO\n",
    "from fhmm_exact import FHMMExact\n",
    "from hart_85 import Hart85\n",
    "from mean import Mean"
   ]
  },
  {
   "cell_type": "code",
   "execution_count": 18,
   "metadata": {},
   "outputs": [],
   "source": [
    "experiment1 = {\n",
    "'power': {'mains': ['apparent','active'],'appliance': ['apparent','active']},\n",
    "  'sample_rate': 60,\n",
    "  'appliances': ['air conditioner','fridge','washing machine','clothes iron','television'],\n",
    "  'methods': {\"CO\":CO({}),\"FHMM\":FHMMExact({'num_of_states':2}),'Mean':Mean({}),'Hart':Hart85({})},\n",
    "  'train': {    \n",
    "    'datasets': {\n",
    "        'iAWE': {\n",
    "            'path': './iAWE.h5',\n",
    "            'buildings': {\n",
    "                1: {\n",
    "                    'start_time': '2013-07-13', \n",
    "                    'end_time': '2013-08-04'\n",
    "                    }\n",
    "                }                \n",
    "            }\n",
    "        }\n",
    "    },\n",
    "  'test': {\n",
    "    'datasets': {\n",
    "        'CAXE': {\n",
    "            'path': './test.h5',\n",
    "            'buildings': {\n",
    "                1: {\n",
    "                    'start_time': '2020-08-12',\n",
    "                    'end_time': '2020-08-14'\n",
    "                    }\n",
    "                }\n",
    "            }\n",
    "        },\n",
    "        'metrics':['rmse']\n",
    "    }\n",
    "}"
   ]
  },
  {
   "cell_type": "code",
   "execution_count": 19,
   "metadata": {},
   "outputs": [],
   "source": [
    "from api import API"
   ]
  },
  {
   "cell_type": "code",
   "execution_count": 20,
   "metadata": {
    "scrolled": false
   },
   "outputs": [
    {
     "name": "stdout",
     "output_type": "stream",
     "text": [
      "Started training for  CO\n",
      "Joint training for  CO\n",
      "............... Loading Data for training ...................\n",
      "Loading data for  iAWE  dataset\n",
      "Loading building ...  1\n"
     ]
    },
    {
     "ename": "AttributeError",
     "evalue": "'NaTType' object has no attribute 'tz'",
     "output_type": "error",
     "traceback": [
      "\u001b[1;31m---------------------------------------------------------------------------\u001b[0m",
      "\u001b[1;31mAttributeError\u001b[0m                            Traceback (most recent call last)",
      "\u001b[1;32m<ipython-input-20-b6464cbcbd65>\u001b[0m in \u001b[0;36m<module>\u001b[1;34m()\u001b[0m\n\u001b[1;32m----> 1\u001b[1;33m \u001b[0mapi_results_experiment_1\u001b[0m \u001b[1;33m=\u001b[0m \u001b[0mAPI\u001b[0m\u001b[1;33m(\u001b[0m\u001b[0mexperiment1\u001b[0m\u001b[1;33m)\u001b[0m\u001b[1;33m\u001b[0m\u001b[1;33m\u001b[0m\u001b[0m\n\u001b[0m",
      "\u001b[1;32mC:\\Users\\Faizan\\Desktop\\nilmtk\\nilmtk\\api.py\u001b[0m in \u001b[0;36m__init__\u001b[1;34m(self, params)\u001b[0m\n\u001b[0;32m     43\u001b[0m         \u001b[0mself\u001b[0m\u001b[1;33m.\u001b[0m\u001b[0mdisplay_predictions\u001b[0m \u001b[1;33m=\u001b[0m \u001b[0mparams\u001b[0m\u001b[1;33m.\u001b[0m\u001b[0mget\u001b[0m\u001b[1;33m(\u001b[0m\u001b[1;34m'display_predictions'\u001b[0m\u001b[1;33m,\u001b[0m \u001b[1;32mFalse\u001b[0m\u001b[1;33m)\u001b[0m\u001b[1;33m\u001b[0m\u001b[1;33m\u001b[0m\u001b[0m\n\u001b[0;32m     44\u001b[0m         \u001b[0mself\u001b[0m\u001b[1;33m.\u001b[0m\u001b[0mDROP_ALL_NANS\u001b[0m \u001b[1;33m=\u001b[0m \u001b[0mparams\u001b[0m\u001b[1;33m.\u001b[0m\u001b[0mget\u001b[0m\u001b[1;33m(\u001b[0m\u001b[1;34m\"DROP_ALL_NANS\"\u001b[0m\u001b[1;33m,\u001b[0m \u001b[1;32mTrue\u001b[0m\u001b[1;33m)\u001b[0m\u001b[1;33m\u001b[0m\u001b[1;33m\u001b[0m\u001b[0m\n\u001b[1;32m---> 45\u001b[1;33m         \u001b[0mself\u001b[0m\u001b[1;33m.\u001b[0m\u001b[0mexperiment\u001b[0m\u001b[1;33m(\u001b[0m\u001b[1;33m)\u001b[0m\u001b[1;33m\u001b[0m\u001b[1;33m\u001b[0m\u001b[0m\n\u001b[0m\u001b[0;32m     46\u001b[0m \u001b[1;33m\u001b[0m\u001b[0m\n\u001b[0;32m     47\u001b[0m     \u001b[1;32mdef\u001b[0m \u001b[0mexperiment\u001b[0m\u001b[1;33m(\u001b[0m\u001b[0mself\u001b[0m\u001b[1;33m)\u001b[0m\u001b[1;33m:\u001b[0m\u001b[1;33m\u001b[0m\u001b[1;33m\u001b[0m\u001b[0m\n",
      "\u001b[1;32mC:\\Users\\Faizan\\Desktop\\nilmtk\\nilmtk\\api.py\u001b[0m in \u001b[0;36mexperiment\u001b[1;34m(self)\u001b[0m\n\u001b[0;32m     87\u001b[0m             \u001b[1;32melse\u001b[0m\u001b[1;33m:\u001b[0m\u001b[1;33m\u001b[0m\u001b[1;33m\u001b[0m\u001b[0m\n\u001b[0;32m     88\u001b[0m                 \u001b[0mprint\u001b[0m \u001b[1;33m(\u001b[0m\u001b[1;34m\"Joint training for \"\u001b[0m\u001b[1;33m,\u001b[0m\u001b[0mclf\u001b[0m\u001b[1;33m.\u001b[0m\u001b[0mMODEL_NAME\u001b[0m\u001b[1;33m)\u001b[0m\u001b[1;33m\u001b[0m\u001b[1;33m\u001b[0m\u001b[0m\n\u001b[1;32m---> 89\u001b[1;33m                 \u001b[0mself\u001b[0m\u001b[1;33m.\u001b[0m\u001b[0mtrain_jointly\u001b[0m\u001b[1;33m(\u001b[0m\u001b[0mclf\u001b[0m\u001b[1;33m,\u001b[0m\u001b[0md\u001b[0m\u001b[1;33m)\u001b[0m\u001b[1;33m\u001b[0m\u001b[1;33m\u001b[0m\u001b[0m\n\u001b[0m\u001b[0;32m     90\u001b[0m \u001b[1;33m\u001b[0m\u001b[0m\n\u001b[0;32m     91\u001b[0m             \u001b[0mprint\u001b[0m \u001b[1;33m(\u001b[0m\u001b[1;34m\"Finished training for \"\u001b[0m\u001b[1;33m,\u001b[0m\u001b[0mclf\u001b[0m\u001b[1;33m.\u001b[0m\u001b[0mMODEL_NAME\u001b[0m\u001b[1;33m)\u001b[0m\u001b[1;33m\u001b[0m\u001b[1;33m\u001b[0m\u001b[0m\n",
      "\u001b[1;32mC:\\Users\\Faizan\\Desktop\\nilmtk\\nilmtk\\api.py\u001b[0m in \u001b[0;36mtrain_jointly\u001b[1;34m(self, clf, d)\u001b[0m\n\u001b[0;32m    211\u001b[0m             \u001b[1;32mfor\u001b[0m \u001b[0mbuilding\u001b[0m \u001b[1;32min\u001b[0m \u001b[0md\u001b[0m\u001b[1;33m[\u001b[0m\u001b[0mdataset\u001b[0m\u001b[1;33m]\u001b[0m\u001b[1;33m[\u001b[0m\u001b[1;34m'buildings'\u001b[0m\u001b[1;33m]\u001b[0m\u001b[1;33m:\u001b[0m\u001b[1;33m\u001b[0m\u001b[1;33m\u001b[0m\u001b[0m\n\u001b[0;32m    212\u001b[0m                 \u001b[0mprint\u001b[0m\u001b[1;33m(\u001b[0m\u001b[1;34m\"Loading building ... \"\u001b[0m\u001b[1;33m,\u001b[0m\u001b[0mbuilding\u001b[0m\u001b[1;33m)\u001b[0m\u001b[1;33m\u001b[0m\u001b[1;33m\u001b[0m\u001b[0m\n\u001b[1;32m--> 213\u001b[1;33m                 \u001b[0mtrain\u001b[0m\u001b[1;33m.\u001b[0m\u001b[0mset_window\u001b[0m\u001b[1;33m(\u001b[0m\u001b[0mstart\u001b[0m\u001b[1;33m=\u001b[0m\u001b[0md\u001b[0m\u001b[1;33m[\u001b[0m\u001b[0mdataset\u001b[0m\u001b[1;33m]\u001b[0m\u001b[1;33m[\u001b[0m\u001b[1;34m'buildings'\u001b[0m\u001b[1;33m]\u001b[0m\u001b[1;33m[\u001b[0m\u001b[0mbuilding\u001b[0m\u001b[1;33m]\u001b[0m\u001b[1;33m[\u001b[0m\u001b[1;34m'start_time'\u001b[0m\u001b[1;33m]\u001b[0m\u001b[1;33m,\u001b[0m\u001b[0mend\u001b[0m\u001b[1;33m=\u001b[0m\u001b[0md\u001b[0m\u001b[1;33m[\u001b[0m\u001b[0mdataset\u001b[0m\u001b[1;33m]\u001b[0m\u001b[1;33m[\u001b[0m\u001b[1;34m'buildings'\u001b[0m\u001b[1;33m]\u001b[0m\u001b[1;33m[\u001b[0m\u001b[0mbuilding\u001b[0m\u001b[1;33m]\u001b[0m\u001b[1;33m[\u001b[0m\u001b[1;34m'end_time'\u001b[0m\u001b[1;33m]\u001b[0m\u001b[1;33m)\u001b[0m\u001b[1;33m\u001b[0m\u001b[1;33m\u001b[0m\u001b[0m\n\u001b[0m\u001b[0;32m    214\u001b[0m                 \u001b[0mtrain_df\u001b[0m \u001b[1;33m=\u001b[0m \u001b[0mnext\u001b[0m\u001b[1;33m(\u001b[0m\u001b[0mtrain\u001b[0m\u001b[1;33m.\u001b[0m\u001b[0mbuildings\u001b[0m\u001b[1;33m[\u001b[0m\u001b[0mbuilding\u001b[0m\u001b[1;33m]\u001b[0m\u001b[1;33m.\u001b[0m\u001b[0melec\u001b[0m\u001b[1;33m.\u001b[0m\u001b[0mmains\u001b[0m\u001b[1;33m(\u001b[0m\u001b[1;33m)\u001b[0m\u001b[1;33m.\u001b[0m\u001b[0mload\u001b[0m\u001b[1;33m(\u001b[0m\u001b[0mphysical_quantity\u001b[0m\u001b[1;33m=\u001b[0m\u001b[1;34m'power'\u001b[0m\u001b[1;33m,\u001b[0m \u001b[0mac_type\u001b[0m\u001b[1;33m=\u001b[0m\u001b[0mself\u001b[0m\u001b[1;33m.\u001b[0m\u001b[0mpower\u001b[0m\u001b[1;33m[\u001b[0m\u001b[1;34m'mains'\u001b[0m\u001b[1;33m]\u001b[0m\u001b[1;33m,\u001b[0m \u001b[0msample_period\u001b[0m\u001b[1;33m=\u001b[0m\u001b[0mself\u001b[0m\u001b[1;33m.\u001b[0m\u001b[0msample_period\u001b[0m\u001b[1;33m)\u001b[0m\u001b[1;33m)\u001b[0m\u001b[1;33m\u001b[0m\u001b[1;33m\u001b[0m\u001b[0m\n\u001b[0;32m    215\u001b[0m                 \u001b[0mtrain_df\u001b[0m \u001b[1;33m=\u001b[0m \u001b[0mtrain_df\u001b[0m\u001b[1;33m[\u001b[0m\u001b[1;33m[\u001b[0m\u001b[0mlist\u001b[0m\u001b[1;33m(\u001b[0m\u001b[0mtrain_df\u001b[0m\u001b[1;33m.\u001b[0m\u001b[0mcolumns\u001b[0m\u001b[1;33m)\u001b[0m\u001b[1;33m[\u001b[0m\u001b[1;36m0\u001b[0m\u001b[1;33m]\u001b[0m\u001b[1;33m]\u001b[0m\u001b[1;33m]\u001b[0m\u001b[1;33m\u001b[0m\u001b[1;33m\u001b[0m\u001b[0m\n",
      "\u001b[1;32mC:\\Users\\Faizan\\anaconda3\\envs\\nilmtk-env\\lib\\site-packages\\nilmtk\\dataset.py\u001b[0m in \u001b[0;36mset_window\u001b[1;34m(self, start, end)\u001b[0m\n\u001b[0;32m     84\u001b[0m             \u001b[1;32mraise\u001b[0m \u001b[0mRuntimeError\u001b[0m\u001b[1;33m(\u001b[0m\u001b[1;34m\"'timezone' is not set in dataset metadata.\"\u001b[0m\u001b[1;33m)\u001b[0m\u001b[1;33m\u001b[0m\u001b[1;33m\u001b[0m\u001b[0m\n\u001b[0;32m     85\u001b[0m \u001b[1;33m\u001b[0m\u001b[0m\n\u001b[1;32m---> 86\u001b[1;33m         \u001b[0mself\u001b[0m\u001b[1;33m.\u001b[0m\u001b[0mstore\u001b[0m\u001b[1;33m.\u001b[0m\u001b[0mwindow\u001b[0m \u001b[1;33m=\u001b[0m \u001b[0mTimeFrame\u001b[0m\u001b[1;33m(\u001b[0m\u001b[0mstart\u001b[0m\u001b[1;33m,\u001b[0m \u001b[0mend\u001b[0m\u001b[1;33m,\u001b[0m \u001b[0mtz\u001b[0m\u001b[1;33m)\u001b[0m\u001b[1;33m\u001b[0m\u001b[1;33m\u001b[0m\u001b[0m\n\u001b[0m\u001b[0;32m     87\u001b[0m \u001b[1;33m\u001b[0m\u001b[0m\n\u001b[0;32m     88\u001b[0m     \u001b[1;32mdef\u001b[0m \u001b[0mdescribe\u001b[0m\u001b[1;33m(\u001b[0m\u001b[0mself\u001b[0m\u001b[1;33m,\u001b[0m \u001b[1;33m**\u001b[0m\u001b[0mkwargs\u001b[0m\u001b[1;33m)\u001b[0m\u001b[1;33m:\u001b[0m\u001b[1;33m\u001b[0m\u001b[1;33m\u001b[0m\u001b[0m\n",
      "\u001b[1;32mC:\\Users\\Faizan\\anaconda3\\envs\\nilmtk-env\\lib\\site-packages\\nilmtk\\datastore\\datastore.py\u001b[0m in \u001b[0;36mwindow\u001b[1;34m(self, window)\u001b[0m\n\u001b[0;32m     62\u001b[0m     \u001b[1;33m@\u001b[0m\u001b[0mwindow\u001b[0m\u001b[1;33m.\u001b[0m\u001b[0msetter\u001b[0m\u001b[1;33m\u001b[0m\u001b[1;33m\u001b[0m\u001b[0m\n\u001b[0;32m     63\u001b[0m     \u001b[1;32mdef\u001b[0m \u001b[0mwindow\u001b[0m\u001b[1;33m(\u001b[0m\u001b[0mself\u001b[0m\u001b[1;33m,\u001b[0m \u001b[0mwindow\u001b[0m\u001b[1;33m)\u001b[0m\u001b[1;33m:\u001b[0m\u001b[1;33m\u001b[0m\u001b[1;33m\u001b[0m\u001b[0m\n\u001b[1;32m---> 64\u001b[1;33m         \u001b[0mwindow\u001b[0m\u001b[1;33m.\u001b[0m\u001b[0mcheck_tz\u001b[0m\u001b[1;33m(\u001b[0m\u001b[1;33m)\u001b[0m\u001b[1;33m\u001b[0m\u001b[1;33m\u001b[0m\u001b[0m\n\u001b[0m\u001b[0;32m     65\u001b[0m         \u001b[0mself\u001b[0m\u001b[1;33m.\u001b[0m\u001b[0m_window\u001b[0m \u001b[1;33m=\u001b[0m \u001b[0mwindow\u001b[0m\u001b[1;33m\u001b[0m\u001b[1;33m\u001b[0m\u001b[0m\n\u001b[0;32m     66\u001b[0m \u001b[1;33m\u001b[0m\u001b[0m\n",
      "\u001b[1;32mC:\\Users\\Faizan\\anaconda3\\envs\\nilmtk-env\\lib\\site-packages\\nilmtk\\timeframe.py\u001b[0m in \u001b[0;36mcheck_tz\u001b[1;34m(self)\u001b[0m\n\u001b[0;32m    248\u001b[0m     \u001b[1;32mdef\u001b[0m \u001b[0mcheck_tz\u001b[0m\u001b[1;33m(\u001b[0m\u001b[0mself\u001b[0m\u001b[1;33m)\u001b[0m\u001b[1;33m:\u001b[0m\u001b[1;33m\u001b[0m\u001b[1;33m\u001b[0m\u001b[0m\n\u001b[0;32m    249\u001b[0m         if any([isinstance(tf.tz, pytz._FixedOffset)\n\u001b[1;32m--> 250\u001b[1;33m                 \u001b[1;32mfor\u001b[0m \u001b[0mtf\u001b[0m \u001b[1;32min\u001b[0m \u001b[1;33m[\u001b[0m\u001b[0mself\u001b[0m\u001b[1;33m.\u001b[0m\u001b[0mstart\u001b[0m\u001b[1;33m,\u001b[0m \u001b[0mself\u001b[0m\u001b[1;33m.\u001b[0m\u001b[0mend\u001b[0m\u001b[1;33m]\u001b[0m\u001b[1;33m\u001b[0m\u001b[1;33m\u001b[0m\u001b[0m\n\u001b[0m\u001b[0;32m    251\u001b[0m                 if tf is not None]):\n\u001b[0;32m    252\u001b[0m             warn(\"Using a pytz._FixedOffset timezone may cause issues\"\n",
      "\u001b[1;32mC:\\Users\\Faizan\\anaconda3\\envs\\nilmtk-env\\lib\\site-packages\\nilmtk\\timeframe.py\u001b[0m in \u001b[0;36m<listcomp>\u001b[1;34m(.0)\u001b[0m\n\u001b[0;32m    249\u001b[0m         if any([isinstance(tf.tz, pytz._FixedOffset)\n\u001b[0;32m    250\u001b[0m                 \u001b[1;32mfor\u001b[0m \u001b[0mtf\u001b[0m \u001b[1;32min\u001b[0m \u001b[1;33m[\u001b[0m\u001b[0mself\u001b[0m\u001b[1;33m.\u001b[0m\u001b[0mstart\u001b[0m\u001b[1;33m,\u001b[0m \u001b[0mself\u001b[0m\u001b[1;33m.\u001b[0m\u001b[0mend\u001b[0m\u001b[1;33m]\u001b[0m\u001b[1;33m\u001b[0m\u001b[1;33m\u001b[0m\u001b[0m\n\u001b[1;32m--> 251\u001b[1;33m                 if tf is not None]):\n\u001b[0m\u001b[0;32m    252\u001b[0m             warn(\"Using a pytz._FixedOffset timezone may cause issues\"\n\u001b[0;32m    253\u001b[0m                  \u001b[1;34m\" (e.g. might cause Pandas to raise 'TypeError: too many\"\u001b[0m\u001b[1;33m\u001b[0m\u001b[1;33m\u001b[0m\u001b[0m\n",
      "\u001b[1;31mAttributeError\u001b[0m: 'NaTType' object has no attribute 'tz'"
     ]
    }
   ],
   "source": [
    "api_results_experiment_1 = API(experiment1)"
   ]
  },
  {
   "cell_type": "code",
   "execution_count": null,
   "metadata": {},
   "outputs": [],
   "source": []
  },
  {
   "cell_type": "code",
   "execution_count": null,
   "metadata": {},
   "outputs": [],
   "source": []
  },
  {
   "cell_type": "code",
   "execution_count": 14,
   "metadata": {},
   "outputs": [],
   "source": [
    "df = (api_results_experiment_1.pred_overall['CO'])"
   ]
  },
  {
   "cell_type": "code",
   "execution_count": 15,
   "metadata": {},
   "outputs": [
    {
     "data": {
      "text/html": [
       "<div>\n",
       "<style scoped>\n",
       "    .dataframe tbody tr th:only-of-type {\n",
       "        vertical-align: middle;\n",
       "    }\n",
       "\n",
       "    .dataframe tbody tr th {\n",
       "        vertical-align: top;\n",
       "    }\n",
       "\n",
       "    .dataframe thead th {\n",
       "        text-align: right;\n",
       "    }\n",
       "</style>\n",
       "<table border=\"1\" class=\"dataframe\">\n",
       "  <thead>\n",
       "    <tr style=\"text-align: right;\">\n",
       "      <th></th>\n",
       "      <th>air conditioner</th>\n",
       "      <th>fridge</th>\n",
       "      <th>washing machine</th>\n",
       "      <th>clothes iron</th>\n",
       "      <th>television</th>\n",
       "    </tr>\n",
       "  </thead>\n",
       "  <tbody>\n",
       "    <tr>\n",
       "      <th>0</th>\n",
       "      <td>0.0</td>\n",
       "      <td>118.0</td>\n",
       "      <td>0.0</td>\n",
       "      <td>0.0</td>\n",
       "      <td>0.0</td>\n",
       "    </tr>\n",
       "    <tr>\n",
       "      <th>1</th>\n",
       "      <td>0.0</td>\n",
       "      <td>100.0</td>\n",
       "      <td>0.0</td>\n",
       "      <td>0.0</td>\n",
       "      <td>75.0</td>\n",
       "    </tr>\n",
       "    <tr>\n",
       "      <th>2</th>\n",
       "      <td>0.0</td>\n",
       "      <td>100.0</td>\n",
       "      <td>0.0</td>\n",
       "      <td>0.0</td>\n",
       "      <td>75.0</td>\n",
       "    </tr>\n",
       "    <tr>\n",
       "      <th>3</th>\n",
       "      <td>0.0</td>\n",
       "      <td>100.0</td>\n",
       "      <td>0.0</td>\n",
       "      <td>0.0</td>\n",
       "      <td>75.0</td>\n",
       "    </tr>\n",
       "    <tr>\n",
       "      <th>4</th>\n",
       "      <td>0.0</td>\n",
       "      <td>100.0</td>\n",
       "      <td>0.0</td>\n",
       "      <td>0.0</td>\n",
       "      <td>75.0</td>\n",
       "    </tr>\n",
       "    <tr>\n",
       "      <th>...</th>\n",
       "      <td>...</td>\n",
       "      <td>...</td>\n",
       "      <td>...</td>\n",
       "      <td>...</td>\n",
       "      <td>...</td>\n",
       "    </tr>\n",
       "    <tr>\n",
       "      <th>110</th>\n",
       "      <td>0.0</td>\n",
       "      <td>0.0</td>\n",
       "      <td>0.0</td>\n",
       "      <td>0.0</td>\n",
       "      <td>0.0</td>\n",
       "    </tr>\n",
       "    <tr>\n",
       "      <th>111</th>\n",
       "      <td>0.0</td>\n",
       "      <td>0.0</td>\n",
       "      <td>0.0</td>\n",
       "      <td>0.0</td>\n",
       "      <td>0.0</td>\n",
       "    </tr>\n",
       "    <tr>\n",
       "      <th>112</th>\n",
       "      <td>0.0</td>\n",
       "      <td>0.0</td>\n",
       "      <td>0.0</td>\n",
       "      <td>0.0</td>\n",
       "      <td>0.0</td>\n",
       "    </tr>\n",
       "    <tr>\n",
       "      <th>113</th>\n",
       "      <td>0.0</td>\n",
       "      <td>0.0</td>\n",
       "      <td>0.0</td>\n",
       "      <td>0.0</td>\n",
       "      <td>0.0</td>\n",
       "    </tr>\n",
       "    <tr>\n",
       "      <th>114</th>\n",
       "      <td>0.0</td>\n",
       "      <td>0.0</td>\n",
       "      <td>221.0</td>\n",
       "      <td>0.0</td>\n",
       "      <td>75.0</td>\n",
       "    </tr>\n",
       "  </tbody>\n",
       "</table>\n",
       "<p>115 rows × 5 columns</p>\n",
       "</div>"
      ],
      "text/plain": [
       "     air conditioner  fridge  washing machine  clothes iron  television\n",
       "0                0.0   118.0              0.0           0.0         0.0\n",
       "1                0.0   100.0              0.0           0.0        75.0\n",
       "2                0.0   100.0              0.0           0.0        75.0\n",
       "3                0.0   100.0              0.0           0.0        75.0\n",
       "4                0.0   100.0              0.0           0.0        75.0\n",
       "..               ...     ...              ...           ...         ...\n",
       "110              0.0     0.0              0.0           0.0         0.0\n",
       "111              0.0     0.0              0.0           0.0         0.0\n",
       "112              0.0     0.0              0.0           0.0         0.0\n",
       "113              0.0     0.0              0.0           0.0         0.0\n",
       "114              0.0     0.0            221.0           0.0        75.0\n",
       "\n",
       "[115 rows x 5 columns]"
      ]
     },
     "execution_count": 15,
     "metadata": {},
     "output_type": "execute_result"
    }
   ],
   "source": [
    "df"
   ]
  },
  {
   "cell_type": "code",
   "execution_count": 16,
   "metadata": {},
   "outputs": [
    {
     "data": {
      "text/plain": [
       "Index(['air conditioner', 'fridge', 'washing machine', 'clothes iron',\n",
       "       'television'],\n",
       "      dtype='object')"
      ]
     },
     "execution_count": 16,
     "metadata": {},
     "output_type": "execute_result"
    }
   ],
   "source": [
    "df.columns"
   ]
  },
  {
   "cell_type": "code",
   "execution_count": 21,
   "metadata": {},
   "outputs": [
    {
     "name": "stdout",
     "output_type": "stream",
     "text": [
      "[58, 59, 77, 78, 79, 80, 81, 82, 83, 84, 85, 86, 87, 88, 89, 90, 91, 92, 93, 94, 95, 96, 97, 98, 99, 100, 101, 102, 103, 104, 105, 106, 107, 108, 109, 110, 111, 112, 113]\n"
     ]
    }
   ],
   "source": [
    "idx_val = []\n",
    "counter = 0\n",
    "flag = 0\n",
    "no_devices = 0\n",
    "length = df.shape[0]\n",
    "x = 0\n",
    "    \n",
    "while x!= length:\n",
    "    if df.iloc[x].sum() ==0:\n",
    "        idx_val.append(x)\n",
    "    x +=1\n",
    "print(idx_val)\n",
    "    "
   ]
  },
  {
   "cell_type": "code",
   "execution_count": 23,
   "metadata": {},
   "outputs": [],
   "source": [
    "from nilmtk import DataSet"
   ]
  },
  {
   "cell_type": "code",
   "execution_count": 24,
   "metadata": {},
   "outputs": [
    {
     "name": "stderr",
     "output_type": "stream",
     "text": [
      "C:\\Users\\Faizan\\anaconda3\\envs\\nilmtk-env\\lib\\site-packages\\nilmtk\\metergroup.py:86: RuntimeWarning: Building 1 has an empty 'appliances' list.\n",
      "  .format(building_id.instance), RuntimeWarning)\n"
     ]
    }
   ],
   "source": [
    "test = DataSet('./test.h5')"
   ]
  },
  {
   "cell_type": "code",
   "execution_count": 27,
   "metadata": {},
   "outputs": [],
   "source": [
    "test_df = next(test.buildings[1].elec.mains().load())"
   ]
  },
  {
   "cell_type": "code",
   "execution_count": 33,
   "metadata": {},
   "outputs": [
    {
     "data": {
      "text/plain": [
       "2020-08-12 18:20:00     89.849998\n",
       "2020-08-12 18:21:00    109.333336\n",
       "2020-08-12 18:22:00    108.516670\n",
       "2020-08-12 18:23:00    109.966667\n",
       "2020-08-12 18:24:00    108.516670\n",
       "                          ...    \n",
       "2020-08-12 20:10:00      0.000000\n",
       "2020-08-12 20:11:00      0.000000\n",
       "2020-08-12 20:12:00      0.000000\n",
       "2020-08-12 20:13:00      0.000000\n",
       "2020-08-12 20:14:00    -32.833332\n",
       "Freq: T, Name: (power, active), Length: 115, dtype: float32"
      ]
     },
     "execution_count": 33,
     "metadata": {},
     "output_type": "execute_result"
    }
   ],
   "source": [
    "test_df[('power', 'active')]"
   ]
  },
  {
   "cell_type": "code",
   "execution_count": 35,
   "metadata": {},
   "outputs": [
    {
     "name": "stdout",
     "output_type": "stream",
     "text": [
      "Unknown Device found running since : 2020-08-12T18:22:00.000000000 to 2020-08-12T20:14:00.000000000\n"
     ]
    }
   ],
   "source": [
    "print(f'Unknown Device found running since : {test_df.index.values[2]} to {test_df.index.values[-1]}')"
   ]
  },
  {
   "cell_type": "code",
   "execution_count": 36,
   "metadata": {},
   "outputs": [
    {
     "name": "stdout",
     "output_type": "stream",
     "text": [
      "Name the device:\n",
      "wallfan office\n"
     ]
    }
   ],
   "source": [
    "name = input('Name the device:\\n')"
   ]
  },
  {
   "cell_type": "code",
   "execution_count": 37,
   "metadata": {},
   "outputs": [],
   "source": [
    "wall_fan_df = test_df[test_df.index.values[2]:test_df.index.values[-1]]"
   ]
  },
  {
   "cell_type": "code",
   "execution_count": 38,
   "metadata": {},
   "outputs": [
    {
     "data": {
      "text/html": [
       "<div>\n",
       "<style scoped>\n",
       "    .dataframe tbody tr th:only-of-type {\n",
       "        vertical-align: middle;\n",
       "    }\n",
       "\n",
       "    .dataframe tbody tr th {\n",
       "        vertical-align: top;\n",
       "    }\n",
       "\n",
       "    .dataframe thead tr th {\n",
       "        text-align: left;\n",
       "    }\n",
       "</style>\n",
       "<table border=\"1\" class=\"dataframe\">\n",
       "  <thead>\n",
       "    <tr>\n",
       "      <th>physical_quantity</th>\n",
       "      <th>frequency</th>\n",
       "      <th>voltage</th>\n",
       "      <th colspan=\"2\" halign=\"left\">power</th>\n",
       "      <th>current</th>\n",
       "      <th>power</th>\n",
       "    </tr>\n",
       "    <tr>\n",
       "      <th>type</th>\n",
       "      <th></th>\n",
       "      <th></th>\n",
       "      <th>apparent</th>\n",
       "      <th>active</th>\n",
       "      <th></th>\n",
       "      <th>reactive</th>\n",
       "    </tr>\n",
       "  </thead>\n",
       "  <tbody>\n",
       "    <tr>\n",
       "      <th>2020-08-12 18:22:00</th>\n",
       "      <td>49.563000</td>\n",
       "      <td>251.358994</td>\n",
       "      <td>156.751831</td>\n",
       "      <td>108.516670</td>\n",
       "      <td>0.626500</td>\n",
       "      <td>112.330162</td>\n",
       "    </tr>\n",
       "    <tr>\n",
       "      <th>2020-08-12 18:23:00</th>\n",
       "      <td>49.564667</td>\n",
       "      <td>251.067505</td>\n",
       "      <td>158.317169</td>\n",
       "      <td>109.966667</td>\n",
       "      <td>0.633833</td>\n",
       "      <td>113.147499</td>\n",
       "    </tr>\n",
       "    <tr>\n",
       "      <th>2020-08-12 18:24:00</th>\n",
       "      <td>49.563168</td>\n",
       "      <td>250.861664</td>\n",
       "      <td>157.220001</td>\n",
       "      <td>108.516670</td>\n",
       "      <td>0.630833</td>\n",
       "      <td>113.026665</td>\n",
       "    </tr>\n",
       "    <tr>\n",
       "      <th>2020-08-12 18:25:00</th>\n",
       "      <td>49.564999</td>\n",
       "      <td>250.563660</td>\n",
       "      <td>158.771332</td>\n",
       "      <td>109.933334</td>\n",
       "      <td>0.644000</td>\n",
       "      <td>113.648163</td>\n",
       "    </tr>\n",
       "    <tr>\n",
       "      <th>2020-08-12 18:26:00</th>\n",
       "      <td>49.566502</td>\n",
       "      <td>250.349167</td>\n",
       "      <td>149.932159</td>\n",
       "      <td>103.366669</td>\n",
       "      <td>0.603667</td>\n",
       "      <td>107.867332</td>\n",
       "    </tr>\n",
       "    <tr>\n",
       "      <th>...</th>\n",
       "      <td>...</td>\n",
       "      <td>...</td>\n",
       "      <td>...</td>\n",
       "      <td>...</td>\n",
       "      <td>...</td>\n",
       "      <td>...</td>\n",
       "    </tr>\n",
       "    <tr>\n",
       "      <th>2020-08-12 20:10:00</th>\n",
       "      <td>49.962551</td>\n",
       "      <td>213.661957</td>\n",
       "      <td>0.000000</td>\n",
       "      <td>0.000000</td>\n",
       "      <td>0.010000</td>\n",
       "      <td>0.000000</td>\n",
       "    </tr>\n",
       "    <tr>\n",
       "      <th>2020-08-12 20:11:00</th>\n",
       "      <td>49.974342</td>\n",
       "      <td>213.674911</td>\n",
       "      <td>0.000000</td>\n",
       "      <td>0.000000</td>\n",
       "      <td>0.010000</td>\n",
       "      <td>0.000000</td>\n",
       "    </tr>\n",
       "    <tr>\n",
       "      <th>2020-08-12 20:12:00</th>\n",
       "      <td>49.972694</td>\n",
       "      <td>213.694992</td>\n",
       "      <td>0.000000</td>\n",
       "      <td>0.000000</td>\n",
       "      <td>0.010000</td>\n",
       "      <td>0.000000</td>\n",
       "    </tr>\n",
       "    <tr>\n",
       "      <th>2020-08-12 20:13:00</th>\n",
       "      <td>49.951321</td>\n",
       "      <td>213.550751</td>\n",
       "      <td>0.000000</td>\n",
       "      <td>0.000000</td>\n",
       "      <td>0.010000</td>\n",
       "      <td>0.000000</td>\n",
       "    </tr>\n",
       "    <tr>\n",
       "      <th>2020-08-12 20:14:00</th>\n",
       "      <td>49.962498</td>\n",
       "      <td>215.809998</td>\n",
       "      <td>295.795013</td>\n",
       "      <td>-32.833332</td>\n",
       "      <td>1.276667</td>\n",
       "      <td>293.966675</td>\n",
       "    </tr>\n",
       "  </tbody>\n",
       "</table>\n",
       "<p>113 rows × 6 columns</p>\n",
       "</div>"
      ],
      "text/plain": [
       "physical_quantity    frequency     voltage       power               current  \\\n",
       "type                                          apparent      active             \n",
       "2020-08-12 18:22:00  49.563000  251.358994  156.751831  108.516670  0.626500   \n",
       "2020-08-12 18:23:00  49.564667  251.067505  158.317169  109.966667  0.633833   \n",
       "2020-08-12 18:24:00  49.563168  250.861664  157.220001  108.516670  0.630833   \n",
       "2020-08-12 18:25:00  49.564999  250.563660  158.771332  109.933334  0.644000   \n",
       "2020-08-12 18:26:00  49.566502  250.349167  149.932159  103.366669  0.603667   \n",
       "...                        ...         ...         ...         ...       ...   \n",
       "2020-08-12 20:10:00  49.962551  213.661957    0.000000    0.000000  0.010000   \n",
       "2020-08-12 20:11:00  49.974342  213.674911    0.000000    0.000000  0.010000   \n",
       "2020-08-12 20:12:00  49.972694  213.694992    0.000000    0.000000  0.010000   \n",
       "2020-08-12 20:13:00  49.951321  213.550751    0.000000    0.000000  0.010000   \n",
       "2020-08-12 20:14:00  49.962498  215.809998  295.795013  -32.833332  1.276667   \n",
       "\n",
       "physical_quantity         power  \n",
       "type                   reactive  \n",
       "2020-08-12 18:22:00  112.330162  \n",
       "2020-08-12 18:23:00  113.147499  \n",
       "2020-08-12 18:24:00  113.026665  \n",
       "2020-08-12 18:25:00  113.648163  \n",
       "2020-08-12 18:26:00  107.867332  \n",
       "...                         ...  \n",
       "2020-08-12 20:10:00    0.000000  \n",
       "2020-08-12 20:11:00    0.000000  \n",
       "2020-08-12 20:12:00    0.000000  \n",
       "2020-08-12 20:13:00    0.000000  \n",
       "2020-08-12 20:14:00  293.966675  \n",
       "\n",
       "[113 rows x 6 columns]"
      ]
     },
     "execution_count": 38,
     "metadata": {},
     "output_type": "execute_result"
    }
   ],
   "source": [
    "wall_fan_df"
   ]
  },
  {
   "cell_type": "code",
   "execution_count": 41,
   "metadata": {},
   "outputs": [
    {
     "name": "stdout",
     "output_type": "stream",
     "text": [
      "[60, 61, 62, 63, 64, 65, 66, 67, 68, 69, 70, 71, 72, 73, 74, 75, 76]\n"
     ]
    }
   ],
   "source": [
    "def missing_elements(L, start, end):\n",
    "    if end - start <= 1: \n",
    "        if L[end] - L[start] > 1:\n",
    "            yield from range(L[start] + 1, L[end])\n",
    "        return\n",
    "\n",
    "    index = start + (end - start) // 2\n",
    "\n",
    "    # is the lower half consecutive?\n",
    "    consecutive_low =  L[index] == L[start] + (index - start)\n",
    "    if not consecutive_low:\n",
    "        yield from missing_elements(L, start, index)\n",
    "\n",
    "    # is the upper part consecutive?\n",
    "    consecutive_high =  L[index] == L[end] - (end - index)\n",
    "    if not consecutive_high:\n",
    "        yield from missing_elements(L, index, end)\n",
    "\n",
    "def main():\n",
    "    L = idx_val\n",
    "    print(list(missing_elements(L,0,len(L)-1)))\n",
    "    if(len(list(missing_elements(L,0,len(L)-1)))>=1):\n",
    "        \n",
    "    \n",
    "\n",
    "main()"
   ]
  },
  {
   "cell_type": "code",
   "execution_count": 52,
   "metadata": {},
   "outputs": [],
   "source": [
    "seq = []\n",
    "seqs = []\n",
    "no_sequence = 0\n",
    "flag = 0\n",
    "for i, val in enumerate(idx_val):\n",
    "    try:\n",
    "        if val+1 == idx_val[i+1]:\n",
    "            seq.append(val)\n",
    "        else:\n",
    "            seq.append(val)\n",
    "            seqs.append(seq)\n",
    "            seq = []\n",
    "    except:\n",
    "        seq.append(val)\n",
    "        seqs.append(seq)\n",
    "        "
   ]
  },
  {
   "cell_type": "code",
   "execution_count": 56,
   "metadata": {},
   "outputs": [
    {
     "data": {
      "text/plain": [
       "[58, 59]"
      ]
     },
     "execution_count": 56,
     "metadata": {},
     "output_type": "execute_result"
    }
   ],
   "source": [
    "(seqs)[0]"
   ]
  },
  {
   "cell_type": "code",
   "execution_count": 59,
   "metadata": {},
   "outputs": [],
   "source": [
    "clean_seq = []\n",
    "temp = []\n",
    "for x in seqs:\n",
    "    temp.append(x[0])\n",
    "    temp.append(x[-1])\n",
    "    clean_seq.append(temp)\n",
    "    temp = []"
   ]
  },
  {
   "cell_type": "code",
   "execution_count": 60,
   "metadata": {},
   "outputs": [
    {
     "data": {
      "text/plain": [
       "[[58, 59], [77, 113]]"
      ]
     },
     "execution_count": 60,
     "metadata": {},
     "output_type": "execute_result"
    }
   ],
   "source": [
    "clean_seq"
   ]
  },
  {
   "cell_type": "code",
   "execution_count": 70,
   "metadata": {},
   "outputs": [
    {
     "name": "stdout",
     "output_type": "stream",
     "text": [
      "Name the unknown Device running between: 2020-08-12T19:18:00.000000000 and 2020-08-12T19:19:00.000000000a\n",
      "Name the unknown Device running between: 2020-08-12T19:37:00.000000000 and 2020-08-12T20:13:00.000000000b\n"
     ]
    }
   ],
   "source": [
    "for x in clean_seq:\n",
    "    start = test_df.index.values[(x[0])]\n",
    "    end = test_df.index.values[(x[1])]\n",
    "    name = input(f'Name the unknown Device running between: {start} and {end}')\n",
    "    unknown_df = test_df[start:end]\n",
    "    unknown_df.to_csv(f'{name}.csv')"
   ]
  },
  {
   "cell_type": "code",
   "execution_count": null,
   "metadata": {},
   "outputs": [],
   "source": []
  }
 ],
 "metadata": {
  "kernelspec": {
   "display_name": "Python 3",
   "language": "python",
   "name": "python3"
  },
  "language_info": {
   "codemirror_mode": {
    "name": "ipython",
    "version": 3
   },
   "file_extension": ".py",
   "mimetype": "text/x-python",
   "name": "python",
   "nbconvert_exporter": "python",
   "pygments_lexer": "ipython3",
   "version": "3.6.11"
  }
 },
 "nbformat": 4,
 "nbformat_minor": 4
}
