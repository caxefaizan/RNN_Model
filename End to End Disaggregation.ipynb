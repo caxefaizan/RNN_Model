{
 "cells": [
  {
   "cell_type": "code",
   "execution_count": 1,
   "metadata": {},
   "outputs": [],
   "source": [
    "import pandas as pd\n",
    "import numpy as np\n",
    "from nilmtk.datastore import Key\n",
    "from nilmtk.utils import check_directory_exists, get_datastore, get_module_directory\n",
    "from nilm_metadata import convert_yaml_to_hdf5"
   ]
  },
  {
   "cell_type": "code",
   "execution_count": 2,
   "metadata": {},
   "outputs": [],
   "source": [
    "def convert_data(file_name):\n",
    "    '''\n",
    "    Parameters\n",
    "    ------------\n",
    "    Takes input file name to be tested as string.\n",
    "    Data columns should contain following values ['timestamp','R','A','C','F','V','T']\n",
    "    Converts it into hdf5 Format.\n",
    "    '''\n",
    "    df = pd.read_csv(f'{file_name}',names =['timestamp','R','A','C','F','V','T'])\n",
    "    column_mapping = {\n",
    "        'F': ('frequency', \"\"),\n",
    "        'V': ('voltage', \"\"),\n",
    "        'T': ('power', 'active'),\n",
    "        'C': ('current', ''),\n",
    "        'R': ('power', 'reactive'),\n",
    "        'A': ('power', 'apparent'),\n",
    "    }\n",
    "\n",
    "    TIMESTAMP_COLUMN_NAME = \"timestamp\"\n",
    "    TIMEZONE = \"Asia/Kolkata\"\n",
    "    FREQ = \"1T\"\n",
    "#     output_name = file_name.split(sep='.')[0]\n",
    "    LEVEL_NAMES = ['physical_quantity', 'type']\n",
    "    output_filename = 'test.h5'\n",
    "\n",
    "    # Open data store\n",
    "    store = get_datastore(output_filename, format='HDF', mode='w')\n",
    "    key = Key(building=1, meter=1)\n",
    "    print('Loading ', 1)\n",
    "    df.index = pd.to_datetime(df.timestamp.values)\n",
    "    df = df.tz_convert(TIMEZONE)\n",
    "    df = df.drop(TIMESTAMP_COLUMN_NAME, 1)\n",
    "    df.index = pd.to_datetime(df.index.values)\n",
    "    df.columns = pd.MultiIndex.from_tuples(\n",
    "                [column_mapping[x] for x in df.columns],\n",
    "                names=LEVEL_NAMES\n",
    "            )\n",
    "    df = df.apply(pd.to_numeric, errors='ignore')\n",
    "    df = df.dropna()\n",
    "    df = df.astype(np.float32)\n",
    "    df = df.sort_index()\n",
    "    df = df.resample(\"1T\").mean()\n",
    "    assert df.isnull().sum().sum() == 0\n",
    "    store.put(str(key), df)\n",
    "    store.close()\n",
    "    convert_yaml_to_hdf5('./metadata', output_filename)\n",
    "\n",
    "    print(\"Done converting test data to HDF5!\")\n",
    "    return"
   ]
  },
  {
   "cell_type": "code",
   "execution_count": 3,
   "metadata": {},
   "outputs": [
    {
     "name": "stdout",
     "output_type": "stream",
     "text": [
      "Loading  1\n",
      "Done converting YAML metadata to HDF5!\n",
      "Done converting test data to HDF5!\n"
     ]
    }
   ],
   "source": [
    "convert_data('ac_seconds4.csv')"
   ]
  },
  {
   "cell_type": "code",
   "execution_count": 4,
   "metadata": {},
   "outputs": [],
   "source": [
    "from combinatorial_optimisation import CO\n",
    "from fhmm_exact import FHMMExact"
   ]
  },
  {
   "cell_type": "code",
   "execution_count": 5,
   "metadata": {},
   "outputs": [],
   "source": [
    "experiment1 = {\n",
    "'power': {'mains': ['apparent','active'],'appliance': ['apparent','active']},\n",
    "  'sample_rate': 60,\n",
    "  'appliances': ['air conditioner','fridge'],\n",
    "  'methods': {\"CO\":CO({})},\n",
    "  'train': {    \n",
    "    'datasets': {\n",
    "        'iAWE': {\n",
    "            'path': './iAWE.h5',\n",
    "            'buildings': {\n",
    "                1: {\n",
    "                    'start_time': '2013-07-13', \n",
    "                    'end_time': '2013-08-04'\n",
    "                    }\n",
    "                }                \n",
    "            }\n",
    "        }\n",
    "    },\n",
    "  'test': {\n",
    "    'datasets': {\n",
    "        'CAXE': {\n",
    "            'path': './test.h5',\n",
    "            'buildings': {\n",
    "                1: {\n",
    "                    'start_time': '2020-08-12',\n",
    "                    'end_time': '2020-08-14'\n",
    "                    }\n",
    "                }\n",
    "            }\n",
    "        },\n",
    "        'metrics':['rmse']\n",
    "    }\n",
    "}"
   ]
  },
  {
   "cell_type": "code",
   "execution_count": 6,
   "metadata": {},
   "outputs": [],
   "source": [
    "from api import API"
   ]
  },
  {
   "cell_type": "code",
   "execution_count": 7,
   "metadata": {},
   "outputs": [
    {
     "name": "stdout",
     "output_type": "stream",
     "text": [
      "Joint Testing for all algorithms\n",
      "Loading data for  CAXE  dataset\n",
      "Dropping missing values\n",
      "Generating predictions for : CO\n",
      "...............CO disaggregate_chunk running.............\n",
      "Estimating power demand for 'air conditioner'\r",
      "Estimating power demand for 'fridge'\r"
     ]
    },
    {
     "name": "stderr",
     "output_type": "stream",
     "text": [
      "C:\\Users\\Faizan\\anaconda3\\envs\\nilmtk-env\\lib\\site-packages\\nilmtk\\metergroup.py:86: RuntimeWarning: Building 1 has an empty 'appliances' list.\n",
      "  .format(building_id.instance), RuntimeWarning)\n"
     ]
    },
    {
     "data": {
      "image/png": "[encoded data removed]",
      "text/plain": [
       "<Figure size 432x288 with 1 Axes>"
      ]
     },
     "metadata": {
      "needs_background": "light"
     },
     "output_type": "display_data"
    }
   ],
   "source": [
    "api_results_experiment_1 = API(experiment1)"
   ]
  },
  {
   "cell_type": "code",
   "execution_count": null,
   "metadata": {},
   "outputs": [],
   "source": []
  }
 ],
 "metadata": {
  "kernelspec": {
   "display_name": "Python 3",
   "language": "python",
   "name": "python3"
  },
  "language_info": {
   "codemirror_mode": {
    "name": "ipython",
    "version": 3
   },
   "file_extension": ".py",
   "mimetype": "text/x-python",
   "name": "python",
   "nbconvert_exporter": "python",
   "pygments_lexer": "ipython3",
   "version": "3.6.11"
  }
 },
 "nbformat": 4,
 "nbformat_minor": 4
}
