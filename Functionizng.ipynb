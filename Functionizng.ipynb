{
 "cells": [
  {
   "cell_type": "code",
   "execution_count": 1,
   "metadata": {},
   "outputs": [],
   "source": [
    "import pandas as pd\n",
    "import matplotlib.pyplot as plt\n",
    "import numpy as np\n",
    "import scipy\n",
    "from scipy import signal\n",
    "from nilmtk import DataSet"
   ]
  },
  {
   "cell_type": "code",
   "execution_count": 2,
   "metadata": {},
   "outputs": [],
   "source": [
    "data = DataSet('./iawe.h5').buildings[1].elec"
   ]
  },
  {
   "cell_type": "code",
   "execution_count": 3,
   "metadata": {},
   "outputs": [
    {
     "name": "stdout",
     "output_type": "stream",
     "text": [
      "Loading data for meter ElecMeterID(instance=2, building=1, dataset='iAWE')     \n",
      "Done loading data all meters for this chunk.\n"
     ]
    }
   ],
   "source": [
    "mains = next(data.mains().load())"
   ]
  },
  {
   "cell_type": "code",
   "execution_count": 4,
   "metadata": {},
   "outputs": [],
   "source": [
    "ac = next(data['air conditioner'].load())[('power','active')]\n",
    "wm = next(data['washing machine'].load())[('power','active')]\n",
    "fr = next(data['fridge'].load())[('power','active')]\n",
    "cp = next(data['computer'].load())[('power','active')]\n",
    "ir = next(data['clothes iron'].load())[('power','active')]\n",
    "tv = next(data['television'].load())[('power','active')]\n",
    "mo = next(data['motor'].load())[('power','active')]"
   ]
  },
  {
   "cell_type": "code",
   "execution_count": 5,
   "metadata": {},
   "outputs": [],
   "source": [
    "appliances = [ac , wm , fr , cp , ir , tv , mo]"
   ]
  },
  {
   "cell_type": "code",
   "execution_count": 6,
   "metadata": {},
   "outputs": [],
   "source": [
    "def preprocess(li_df):\n",
    "    li = []\n",
    "    for df in li_df:\n",
    "        df = scipy.signal.medfilt(df, kernel_size=None)\n",
    "        li.append(df)\n",
    "    return li"
   ]
  },
  {
   "cell_type": "code",
   "execution_count": 7,
   "metadata": {},
   "outputs": [],
   "source": [
    "appliances = preprocess(appliances)"
   ]
  },
  {
   "cell_type": "code",
   "execution_count": 8,
   "metadata": {},
   "outputs": [],
   "source": [
    "ac = appliances[0]\n",
    "wm = appliances[1]\n",
    "fr = appliances[2]\n",
    "cp = appliances[3]\n",
    "ir = appliances[4]\n",
    "tv = appliances[5]\n",
    "mo = appliances[6]"
   ]
  },
  {
   "cell_type": "code",
   "execution_count": 9,
   "metadata": {},
   "outputs": [],
   "source": [
    "mains = mains[('power','active')]"
   ]
  },
  {
   "cell_type": "code",
   "execution_count": 10,
   "metadata": {},
   "outputs": [],
   "source": [
    "mains = scipy.signal.medfilt(mains, kernel_size=None)"
   ]
  },
  {
   "cell_type": "code",
   "execution_count": 11,
   "metadata": {},
   "outputs": [],
   "source": [
    "def edge_detection(device):\n",
    "    f,t,Zxx = scipy.signal.stft(device, fs=1.0, window='hamming', nperseg=10, \n",
    "                                noverlap=None, nfft=None, detrend=False, \n",
    "                                return_onesided=True, boundary='zeros', \n",
    "                                padded=True, axis=- 1)\n",
    "    t = t.astype('int')\n",
    "    \n",
    "    return t"
   ]
  },
  {
   "cell_type": "code",
   "execution_count": 12,
   "metadata": {},
   "outputs": [],
   "source": [
    "edges = edge_detection(ac)"
   ]
  },
  {
   "cell_type": "code",
   "execution_count": 13,
   "metadata": {},
   "outputs": [
    {
     "data": {
      "text/plain": [
       "128051"
      ]
     },
     "execution_count": 13,
     "metadata": {},
     "output_type": "execute_result"
    }
   ],
   "source": [
    "len(edges)"
   ]
  },
  {
   "cell_type": "code",
   "execution_count": 14,
   "metadata": {},
   "outputs": [],
   "source": [
    "def grab_on_sig(edges,device,db):\n",
    "    df = []\n",
    "    for x in edges:\n",
    "        if x in range(SIG_SIZE):\n",
    "            pass\n",
    "        elif x >= len(device)-SIG_SIZE:\n",
    "            pass\n",
    "        elif np.mean(device[x:x+SIG_SIZE])>np.mean(device[x-SIG_SIZE:x]+THRSHLD): #device consuming more than 20kWh\n",
    "            df.append(device[x:x+SIG_SIZE])\n",
    "            db.append(df)\n",
    "            df=[]\n",
    "    return db"
   ]
  },
  {
   "cell_type": "code",
   "execution_count": 15,
   "metadata": {},
   "outputs": [],
   "source": [
    "db = [] #signature database\n",
    "SIG_SIZE = 6\n",
    "THRSHLD = 20\n",
    "prev_len = 0\n",
    "name_db = []"
   ]
  },
  {
   "cell_type": "code",
   "execution_count": 16,
   "metadata": {},
   "outputs": [],
   "source": [
    "db = grab_on_sig(edges,ac,db)"
   ]
  },
  {
   "cell_type": "code",
   "execution_count": 17,
   "metadata": {},
   "outputs": [
    {
     "name": "stdout",
     "output_type": "stream",
     "text": [
      "598\n"
     ]
    }
   ],
   "source": [
    "l = len(db)\n",
    "print(l)\n",
    "mul = l-prev_len\n",
    "prev_len = l\n",
    "for x in range(mul):\n",
    "    name_db.append('wm')"
   ]
  },
  {
   "cell_type": "code",
   "execution_count": 18,
   "metadata": {},
   "outputs": [
    {
     "data": {
      "text/plain": [
       "598"
      ]
     },
     "execution_count": 18,
     "metadata": {},
     "output_type": "execute_result"
    }
   ],
   "source": [
    "l"
   ]
  },
  {
   "cell_type": "code",
   "execution_count": 19,
   "metadata": {},
   "outputs": [],
   "source": [
    "db = grab_on_sig(edges,wm,db)"
   ]
  },
  {
   "cell_type": "code",
   "execution_count": 20,
   "metadata": {},
   "outputs": [],
   "source": [
    "l = len(db)\n",
    "mul = l-prev_len\n",
    "prev_len = l\n",
    "for x in range(mul):\n",
    "    name_db.append('wm')"
   ]
  },
  {
   "cell_type": "code",
   "execution_count": 21,
   "metadata": {},
   "outputs": [
    {
     "data": {
      "text/plain": [
       "775"
      ]
     },
     "execution_count": 21,
     "metadata": {},
     "output_type": "execute_result"
    }
   ],
   "source": [
    "l"
   ]
  },
  {
   "cell_type": "code",
   "execution_count": 22,
   "metadata": {},
   "outputs": [],
   "source": [
    "db = grab_on_sig(edges,fr,db)"
   ]
  },
  {
   "cell_type": "code",
   "execution_count": 23,
   "metadata": {},
   "outputs": [],
   "source": [
    "l = len(db)\n",
    "mul = l-prev_len\n",
    "prev_len = l\n",
    "for x in range(mul):\n",
    "    name_db.append('fr')"
   ]
  },
  {
   "cell_type": "code",
   "execution_count": 24,
   "metadata": {},
   "outputs": [
    {
     "data": {
      "text/plain": [
       "1628"
      ]
     },
     "execution_count": 24,
     "metadata": {},
     "output_type": "execute_result"
    }
   ],
   "source": [
    "l"
   ]
  },
  {
   "cell_type": "code",
   "execution_count": 25,
   "metadata": {},
   "outputs": [],
   "source": [
    "db = grab_on_sig(edges,cp,db)"
   ]
  },
  {
   "cell_type": "code",
   "execution_count": 26,
   "metadata": {},
   "outputs": [],
   "source": [
    "l = len(db)\n",
    "mul = l-prev_len\n",
    "prev_len = l\n",
    "for x in range(mul):\n",
    "    name_db.append('cp')"
   ]
  },
  {
   "cell_type": "code",
   "execution_count": 27,
   "metadata": {},
   "outputs": [
    {
     "data": {
      "text/plain": [
       "1678"
      ]
     },
     "execution_count": 27,
     "metadata": {},
     "output_type": "execute_result"
    }
   ],
   "source": [
    "l"
   ]
  },
  {
   "cell_type": "code",
   "execution_count": 28,
   "metadata": {},
   "outputs": [],
   "source": [
    "db = grab_on_sig(edges,ir,db)"
   ]
  },
  {
   "cell_type": "code",
   "execution_count": 29,
   "metadata": {},
   "outputs": [],
   "source": [
    "l = len(db)\n",
    "mul = l-prev_len\n",
    "prev_len = l\n",
    "for x in range(mul):\n",
    "    name_db.append('ir')"
   ]
  },
  {
   "cell_type": "code",
   "execution_count": 30,
   "metadata": {},
   "outputs": [
    {
     "data": {
      "text/plain": [
       "1826"
      ]
     },
     "execution_count": 30,
     "metadata": {},
     "output_type": "execute_result"
    }
   ],
   "source": [
    "l"
   ]
  },
  {
   "cell_type": "code",
   "execution_count": 31,
   "metadata": {},
   "outputs": [],
   "source": [
    "db = grab_on_sig(edges,mo,db)"
   ]
  },
  {
   "cell_type": "code",
   "execution_count": 32,
   "metadata": {},
   "outputs": [],
   "source": [
    "l = len(db)\n",
    "mul = l-prev_len\n",
    "prev_len = l\n",
    "for x in range(mul):\n",
    "    name_db.append('mo')"
   ]
  },
  {
   "cell_type": "code",
   "execution_count": 33,
   "metadata": {},
   "outputs": [
    {
     "data": {
      "text/plain": [
       "1955"
      ]
     },
     "execution_count": 33,
     "metadata": {},
     "output_type": "execute_result"
    }
   ],
   "source": [
    "l"
   ]
  },
  {
   "cell_type": "code",
   "execution_count": 34,
   "metadata": {},
   "outputs": [
    {
     "data": {
      "text/plain": [
       "(1955, 1955)"
      ]
     },
     "execution_count": 34,
     "metadata": {},
     "output_type": "execute_result"
    }
   ],
   "source": [
    "len(db),len(name_db)"
   ]
  },
  {
   "cell_type": "code",
   "execution_count": 35,
   "metadata": {},
   "outputs": [],
   "source": [
    "from sklearn.ensemble import RandomForestClassifier\n",
    "from sklearn.model_selection import train_test_split"
   ]
  },
  {
   "cell_type": "code",
   "execution_count": 36,
   "metadata": {},
   "outputs": [],
   "source": [
    "db = np.array(db)"
   ]
  },
  {
   "cell_type": "code",
   "execution_count": 37,
   "metadata": {},
   "outputs": [],
   "source": [
    "db = db.reshape((l,SIG_SIZE))"
   ]
  },
  {
   "cell_type": "code",
   "execution_count": 38,
   "metadata": {},
   "outputs": [
    {
     "data": {
      "text/plain": [
       "(1955, 6)"
      ]
     },
     "execution_count": 38,
     "metadata": {},
     "output_type": "execute_result"
    }
   ],
   "source": [
    "db.shape"
   ]
  },
  {
   "cell_type": "code",
   "execution_count": 39,
   "metadata": {},
   "outputs": [],
   "source": [
    "X = db\n",
    "\n",
    "y = name_db"
   ]
  },
  {
   "cell_type": "code",
   "execution_count": 40,
   "metadata": {},
   "outputs": [],
   "source": [
    "X_train , X_test , y_train , y_test = train_test_split(X,y,test_size = 0.2,random_state=42)"
   ]
  },
  {
   "cell_type": "code",
   "execution_count": 41,
   "metadata": {},
   "outputs": [],
   "source": [
    "clf = RandomForestClassifier()"
   ]
  },
  {
   "cell_type": "code",
   "execution_count": 42,
   "metadata": {},
   "outputs": [
    {
     "data": {
      "text/plain": [
       "RandomForestClassifier()"
      ]
     },
     "execution_count": 42,
     "metadata": {},
     "output_type": "execute_result"
    }
   ],
   "source": [
    "clf.fit(X_train,y_train)"
   ]
  },
  {
   "cell_type": "code",
   "execution_count": 43,
   "metadata": {},
   "outputs": [],
   "source": [
    "preds = clf.predict(X_test)==y_test"
   ]
  },
  {
   "cell_type": "code",
   "execution_count": 44,
   "metadata": {},
   "outputs": [
    {
     "name": "stdout",
     "output_type": "stream",
     "text": [
      "Total number of predictions = 391\n",
      " Number of False predictions = 9\n",
      " Number of True predictions= 382\n",
      " Accuracy = 96.46%\n"
     ]
    }
   ],
   "source": [
    "print(f'Total number of predictions = {preds.size}\\n',\n",
    "      f'Number of {np.unique(preds,return_counts=True)[0][0]} predictions = {np.unique(preds,return_counts=True)[1][0]}\\n',\n",
    "      f'Number of {np.unique(preds,return_counts=True)[0][1]} predictions= {np.unique(preds,return_counts=True)[1][1]}\\n',\n",
    "      f'Accuracy = {354/367*100:.2f}%')"
   ]
  },
  {
   "cell_type": "code",
   "execution_count": 84,
   "metadata": {},
   "outputs": [],
   "source": [
    "def on_off_decision(edges,device):\n",
    "    on_events = []\n",
    "    off_events = []\n",
    "    for x in edges:\n",
    "        if x in range(SIG_SIZE) or x >= edges[-1]-SIG_SIZE :\n",
    "            pass\n",
    "        else:\n",
    "            if np.mean(device[x:x+SIG_SIZE])>np.mean(device[x-SIG_SIZE:x]+THRSHLD): #device consuming more than 5kWh\n",
    "                on_events.append(x)\n",
    "            elif np.mean(device[x:x+SIG_SIZE])<np.mean(device[x-SIG_SIZE:x]-THRSHLD):\n",
    "                off_events.append(x)\n",
    "            else:\n",
    "                pass\n",
    "    return on_events"
   ]
  },
  {
   "cell_type": "code",
   "execution_count": 118,
   "metadata": {},
   "outputs": [],
   "source": [
    "e= edge_detection(mains) # returns indexes "
   ]
  },
  {
   "cell_type": "code",
   "execution_count": 119,
   "metadata": {},
   "outputs": [
    {
     "data": {
      "text/plain": [
       "array([   0,    5,   10,   15,   20,   25,   30,   35,   40,   45,   50,\n",
       "         55,   60,   65,   70,   75,   80,   85,   90,   95,  100,  105,\n",
       "        110,  115,  120,  125,  130,  135,  140,  145,  150,  155,  160,\n",
       "        165,  170,  175,  180,  185,  190,  195,  200,  205,  210,  215,\n",
       "        220,  225,  230,  235,  240,  245,  250,  255,  260,  265,  270,\n",
       "        275,  280,  285,  290,  295,  300,  305,  310,  315,  320,  325,\n",
       "        330,  335,  340,  345,  350,  355,  360,  365,  370,  375,  380,\n",
       "        385,  390,  395,  400,  405,  410,  415,  420,  425,  430,  435,\n",
       "        440,  445,  450,  455,  460,  465,  470,  475,  480,  485,  490,\n",
       "        495,  500,  505,  510,  515,  520,  525,  530,  535,  540,  545,\n",
       "        550,  555,  560,  565,  570,  575,  580,  585,  590,  595,  600,\n",
       "        605,  610,  615,  620,  625,  630,  635,  640,  645,  650,  655,\n",
       "        660,  665,  670,  675,  680,  685,  690,  695,  700,  705,  710,\n",
       "        715,  720,  725,  730,  735,  740,  745,  750,  755,  760,  765,\n",
       "        770,  775,  780,  785,  790,  795,  800,  805,  810,  815,  820,\n",
       "        825,  830,  835,  840,  845,  850,  855,  860,  865,  870,  875,\n",
       "        880,  885,  890,  895,  900,  905,  910,  915,  920,  925,  930,\n",
       "        935,  940,  945,  950,  955,  960,  965,  970,  975,  980,  985,\n",
       "        990,  995, 1000, 1005, 1010])"
      ]
     },
     "execution_count": 119,
     "metadata": {},
     "output_type": "execute_result"
    }
   ],
   "source": [
    "e"
   ]
  },
  {
   "cell_type": "code",
   "execution_count": 120,
   "metadata": {},
   "outputs": [],
   "source": [
    "e = on_off_decision(e,mains)"
   ]
  },
  {
   "cell_type": "code",
   "execution_count": 121,
   "metadata": {},
   "outputs": [],
   "source": [
    "dbmains = []"
   ]
  },
  {
   "cell_type": "code",
   "execution_count": 122,
   "metadata": {},
   "outputs": [],
   "source": [
    "dbmains = grab_on_sig(e,mains,dbmains)"
   ]
  },
  {
   "cell_type": "code",
   "execution_count": 123,
   "metadata": {},
   "outputs": [],
   "source": [
    "l  = len(dbmains)"
   ]
  },
  {
   "cell_type": "code",
   "execution_count": 124,
   "metadata": {},
   "outputs": [],
   "source": [
    "dbmains = np.array(dbmains).reshape((l,SIG_SIZE))"
   ]
  },
  {
   "cell_type": "code",
   "execution_count": 125,
   "metadata": {},
   "outputs": [
    {
     "data": {
      "text/plain": [
       "array(['wm', 'wm', 'wm', 'wm', 'ir', 'ir', 'wm', 'wm', 'wm', 'wm', 'wm',\n",
       "       'wm', 'wm', 'wm', 'wm', 'wm', 'wm', 'wm', 'wm', 'wm', 'wm', 'wm',\n",
       "       'wm'], dtype='<U2')"
      ]
     },
     "execution_count": 125,
     "metadata": {},
     "output_type": "execute_result"
    }
   ],
   "source": [
    "clf.predict(dbmains)"
   ]
  },
  {
   "cell_type": "code",
   "execution_count": 126,
   "metadata": {},
   "outputs": [],
   "source": [
    "main_preds = clf.predict(dbmains)"
   ]
  },
  {
   "cell_type": "code",
   "execution_count": 127,
   "metadata": {},
   "outputs": [],
   "source": [
    "df = pd.DataFrame({'idx':e, 'preds':main_preds})"
   ]
  },
  {
   "cell_type": "code",
   "execution_count": 130,
   "metadata": {},
   "outputs": [
    {
     "data": {
      "text/plain": [
       "(    idx preds\n",
       " 0    10    wm\n",
       " 1    25    wm\n",
       " 2    40    wm\n",
       " 3   105    wm\n",
       " 4   110    ir\n",
       " 5   115    ir\n",
       " 6   175    wm\n",
       " 7   180    wm\n",
       " 8   185    wm\n",
       " 9   200    wm\n",
       " 10  220    wm\n",
       " 11  225    wm\n",
       " 12  310    wm\n",
       " 13  330    wm\n",
       " 14  335    wm\n",
       " 15  370    wm\n",
       " 16  375    wm\n",
       " 17  385    wm\n",
       " 18  405    wm\n",
       " 19  410    wm\n",
       " 20  705    wm\n",
       " 21  710    wm\n",
       " 22  715    wm,\n",
       " {'10': 'ac, tv',\n",
       "  '100': 'wm',\n",
       "  '150': 'fr',\n",
       "  '300': 'computer',\n",
       "  '310': 'iron',\n",
       "  '700': 'motor'})"
      ]
     },
     "execution_count": 130,
     "metadata": {},
     "output_type": "execute_result"
    }
   ],
   "source": [
    "df,ev"
   ]
  },
  {
   "cell_type": "markdown",
   "metadata": {},
   "source": [
    "# **make dummy mains**"
   ]
  },
  {
   "cell_type": "markdown",
   "metadata": {},
   "source": [
    "ac , wm , fr , cp , ir , tv , mo"
   ]
  },
  {
   "cell_type": "code",
   "execution_count": 115,
   "metadata": {},
   "outputs": [],
   "source": [
    "for x in range(10):\n",
    "    mains = np.insert(mains,0,0)"
   ]
  },
  {
   "cell_type": "code",
   "execution_count": 109,
   "metadata": {},
   "outputs": [],
   "source": [
    "ac_test = ac[:1000]\n",
    "wm_test = wm[:1000]\n",
    "fr_test = fr[:1000]\n",
    "cp_test = cp[:1000]\n",
    "ir_test = ir[:1000]\n",
    "tv_test = tv[:1000]\n",
    "mo_test = mo[:1000]"
   ]
  },
  {
   "cell_type": "code",
   "execution_count": 110,
   "metadata": {},
   "outputs": [],
   "source": [
    "ac_test[100:200] += wm_test[100:200]\n",
    "ac_test[150:250] += fr_test[150:250]\n",
    "ac_test[300:400] += cp_test[300:400]\n",
    "ac_test[310:410] += ir_test[310:410]\n",
    "ac_test[:200] += tv_test[:200]\n",
    "ac_test[700:800] += mo_test[700:800]"
   ]
  },
  {
   "cell_type": "code",
   "execution_count": 129,
   "metadata": {},
   "outputs": [],
   "source": [
    "ev = {'10':'ac, tv',\n",
    "      '100': 'wm',\n",
    "     '150':'fr',\n",
    "     '300': 'computer',\n",
    "     '310':'iron',\n",
    "     '700':'motor'}"
   ]
  },
  {
   "cell_type": "code",
   "execution_count": 112,
   "metadata": {},
   "outputs": [
    {
     "data": {
      "text/plain": [
       "[<matplotlib.lines.Line2D at 0x1df008c9b70>]"
      ]
     },
     "execution_count": 112,
     "metadata": {},
     "output_type": "execute_result"
    },
    {
     "data": {
      "image/png": "[encoded data removed]",
      "text/plain": [
       "<Figure size 432x288 with 1 Axes>"
      ]
     },
     "metadata": {
      "needs_background": "light"
     },
     "output_type": "display_data"
    }
   ],
   "source": [
    "plt.plot(ac_test)"
   ]
  },
  {
   "cell_type": "code",
   "execution_count": 113,
   "metadata": {},
   "outputs": [],
   "source": [
    "mains = ac_test"
   ]
  },
  {
   "cell_type": "code",
   "execution_count": 117,
   "metadata": {},
   "outputs": [
    {
     "data": {
      "text/plain": [
       "[<matplotlib.lines.Line2D at 0x1df0092b9b0>]"
      ]
     },
     "execution_count": 117,
     "metadata": {},
     "output_type": "execute_result"
    },
    {
     "data": {
      "image/png": "[encoded data removed]",
      "text/plain": [
       "<Figure size 432x288 with 1 Axes>"
      ]
     },
     "metadata": {
      "needs_background": "light"
     },
     "output_type": "display_data"
    }
   ],
   "source": [
    "plt.plot(mains)"
   ]
  },
  {
   "cell_type": "code",
   "execution_count": null,
   "metadata": {},
   "outputs": [],
   "source": []
  }
 ],
 "metadata": {
  "kernelspec": {
   "display_name": "Python 3",
   "language": "python",
   "name": "python3"
  },
  "language_info": {
   "codemirror_mode": {
    "name": "ipython",
    "version": 3
   },
   "file_extension": ".py",
   "mimetype": "text/x-python",
   "name": "python",
   "nbconvert_exporter": "python",
   "pygments_lexer": "ipython3",
   "version": "3.6.11"
  }
 },
 "nbformat": 4,
 "nbformat_minor": 4
}
