{
 "cells": [
  {
   "cell_type": "code",
   "execution_count": 157,
   "metadata": {},
   "outputs": [],
   "source": [
    "import pandas as pd\n",
    "import matplotlib.pyplot as plt\n",
    "import numpy as np\n",
    "import scipy\n",
    "from scipy import signal\n",
    "from nilmtk import DataSet"
   ]
  },
  {
   "cell_type": "code",
   "execution_count": 158,
   "metadata": {},
   "outputs": [],
   "source": [
    "data = DataSet('./iawe.h5').buildings[1].elec"
   ]
  },
  {
   "cell_type": "code",
   "execution_count": 159,
   "metadata": {},
   "outputs": [
    {
     "name": "stdout",
     "output_type": "stream",
     "text": [
      "Loading data for meter ElecMeterID(instance=2, building=1, dataset='iAWE')     \n",
      "Done loading data all meters for this chunk.\n"
     ]
    }
   ],
   "source": [
    "mains = next(data.mains().load())"
   ]
  },
  {
   "cell_type": "code",
   "execution_count": 160,
   "metadata": {},
   "outputs": [],
   "source": [
    "ac = next(data['air conditioner'].load())[('power','active')]\n",
    "wm = next(data['washing machine'].load())[('power','active')]\n",
    "fr = next(data['fridge'].load())[('power','active')]\n",
    "cp = next(data['computer'].load())[('power','active')]\n",
    "ir = next(data['clothes iron'].load())[('power','active')]\n",
    "tv = next(data['television'].load())[('power','active')]\n",
    "mo = next(data['motor'].load())[('power','active')]"
   ]
  },
  {
   "cell_type": "code",
   "execution_count": 161,
   "metadata": {},
   "outputs": [],
   "source": [
    "appliances = [ac , wm , fr , cp , ir , tv , mo]"
   ]
  },
  {
   "cell_type": "code",
   "execution_count": 162,
   "metadata": {},
   "outputs": [],
   "source": [
    "def preprocess(li_df):\n",
    "    li = []\n",
    "    for df in li_df:\n",
    "        df = scipy.signal.medfilt(df, kernel_size=None)\n",
    "        li.append(df)\n",
    "    return li"
   ]
  },
  {
   "cell_type": "code",
   "execution_count": 163,
   "metadata": {},
   "outputs": [],
   "source": [
    "appliances = preprocess(appliances)"
   ]
  },
  {
   "cell_type": "code",
   "execution_count": 164,
   "metadata": {},
   "outputs": [],
   "source": [
    "ac = appliances[0]\n",
    "wm = appliances[1]\n",
    "fr = appliances[2]\n",
    "cp = appliances[3]\n",
    "ir = appliances[4]\n",
    "tv = appliances[5]\n",
    "mo = appliances[6]"
   ]
  },
  {
   "cell_type": "code",
   "execution_count": 165,
   "metadata": {},
   "outputs": [],
   "source": [
    "mains = mains[('power','active')]"
   ]
  },
  {
   "cell_type": "code",
   "execution_count": 166,
   "metadata": {},
   "outputs": [],
   "source": [
    "mains = scipy.signal.medfilt(mains, kernel_size=None)"
   ]
  },
  {
   "cell_type": "code",
   "execution_count": 359,
   "metadata": {},
   "outputs": [],
   "source": [
    "SIG_SIZE = 6\n",
    "THRSHLD = 50"
   ]
  },
  {
   "cell_type": "code",
   "execution_count": 366,
   "metadata": {},
   "outputs": [],
   "source": [
    "#using stft to find edges\n",
    "def edge_detection(device):\n",
    "    f,t,Zxx = scipy.signal.stft(device, fs=1.0, window='hamming', nperseg=10, \n",
    "                                noverlap=None, nfft=None, detrend=False, \n",
    "                                return_onesided=True, boundary='zeros', \n",
    "                                padded=True, axis=- 1)\n",
    "    t = t.astype('int')\n",
    "    \n",
    "    return t"
   ]
  },
  {
   "cell_type": "code",
   "execution_count": 367,
   "metadata": {},
   "outputs": [],
   "source": [
    "#using gradient to find edges\n",
    "def edge_detection2(device): \n",
    "    on_events = []\n",
    "    dbydx = np.gradient(device)\n",
    "    max_val = 0\n",
    "    for idx,x in enumerate(dbydx):\n",
    "        if x > (max_val + THRSHLD):\n",
    "            on_events.append(idx)\n",
    "            max_val = x\n",
    "        else:\n",
    "            max_val = x\n",
    "#             mean = np.mean(device[:x])\n",
    "    return on_events"
   ]
  },
  {
   "cell_type": "code",
   "execution_count": 372,
   "metadata": {},
   "outputs": [],
   "source": [
    "db = [] #signature database\n",
    "prev_len = 0\n",
    "name_db = []"
   ]
  },
  {
   "cell_type": "code",
   "execution_count": 373,
   "metadata": {},
   "outputs": [],
   "source": [
    "def grab_on_sig(edges,device,db):\n",
    "    df = []\n",
    "    for x in edges:\n",
    "        if x in range(SIG_SIZE):\n",
    "            pass\n",
    "        elif x >= len(device)-SIG_SIZE:\n",
    "            pass\n",
    "        elif np.mean(device[x:x+SIG_SIZE])>np.mean(device[x-SIG_SIZE:x]+THRSHLD) and device[(x-1)]<THRSHLD: #device consuming more than 20kWh\n",
    "            df.append(device[x:x+SIG_SIZE])\n",
    "            db.append(df)\n",
    "            df=[]\n",
    "        else:\n",
    "            pass\n",
    "    return db"
   ]
  },
  {
   "cell_type": "code",
   "execution_count": 374,
   "metadata": {},
   "outputs": [],
   "source": [
    "edges = edge_detection2(ac) \n",
    "db = grab_on_sig(edges,ac,db)"
   ]
  },
  {
   "cell_type": "code",
   "execution_count": 375,
   "metadata": {},
   "outputs": [
    {
     "name": "stdout",
     "output_type": "stream",
     "text": [
      "18\n"
     ]
    }
   ],
   "source": [
    "l = len(db)\n",
    "print(l)\n",
    "mul = l-prev_len\n",
    "prev_len = l\n",
    "for x in range(mul):\n",
    "    name_db.append('wm')"
   ]
  },
  {
   "cell_type": "code",
   "execution_count": 376,
   "metadata": {},
   "outputs": [],
   "source": [
    "edges = edge_detection2(wm) \n",
    "db = grab_on_sig(edges,wm,db)"
   ]
  },
  {
   "cell_type": "code",
   "execution_count": 377,
   "metadata": {},
   "outputs": [],
   "source": [
    "l = len(db)\n",
    "mul = l-prev_len\n",
    "prev_len = l\n",
    "for x in range(mul):\n",
    "    name_db.append('wm')"
   ]
  },
  {
   "cell_type": "code",
   "execution_count": 378,
   "metadata": {},
   "outputs": [
    {
     "data": {
      "text/plain": [
       "39"
      ]
     },
     "execution_count": 378,
     "metadata": {},
     "output_type": "execute_result"
    }
   ],
   "source": [
    "l"
   ]
  },
  {
   "cell_type": "code",
   "execution_count": 379,
   "metadata": {},
   "outputs": [],
   "source": [
    "edges = edge_detection2(fr) \n",
    "db = grab_on_sig(edges,fr,db)"
   ]
  },
  {
   "cell_type": "code",
   "execution_count": 380,
   "metadata": {},
   "outputs": [],
   "source": [
    "l = len(db)\n",
    "mul = l-prev_len\n",
    "prev_len = l\n",
    "for x in range(mul):\n",
    "    name_db.append('fr')"
   ]
  },
  {
   "cell_type": "code",
   "execution_count": 381,
   "metadata": {},
   "outputs": [
    {
     "data": {
      "text/plain": [
       "1260"
      ]
     },
     "execution_count": 381,
     "metadata": {},
     "output_type": "execute_result"
    }
   ],
   "source": [
    "l"
   ]
  },
  {
   "cell_type": "code",
   "execution_count": 382,
   "metadata": {},
   "outputs": [],
   "source": [
    "edges = edge_detection2(cp) \n",
    "db = grab_on_sig(edges,cp,db)"
   ]
  },
  {
   "cell_type": "code",
   "execution_count": 383,
   "metadata": {},
   "outputs": [],
   "source": [
    "l = len(db)\n",
    "mul = l-prev_len\n",
    "prev_len = l\n",
    "for x in range(mul):\n",
    "    name_db.append('cp')"
   ]
  },
  {
   "cell_type": "code",
   "execution_count": 384,
   "metadata": {},
   "outputs": [
    {
     "data": {
      "text/plain": [
       "1260"
      ]
     },
     "execution_count": 384,
     "metadata": {},
     "output_type": "execute_result"
    }
   ],
   "source": [
    "l"
   ]
  },
  {
   "cell_type": "code",
   "execution_count": 385,
   "metadata": {},
   "outputs": [],
   "source": [
    "edges = edge_detection2(ir) \n",
    "db = grab_on_sig(edges,ir,db)"
   ]
  },
  {
   "cell_type": "code",
   "execution_count": 386,
   "metadata": {},
   "outputs": [],
   "source": [
    "l = len(db)\n",
    "mul = l-prev_len\n",
    "prev_len = l\n",
    "for x in range(mul):\n",
    "    name_db.append('ir')"
   ]
  },
  {
   "cell_type": "code",
   "execution_count": 387,
   "metadata": {},
   "outputs": [
    {
     "data": {
      "text/plain": [
       "1347"
      ]
     },
     "execution_count": 387,
     "metadata": {},
     "output_type": "execute_result"
    }
   ],
   "source": [
    "l"
   ]
  },
  {
   "cell_type": "code",
   "execution_count": 388,
   "metadata": {},
   "outputs": [],
   "source": [
    "edges = edge_detection2(mo) \n",
    "db = grab_on_sig(edges,mo,db)"
   ]
  },
  {
   "cell_type": "code",
   "execution_count": 389,
   "metadata": {},
   "outputs": [],
   "source": [
    "l = len(db)\n",
    "mul = l-prev_len\n",
    "prev_len = l\n",
    "for x in range(mul):\n",
    "    name_db.append('mo')"
   ]
  },
  {
   "cell_type": "code",
   "execution_count": 390,
   "metadata": {},
   "outputs": [
    {
     "data": {
      "text/plain": [
       "1405"
      ]
     },
     "execution_count": 390,
     "metadata": {},
     "output_type": "execute_result"
    }
   ],
   "source": [
    "l"
   ]
  },
  {
   "cell_type": "code",
   "execution_count": 391,
   "metadata": {},
   "outputs": [
    {
     "data": {
      "text/plain": [
       "(1405, 1405)"
      ]
     },
     "execution_count": 391,
     "metadata": {},
     "output_type": "execute_result"
    }
   ],
   "source": [
    "len(db),len(name_db)"
   ]
  },
  {
   "cell_type": "code",
   "execution_count": 392,
   "metadata": {},
   "outputs": [],
   "source": [
    "from sklearn.ensemble import RandomForestClassifier\n",
    "from sklearn.model_selection import train_test_split"
   ]
  },
  {
   "cell_type": "code",
   "execution_count": 393,
   "metadata": {},
   "outputs": [],
   "source": [
    "db = np.array(db)"
   ]
  },
  {
   "cell_type": "code",
   "execution_count": 394,
   "metadata": {},
   "outputs": [],
   "source": [
    "db = db.reshape((l,SIG_SIZE))"
   ]
  },
  {
   "cell_type": "code",
   "execution_count": 395,
   "metadata": {},
   "outputs": [
    {
     "data": {
      "text/plain": [
       "(1405, 6)"
      ]
     },
     "execution_count": 395,
     "metadata": {},
     "output_type": "execute_result"
    }
   ],
   "source": [
    "db.shape"
   ]
  },
  {
   "cell_type": "code",
   "execution_count": 396,
   "metadata": {},
   "outputs": [],
   "source": [
    "X = db\n",
    "\n",
    "y = name_db"
   ]
  },
  {
   "cell_type": "code",
   "execution_count": 397,
   "metadata": {},
   "outputs": [],
   "source": [
    "X_train , X_test , y_train , y_test = train_test_split(X,y,test_size = 0.2,random_state=42)"
   ]
  },
  {
   "cell_type": "code",
   "execution_count": 398,
   "metadata": {},
   "outputs": [],
   "source": [
    "clf = RandomForestClassifier()"
   ]
  },
  {
   "cell_type": "code",
   "execution_count": 399,
   "metadata": {},
   "outputs": [
    {
     "data": {
      "text/plain": [
       "RandomForestClassifier()"
      ]
     },
     "execution_count": 399,
     "metadata": {},
     "output_type": "execute_result"
    }
   ],
   "source": [
    "clf.fit(X_train,y_train)"
   ]
  },
  {
   "cell_type": "code",
   "execution_count": 400,
   "metadata": {},
   "outputs": [],
   "source": [
    "preds = clf.predict(X_test)==y_test"
   ]
  },
  {
   "cell_type": "code",
   "execution_count": 401,
   "metadata": {},
   "outputs": [
    {
     "name": "stdout",
     "output_type": "stream",
     "text": [
      "Total number of predictions = 281\n",
      " Number of False predictions = 1\n",
      " Number of True predictions= 280\n",
      " Accuracy = 99.64%\n"
     ]
    }
   ],
   "source": [
    "print(f'Total number of predictions = {preds.size}\\n',\n",
    "      f'Number of {np.unique(preds,return_counts=True)[0][0]} predictions = {np.unique(preds,return_counts=True)[1][0]}\\n',\n",
    "      f'Number of {np.unique(preds,return_counts=True)[0][1]} predictions= {np.unique(preds,return_counts=True)[1][1]}\\n',\n",
    "      f'Accuracy = {(np.unique(preds,return_counts=True)[1][1])/(preds.size)*100:.2f}%')"
   ]
  },
  {
   "cell_type": "code",
   "execution_count": 402,
   "metadata": {},
   "outputs": [],
   "source": [
    "def on_off_decision(edges,device):\n",
    "    on_events = []\n",
    "    off_events = []\n",
    "    for x in edges:\n",
    "        if x in range(SIG_SIZE) or x >= edges[-1]-SIG_SIZE :\n",
    "            pass\n",
    "        else:\n",
    "            if np.mean(device[x:x+SIG_SIZE])>np.mean(device[x-SIG_SIZE:x]+THRSHLD): #device consuming more than 5kWh\n",
    "                on_events.append(x)\n",
    "            elif np.mean(device[x:x+SIG_SIZE])<np.mean(device[x-SIG_SIZE:x]-THRSHLD):\n",
    "                off_events.append(x)\n",
    "            else:\n",
    "                pass\n",
    "    return on_events"
   ]
  },
  {
   "cell_type": "code",
   "execution_count": 409,
   "metadata": {},
   "outputs": [],
   "source": [
    "e= edge_detection2(mains) # returns indexes "
   ]
  },
  {
   "cell_type": "code",
   "execution_count": 410,
   "metadata": {},
   "outputs": [
    {
     "data": {
      "text/plain": [
       "[9,\n",
       " 15,\n",
       " 109,\n",
       " 179,\n",
       " 180,\n",
       " 182,\n",
       " 211,\n",
       " 261,\n",
       " 309,\n",
       " 331,\n",
       " 354,\n",
       " 355,\n",
       " 371,\n",
       " 403,\n",
       " 404,\n",
       " 421,\n",
       " 709,\n",
       " 731]"
      ]
     },
     "execution_count": 410,
     "metadata": {},
     "output_type": "execute_result"
    }
   ],
   "source": [
    "e"
   ]
  },
  {
   "cell_type": "code",
   "execution_count": 431,
   "metadata": {},
   "outputs": [],
   "source": [
    "dbmains = []"
   ]
  },
  {
   "cell_type": "code",
   "execution_count": 432,
   "metadata": {},
   "outputs": [],
   "source": [
    "def grab_on_mains(edges,device,db):\n",
    "    df = []\n",
    "    for x in edges:\n",
    "        df.append(device[x:x+SIG_SIZE])\n",
    "        db.append(df)\n",
    "        df=[]\n",
    "    return db"
   ]
  },
  {
   "cell_type": "code",
   "execution_count": 433,
   "metadata": {},
   "outputs": [],
   "source": [
    "dbmains = grab_on_mains(e,mains,dbmains)"
   ]
  },
  {
   "cell_type": "code",
   "execution_count": 434,
   "metadata": {},
   "outputs": [],
   "source": [
    "l  = len(dbmains)"
   ]
  },
  {
   "cell_type": "code",
   "execution_count": 435,
   "metadata": {},
   "outputs": [
    {
     "data": {
      "text/plain": [
       "18"
      ]
     },
     "execution_count": 435,
     "metadata": {},
     "output_type": "execute_result"
    }
   ],
   "source": [
    "l"
   ]
  },
  {
   "cell_type": "code",
   "execution_count": 436,
   "metadata": {},
   "outputs": [],
   "source": [
    "dbmains = np.array(dbmains).reshape((l,SIG_SIZE))"
   ]
  },
  {
   "cell_type": "code",
   "execution_count": 437,
   "metadata": {},
   "outputs": [
    {
     "data": {
      "text/plain": [
       "array(['wm', 'mo', 'ir', 'wm', 'wm', 'wm', 'wm', 'wm', 'wm', 'wm', 'wm',\n",
       "       'wm', 'wm', 'wm', 'wm', 'wm', 'wm', 'wm'], dtype='<U2')"
      ]
     },
     "execution_count": 437,
     "metadata": {},
     "output_type": "execute_result"
    }
   ],
   "source": [
    "clf.predict(dbmains)"
   ]
  },
  {
   "cell_type": "code",
   "execution_count": 438,
   "metadata": {},
   "outputs": [],
   "source": [
    "main_preds = clf.predict(dbmains)"
   ]
  },
  {
   "cell_type": "code",
   "execution_count": null,
   "metadata": {},
   "outputs": [],
   "source": []
  },
  {
   "cell_type": "code",
   "execution_count": null,
   "metadata": {},
   "outputs": [],
   "source": []
  },
  {
   "cell_type": "code",
   "execution_count": null,
   "metadata": {},
   "outputs": [],
   "source": []
  },
  {
   "cell_type": "code",
   "execution_count": 327,
   "metadata": {},
   "outputs": [],
   "source": [
    "main_preds = clf.predict_proba(dbmains)"
   ]
  },
  {
   "cell_type": "code",
   "execution_count": 338,
   "metadata": {},
   "outputs": [],
   "source": [
    "main_preds = main_preds*100"
   ]
  },
  {
   "cell_type": "code",
   "execution_count": 341,
   "metadata": {},
   "outputs": [],
   "source": [
    "main_preds = main_preds.astype(int)"
   ]
  },
  {
   "cell_type": "code",
   "execution_count": 340,
   "metadata": {},
   "outputs": [
    {
     "data": {
      "text/plain": [
       "51"
      ]
     },
     "execution_count": 340,
     "metadata": {},
     "output_type": "execute_result"
    }
   ],
   "source": [
    "np.max(main_preds[0]).astype(int)"
   ]
  },
  {
   "cell_type": "code",
   "execution_count": 344,
   "metadata": {},
   "outputs": [],
   "source": [
    "z = np.where(np.max(x)<80 for x in main_preds)"
   ]
  },
  {
   "cell_type": "code",
   "execution_count": 349,
   "metadata": {},
   "outputs": [
    {
     "data": {
      "text/plain": [
       "51"
      ]
     },
     "execution_count": 349,
     "metadata": {},
     "output_type": "execute_result"
    }
   ],
   "source": [
    "np.max(main_preds[0])"
   ]
  },
  {
   "cell_type": "code",
   "execution_count": 440,
   "metadata": {},
   "outputs": [],
   "source": [
    "df = pd.DataFrame({'idx':e, 'preds':main_preds})"
   ]
  },
  {
   "cell_type": "code",
   "execution_count": 326,
   "metadata": {},
   "outputs": [
    {
     "data": {
      "text/plain": [
       "(    idx preds\n",
       " 0    10    ir\n",
       " 1   105    mo\n",
       " 2   110    ir\n",
       " 3   115    ir\n",
       " 4   175    ir\n",
       " 5   180    wm\n",
       " 6   185    wm\n",
       " 7   310    wm\n",
       " 8   330    wm\n",
       " 9   335    wm\n",
       " 10  370    wm\n",
       " 11  375    wm\n",
       " 12  405    wm\n",
       " 13  410    wm\n",
       " 14  705    wm\n",
       " 15  710    wm\n",
       " 16  715    wm,\n",
       " {'10': 'ac, tv',\n",
       "  '100': 'wm',\n",
       "  '150': 'fr',\n",
       "  '300': 'computer',\n",
       "  '310': 'iron',\n",
       "  '700': 'motor'})"
      ]
     },
     "execution_count": 326,
     "metadata": {},
     "output_type": "execute_result"
    }
   ],
   "source": [
    "df,ev"
   ]
  },
  {
   "cell_type": "markdown",
   "metadata": {},
   "source": [
    "# **make dummy mains**"
   ]
  },
  {
   "cell_type": "markdown",
   "metadata": {},
   "source": [
    "ac , wm , fr , cp , ir , tv , mo"
   ]
  },
  {
   "cell_type": "code",
   "execution_count": 403,
   "metadata": {},
   "outputs": [],
   "source": [
    "ac_test = ac[:1000]\n",
    "wm_test = wm[:1000]\n",
    "fr_test = fr[:1000]\n",
    "cp_test = cp[:1000]\n",
    "ir_test = ir[:1000]\n",
    "tv_test = tv[:1000]\n",
    "mo_test = mo[:1000]"
   ]
  },
  {
   "cell_type": "code",
   "execution_count": 404,
   "metadata": {},
   "outputs": [],
   "source": [
    "ac_test[100:200] += wm_test[100:200]\n",
    "ac_test[150:250] += fr_test[150:250]\n",
    "ac_test[300:400] += cp_test[300:400]\n",
    "ac_test[310:410] += ir_test[310:410]\n",
    "ac_test[:200] += tv_test[:200]\n",
    "ac_test[700:800] += mo_test[700:800]"
   ]
  },
  {
   "cell_type": "code",
   "execution_count": 405,
   "metadata": {},
   "outputs": [],
   "source": [
    "mains = ac_test"
   ]
  },
  {
   "cell_type": "code",
   "execution_count": 406,
   "metadata": {},
   "outputs": [],
   "source": [
    "for x in range(10):\n",
    "    mains = np.insert(mains,0,0)"
   ]
  },
  {
   "cell_type": "code",
   "execution_count": 407,
   "metadata": {},
   "outputs": [],
   "source": [
    "ev = {'10':'ac, tv',\n",
    "      '100': 'wm',\n",
    "     '150':'fr',\n",
    "     '300': 'computer',\n",
    "     '310':'iron',\n",
    "     '700':'motor'}"
   ]
  },
  {
   "cell_type": "code",
   "execution_count": 408,
   "metadata": {},
   "outputs": [
    {
     "data": {
      "text/plain": [
       "[<matplotlib.lines.Line2D at 0x1df00e44240>]"
      ]
     },
     "execution_count": 408,
     "metadata": {},
     "output_type": "execute_result"
    },
    {
     "data": {
      "image/png": "[encoded data removed]",
      "text/plain": [
       "<Figure size 432x288 with 1 Axes>"
      ]
     },
     "metadata": {
      "needs_background": "light"
     },
     "output_type": "display_data"
    }
   ],
   "source": [
    "plt.plot(mains)"
   ]
  },
  {
   "cell_type": "code",
   "execution_count": null,
   "metadata": {},
   "outputs": [],
   "source": []
  }
 ],
 "metadata": {
  "kernelspec": {
   "display_name": "Python 3",
   "language": "python",
   "name": "python3"
  },
  "language_info": {
   "codemirror_mode": {
    "name": "ipython",
    "version": 3
   },
   "file_extension": ".py",
   "mimetype": "text/x-python",
   "name": "python",
   "nbconvert_exporter": "python",
   "pygments_lexer": "ipython3",
   "version": "3.6.11"
  }
 },
 "nbformat": 4,
 "nbformat_minor": 4
}
